{
  "nbformat": 4,
  "nbformat_minor": 0,
  "metadata": {
    "colab": {
      "name": "RespDesafiosAula3.ipynb",
      "provenance": [],
      "collapsed_sections": [
        "hcsUcCBWdjZP",
        "OwdGVMoJeJVb",
        "zHGhBwyVplir",
        "gUgeTCjkrgv4",
        "a0Ww0kLDCLLG",
        "MC_SE1G6DyN4",
        "ZwJHCabwD_0t",
        "hZvZ34HyEhLT",
        "m4RitucrE8Re",
        "SDH4vjxZpwrM",
        "2PcspSJBssTK",
        "bPcDyS63tgG4",
        "ly1Tn53KtvLy",
        "4DWyCjXmp0oE",
        "F1vbpLIZp4y5"
      ]
    },
    "kernelspec": {
      "name": "python3",
      "display_name": "Python 3"
    }
  },
  "cells": [
    {
      "cell_type": "markdown",
      "metadata": {
        "id": "_Y8uVpPQcNTI",
        "colab_type": "text"
      },
      "source": [
        "# Respostas dos desafios da aula 3"
      ]
    },
    {
      "cell_type": "markdown",
      "metadata": {
        "id": "hcsUcCBWdjZP",
        "colab_type": "text"
      },
      "source": [
        "## Obtenção dos dados"
      ]
    },
    {
      "cell_type": "code",
      "metadata": {
        "id": "1Y4OS_xccTHh",
        "colab_type": "code",
        "colab": {}
      },
      "source": [
        "import pandas as pd\n",
        "import matplotlib.pyplot as plt\n",
        "import seaborn as sns\n",
        "sns.set_style(\"whitegrid\")"
      ],
      "execution_count": 0,
      "outputs": []
    },
    {
      "cell_type": "code",
      "metadata": {
        "id": "kHL65YnGchyr",
        "colab_type": "code",
        "colab": {
          "base_uri": "https://localhost:8080/",
          "height": 417
        },
        "outputId": "192bf721-1ad5-4459-f195-ec2d38330126"
      },
      "source": [
        "imdb = pd.read_csv(\"https://gist.githubusercontent.com/guilhermesilveira/24e271e68afe8fd257911217b88b2e07/raw/e70287fb1dcaad4215c3f3c9deda644058a616bc/movie_metadata.csv\")\n",
        "imdb.head()"
      ],
      "execution_count": 35,
      "outputs": [
        {
          "output_type": "execute_result",
          "data": {
            "text/html": [
              "<div>\n",
              "<style scoped>\n",
              "    .dataframe tbody tr th:only-of-type {\n",
              "        vertical-align: middle;\n",
              "    }\n",
              "\n",
              "    .dataframe tbody tr th {\n",
              "        vertical-align: top;\n",
              "    }\n",
              "\n",
              "    .dataframe thead th {\n",
              "        text-align: right;\n",
              "    }\n",
              "</style>\n",
              "<table border=\"1\" class=\"dataframe\">\n",
              "  <thead>\n",
              "    <tr style=\"text-align: right;\">\n",
              "      <th></th>\n",
              "      <th>color</th>\n",
              "      <th>director_name</th>\n",
              "      <th>num_critic_for_reviews</th>\n",
              "      <th>duration</th>\n",
              "      <th>director_facebook_likes</th>\n",
              "      <th>actor_3_facebook_likes</th>\n",
              "      <th>actor_2_name</th>\n",
              "      <th>actor_1_facebook_likes</th>\n",
              "      <th>gross</th>\n",
              "      <th>genres</th>\n",
              "      <th>actor_1_name</th>\n",
              "      <th>movie_title</th>\n",
              "      <th>num_voted_users</th>\n",
              "      <th>cast_total_facebook_likes</th>\n",
              "      <th>actor_3_name</th>\n",
              "      <th>facenumber_in_poster</th>\n",
              "      <th>plot_keywords</th>\n",
              "      <th>movie_imdb_link</th>\n",
              "      <th>num_user_for_reviews</th>\n",
              "      <th>language</th>\n",
              "      <th>country</th>\n",
              "      <th>content_rating</th>\n",
              "      <th>budget</th>\n",
              "      <th>title_year</th>\n",
              "      <th>actor_2_facebook_likes</th>\n",
              "      <th>imdb_score</th>\n",
              "      <th>aspect_ratio</th>\n",
              "      <th>movie_facebook_likes</th>\n",
              "    </tr>\n",
              "  </thead>\n",
              "  <tbody>\n",
              "    <tr>\n",
              "      <th>0</th>\n",
              "      <td>Color</td>\n",
              "      <td>James Cameron</td>\n",
              "      <td>723.0</td>\n",
              "      <td>178.0</td>\n",
              "      <td>0.0</td>\n",
              "      <td>855.0</td>\n",
              "      <td>Joel David Moore</td>\n",
              "      <td>1000.0</td>\n",
              "      <td>760505847.0</td>\n",
              "      <td>Action|Adventure|Fantasy|Sci-Fi</td>\n",
              "      <td>CCH Pounder</td>\n",
              "      <td>Avatar</td>\n",
              "      <td>886204</td>\n",
              "      <td>4834</td>\n",
              "      <td>Wes Studi</td>\n",
              "      <td>0.0</td>\n",
              "      <td>avatar|future|marine|native|paraplegic</td>\n",
              "      <td>http://www.imdb.com/title/tt0499549/?ref_=fn_t...</td>\n",
              "      <td>3054.0</td>\n",
              "      <td>English</td>\n",
              "      <td>USA</td>\n",
              "      <td>PG-13</td>\n",
              "      <td>237000000.0</td>\n",
              "      <td>2009.0</td>\n",
              "      <td>936.0</td>\n",
              "      <td>7.9</td>\n",
              "      <td>1.78</td>\n",
              "      <td>33000</td>\n",
              "    </tr>\n",
              "    <tr>\n",
              "      <th>1</th>\n",
              "      <td>Color</td>\n",
              "      <td>Gore Verbinski</td>\n",
              "      <td>302.0</td>\n",
              "      <td>169.0</td>\n",
              "      <td>563.0</td>\n",
              "      <td>1000.0</td>\n",
              "      <td>Orlando Bloom</td>\n",
              "      <td>40000.0</td>\n",
              "      <td>309404152.0</td>\n",
              "      <td>Action|Adventure|Fantasy</td>\n",
              "      <td>Johnny Depp</td>\n",
              "      <td>Pirates of the Caribbean: At World's End</td>\n",
              "      <td>471220</td>\n",
              "      <td>48350</td>\n",
              "      <td>Jack Davenport</td>\n",
              "      <td>0.0</td>\n",
              "      <td>goddess|marriage ceremony|marriage proposal|pi...</td>\n",
              "      <td>http://www.imdb.com/title/tt0449088/?ref_=fn_t...</td>\n",
              "      <td>1238.0</td>\n",
              "      <td>English</td>\n",
              "      <td>USA</td>\n",
              "      <td>PG-13</td>\n",
              "      <td>300000000.0</td>\n",
              "      <td>2007.0</td>\n",
              "      <td>5000.0</td>\n",
              "      <td>7.1</td>\n",
              "      <td>2.35</td>\n",
              "      <td>0</td>\n",
              "    </tr>\n",
              "    <tr>\n",
              "      <th>2</th>\n",
              "      <td>Color</td>\n",
              "      <td>Sam Mendes</td>\n",
              "      <td>602.0</td>\n",
              "      <td>148.0</td>\n",
              "      <td>0.0</td>\n",
              "      <td>161.0</td>\n",
              "      <td>Rory Kinnear</td>\n",
              "      <td>11000.0</td>\n",
              "      <td>200074175.0</td>\n",
              "      <td>Action|Adventure|Thriller</td>\n",
              "      <td>Christoph Waltz</td>\n",
              "      <td>Spectre</td>\n",
              "      <td>275868</td>\n",
              "      <td>11700</td>\n",
              "      <td>Stephanie Sigman</td>\n",
              "      <td>1.0</td>\n",
              "      <td>bomb|espionage|sequel|spy|terrorist</td>\n",
              "      <td>http://www.imdb.com/title/tt2379713/?ref_=fn_t...</td>\n",
              "      <td>994.0</td>\n",
              "      <td>English</td>\n",
              "      <td>UK</td>\n",
              "      <td>PG-13</td>\n",
              "      <td>245000000.0</td>\n",
              "      <td>2015.0</td>\n",
              "      <td>393.0</td>\n",
              "      <td>6.8</td>\n",
              "      <td>2.35</td>\n",
              "      <td>85000</td>\n",
              "    </tr>\n",
              "    <tr>\n",
              "      <th>3</th>\n",
              "      <td>Color</td>\n",
              "      <td>Christopher Nolan</td>\n",
              "      <td>813.0</td>\n",
              "      <td>164.0</td>\n",
              "      <td>22000.0</td>\n",
              "      <td>23000.0</td>\n",
              "      <td>Christian Bale</td>\n",
              "      <td>27000.0</td>\n",
              "      <td>448130642.0</td>\n",
              "      <td>Action|Thriller</td>\n",
              "      <td>Tom Hardy</td>\n",
              "      <td>The Dark Knight Rises</td>\n",
              "      <td>1144337</td>\n",
              "      <td>106759</td>\n",
              "      <td>Joseph Gordon-Levitt</td>\n",
              "      <td>0.0</td>\n",
              "      <td>deception|imprisonment|lawlessness|police offi...</td>\n",
              "      <td>http://www.imdb.com/title/tt1345836/?ref_=fn_t...</td>\n",
              "      <td>2701.0</td>\n",
              "      <td>English</td>\n",
              "      <td>USA</td>\n",
              "      <td>PG-13</td>\n",
              "      <td>250000000.0</td>\n",
              "      <td>2012.0</td>\n",
              "      <td>23000.0</td>\n",
              "      <td>8.5</td>\n",
              "      <td>2.35</td>\n",
              "      <td>164000</td>\n",
              "    </tr>\n",
              "    <tr>\n",
              "      <th>4</th>\n",
              "      <td>NaN</td>\n",
              "      <td>Doug Walker</td>\n",
              "      <td>NaN</td>\n",
              "      <td>NaN</td>\n",
              "      <td>131.0</td>\n",
              "      <td>NaN</td>\n",
              "      <td>Rob Walker</td>\n",
              "      <td>131.0</td>\n",
              "      <td>NaN</td>\n",
              "      <td>Documentary</td>\n",
              "      <td>Doug Walker</td>\n",
              "      <td>Star Wars: Episode VII - The Force Awakens    ...</td>\n",
              "      <td>8</td>\n",
              "      <td>143</td>\n",
              "      <td>NaN</td>\n",
              "      <td>0.0</td>\n",
              "      <td>NaN</td>\n",
              "      <td>http://www.imdb.com/title/tt5289954/?ref_=fn_t...</td>\n",
              "      <td>NaN</td>\n",
              "      <td>NaN</td>\n",
              "      <td>NaN</td>\n",
              "      <td>NaN</td>\n",
              "      <td>NaN</td>\n",
              "      <td>NaN</td>\n",
              "      <td>12.0</td>\n",
              "      <td>7.1</td>\n",
              "      <td>NaN</td>\n",
              "      <td>0</td>\n",
              "    </tr>\n",
              "  </tbody>\n",
              "</table>\n",
              "</div>"
            ],
            "text/plain": [
              "   color      director_name  ...  aspect_ratio  movie_facebook_likes\n",
              "0  Color      James Cameron  ...          1.78                 33000\n",
              "1  Color     Gore Verbinski  ...          2.35                     0\n",
              "2  Color         Sam Mendes  ...          2.35                 85000\n",
              "3  Color  Christopher Nolan  ...          2.35                164000\n",
              "4    NaN        Doug Walker  ...           NaN                     0\n",
              "\n",
              "[5 rows x 28 columns]"
            ]
          },
          "metadata": {
            "tags": []
          },
          "execution_count": 35
        }
      ]
    },
    {
      "cell_type": "code",
      "metadata": {
        "id": "c_ZlSf7_coLz",
        "colab_type": "code",
        "colab": {
          "base_uri": "https://localhost:8080/",
          "height": 400
        },
        "outputId": "bd07ae97-8928-4899-c0c8-7f73484ddfe2"
      },
      "source": [
        "imdb = imdb.drop_duplicates()\n",
        "imdb_usa = imdb.query(\"country == 'USA'\")\n",
        "imdb_usa.sort_values(\"budget\", ascending=False).head()"
      ],
      "execution_count": 36,
      "outputs": [
        {
          "output_type": "execute_result",
          "data": {
            "text/html": [
              "<div>\n",
              "<style scoped>\n",
              "    .dataframe tbody tr th:only-of-type {\n",
              "        vertical-align: middle;\n",
              "    }\n",
              "\n",
              "    .dataframe tbody tr th {\n",
              "        vertical-align: top;\n",
              "    }\n",
              "\n",
              "    .dataframe thead th {\n",
              "        text-align: right;\n",
              "    }\n",
              "</style>\n",
              "<table border=\"1\" class=\"dataframe\">\n",
              "  <thead>\n",
              "    <tr style=\"text-align: right;\">\n",
              "      <th></th>\n",
              "      <th>color</th>\n",
              "      <th>director_name</th>\n",
              "      <th>num_critic_for_reviews</th>\n",
              "      <th>duration</th>\n",
              "      <th>director_facebook_likes</th>\n",
              "      <th>actor_3_facebook_likes</th>\n",
              "      <th>actor_2_name</th>\n",
              "      <th>actor_1_facebook_likes</th>\n",
              "      <th>gross</th>\n",
              "      <th>genres</th>\n",
              "      <th>actor_1_name</th>\n",
              "      <th>movie_title</th>\n",
              "      <th>num_voted_users</th>\n",
              "      <th>cast_total_facebook_likes</th>\n",
              "      <th>actor_3_name</th>\n",
              "      <th>facenumber_in_poster</th>\n",
              "      <th>plot_keywords</th>\n",
              "      <th>movie_imdb_link</th>\n",
              "      <th>num_user_for_reviews</th>\n",
              "      <th>language</th>\n",
              "      <th>country</th>\n",
              "      <th>content_rating</th>\n",
              "      <th>budget</th>\n",
              "      <th>title_year</th>\n",
              "      <th>actor_2_facebook_likes</th>\n",
              "      <th>imdb_score</th>\n",
              "      <th>aspect_ratio</th>\n",
              "      <th>movie_facebook_likes</th>\n",
              "    </tr>\n",
              "  </thead>\n",
              "  <tbody>\n",
              "    <tr>\n",
              "      <th>1</th>\n",
              "      <td>Color</td>\n",
              "      <td>Gore Verbinski</td>\n",
              "      <td>302.0</td>\n",
              "      <td>169.0</td>\n",
              "      <td>563.0</td>\n",
              "      <td>1000.0</td>\n",
              "      <td>Orlando Bloom</td>\n",
              "      <td>40000.0</td>\n",
              "      <td>309404152.0</td>\n",
              "      <td>Action|Adventure|Fantasy</td>\n",
              "      <td>Johnny Depp</td>\n",
              "      <td>Pirates of the Caribbean: At World's End</td>\n",
              "      <td>471220</td>\n",
              "      <td>48350</td>\n",
              "      <td>Jack Davenport</td>\n",
              "      <td>0.0</td>\n",
              "      <td>goddess|marriage ceremony|marriage proposal|pi...</td>\n",
              "      <td>http://www.imdb.com/title/tt0449088/?ref_=fn_t...</td>\n",
              "      <td>1238.0</td>\n",
              "      <td>English</td>\n",
              "      <td>USA</td>\n",
              "      <td>PG-13</td>\n",
              "      <td>300000000.0</td>\n",
              "      <td>2007.0</td>\n",
              "      <td>5000.0</td>\n",
              "      <td>7.1</td>\n",
              "      <td>2.35</td>\n",
              "      <td>0</td>\n",
              "    </tr>\n",
              "    <tr>\n",
              "      <th>5</th>\n",
              "      <td>Color</td>\n",
              "      <td>Andrew Stanton</td>\n",
              "      <td>462.0</td>\n",
              "      <td>132.0</td>\n",
              "      <td>475.0</td>\n",
              "      <td>530.0</td>\n",
              "      <td>Samantha Morton</td>\n",
              "      <td>640.0</td>\n",
              "      <td>73058679.0</td>\n",
              "      <td>Action|Adventure|Sci-Fi</td>\n",
              "      <td>Daryl Sabara</td>\n",
              "      <td>John Carter</td>\n",
              "      <td>212204</td>\n",
              "      <td>1873</td>\n",
              "      <td>Polly Walker</td>\n",
              "      <td>1.0</td>\n",
              "      <td>alien|american civil war|male nipple|mars|prin...</td>\n",
              "      <td>http://www.imdb.com/title/tt0401729/?ref_=fn_t...</td>\n",
              "      <td>738.0</td>\n",
              "      <td>English</td>\n",
              "      <td>USA</td>\n",
              "      <td>PG-13</td>\n",
              "      <td>263700000.0</td>\n",
              "      <td>2012.0</td>\n",
              "      <td>632.0</td>\n",
              "      <td>6.6</td>\n",
              "      <td>2.35</td>\n",
              "      <td>24000</td>\n",
              "    </tr>\n",
              "    <tr>\n",
              "      <th>7</th>\n",
              "      <td>Color</td>\n",
              "      <td>Nathan Greno</td>\n",
              "      <td>324.0</td>\n",
              "      <td>100.0</td>\n",
              "      <td>15.0</td>\n",
              "      <td>284.0</td>\n",
              "      <td>Donna Murphy</td>\n",
              "      <td>799.0</td>\n",
              "      <td>200807262.0</td>\n",
              "      <td>Adventure|Animation|Comedy|Family|Fantasy|Musi...</td>\n",
              "      <td>Brad Garrett</td>\n",
              "      <td>Tangled</td>\n",
              "      <td>294810</td>\n",
              "      <td>2036</td>\n",
              "      <td>M.C. Gainey</td>\n",
              "      <td>1.0</td>\n",
              "      <td>17th century|based on fairy tale|disney|flower...</td>\n",
              "      <td>http://www.imdb.com/title/tt0398286/?ref_=fn_t...</td>\n",
              "      <td>387.0</td>\n",
              "      <td>English</td>\n",
              "      <td>USA</td>\n",
              "      <td>PG</td>\n",
              "      <td>260000000.0</td>\n",
              "      <td>2010.0</td>\n",
              "      <td>553.0</td>\n",
              "      <td>7.8</td>\n",
              "      <td>1.85</td>\n",
              "      <td>29000</td>\n",
              "    </tr>\n",
              "    <tr>\n",
              "      <th>6</th>\n",
              "      <td>Color</td>\n",
              "      <td>Sam Raimi</td>\n",
              "      <td>392.0</td>\n",
              "      <td>156.0</td>\n",
              "      <td>0.0</td>\n",
              "      <td>4000.0</td>\n",
              "      <td>James Franco</td>\n",
              "      <td>24000.0</td>\n",
              "      <td>336530303.0</td>\n",
              "      <td>Action|Adventure|Romance</td>\n",
              "      <td>J.K. Simmons</td>\n",
              "      <td>Spider-Man 3</td>\n",
              "      <td>383056</td>\n",
              "      <td>46055</td>\n",
              "      <td>Kirsten Dunst</td>\n",
              "      <td>0.0</td>\n",
              "      <td>sandman|spider man|symbiote|venom|villain</td>\n",
              "      <td>http://www.imdb.com/title/tt0413300/?ref_=fn_t...</td>\n",
              "      <td>1902.0</td>\n",
              "      <td>English</td>\n",
              "      <td>USA</td>\n",
              "      <td>PG-13</td>\n",
              "      <td>258000000.0</td>\n",
              "      <td>2007.0</td>\n",
              "      <td>11000.0</td>\n",
              "      <td>6.2</td>\n",
              "      <td>2.35</td>\n",
              "      <td>0</td>\n",
              "    </tr>\n",
              "    <tr>\n",
              "      <th>3461</th>\n",
              "      <td>Color</td>\n",
              "      <td>Sam Raimi</td>\n",
              "      <td>392.0</td>\n",
              "      <td>156.0</td>\n",
              "      <td>0.0</td>\n",
              "      <td>4000.0</td>\n",
              "      <td>James Franco</td>\n",
              "      <td>24000.0</td>\n",
              "      <td>336530303.0</td>\n",
              "      <td>Action|Adventure|Romance</td>\n",
              "      <td>J.K. Simmons</td>\n",
              "      <td>Spider-Man 3</td>\n",
              "      <td>383071</td>\n",
              "      <td>46055</td>\n",
              "      <td>Kirsten Dunst</td>\n",
              "      <td>0.0</td>\n",
              "      <td>sandman|spider man|symbiote|venom|villain</td>\n",
              "      <td>http://www.imdb.com/title/tt0413300/?ref_=fn_t...</td>\n",
              "      <td>1902.0</td>\n",
              "      <td>English</td>\n",
              "      <td>USA</td>\n",
              "      <td>PG-13</td>\n",
              "      <td>258000000.0</td>\n",
              "      <td>2007.0</td>\n",
              "      <td>11000.0</td>\n",
              "      <td>6.2</td>\n",
              "      <td>2.35</td>\n",
              "      <td>0</td>\n",
              "    </tr>\n",
              "  </tbody>\n",
              "</table>\n",
              "</div>"
            ],
            "text/plain": [
              "      color   director_name  ...  aspect_ratio  movie_facebook_likes\n",
              "1     Color  Gore Verbinski  ...          2.35                     0\n",
              "5     Color  Andrew Stanton  ...          2.35                 24000\n",
              "7     Color    Nathan Greno  ...          1.85                 29000\n",
              "6     Color       Sam Raimi  ...          2.35                     0\n",
              "3461  Color       Sam Raimi  ...          2.35                     0\n",
              "\n",
              "[5 rows x 28 columns]"
            ]
          },
          "metadata": {
            "tags": []
          },
          "execution_count": 36
        }
      ]
    },
    {
      "cell_type": "code",
      "metadata": {
        "id": "2DVTftH1eaFY",
        "colab_type": "code",
        "colab": {
          "base_uri": "https://localhost:8080/",
          "height": 127
        },
        "outputId": "a5c4143a-e0fc-4afc-b2e2-0a3ef0c1fb7a"
      },
      "source": [
        "imdb_usa['lucro'] = imdb_usa['gross'] - imdb_usa['budget']"
      ],
      "execution_count": 37,
      "outputs": [
        {
          "output_type": "stream",
          "text": [
            "/usr/local/lib/python3.6/dist-packages/ipykernel_launcher.py:1: SettingWithCopyWarning: \n",
            "A value is trying to be set on a copy of a slice from a DataFrame.\n",
            "Try using .loc[row_indexer,col_indexer] = value instead\n",
            "\n",
            "See the caveats in the documentation: https://pandas.pydata.org/pandas-docs/stable/user_guide/indexing.html#returning-a-view-versus-a-copy\n",
            "  \"\"\"Entry point for launching an IPython kernel.\n"
          ],
          "name": "stderr"
        }
      ]
    },
    {
      "cell_type": "markdown",
      "metadata": {
        "id": "54xJbhoRdqmc",
        "colab_type": "text"
      },
      "source": [
        "# Desafios"
      ]
    },
    {
      "cell_type": "markdown",
      "metadata": {
        "id": "OwdGVMoJeJVb",
        "colab_type": "text"
      },
      "source": [
        "## Desafio 1 do Thiago Gonçalves\n",
        "\n",
        "Plotar e analisar o Boxplot da média (coluna imbd_score) dos filmes em preto e branco e coloridos."
      ]
    },
    {
      "cell_type": "code",
      "metadata": {
        "id": "NKvnPTd1M9bM",
        "colab_type": "code",
        "outputId": "1e0f9060-5db6-4b01-b586-9790c9ef6531",
        "colab": {
          "base_uri": "https://localhost:8080/",
          "height": 90
        }
      },
      "source": [
        "dtf_des1 = imdb_usa[[\"imdb_score\", \"color\"]].dropna()\n",
        "\n",
        "dtf_des1.groupby(by=\"color\")[\"imdb_score\"].count()"
      ],
      "execution_count": 38,
      "outputs": [
        {
          "output_type": "execute_result",
          "data": {
            "text/plain": [
              "color\n",
              " Black and White     148\n",
              "Color               3611\n",
              "Name: imdb_score, dtype: int64"
            ]
          },
          "metadata": {
            "tags": []
          },
          "execution_count": 38
        }
      ]
    },
    {
      "cell_type": "code",
      "metadata": {
        "id": "PHbnST6KOoxC",
        "colab_type": "code",
        "outputId": "ea249626-716b-412f-a437-d4ac77a71d52",
        "colab": {
          "base_uri": "https://localhost:8080/",
          "height": 72
        }
      },
      "source": [
        "dtf_des1[\"color\"].value_counts(normalize=True)"
      ],
      "execution_count": 39,
      "outputs": [
        {
          "output_type": "execute_result",
          "data": {
            "text/plain": [
              "Color               0.960628\n",
              " Black and White    0.039372\n",
              "Name: color, dtype: float64"
            ]
          },
          "metadata": {
            "tags": []
          },
          "execution_count": 39
        }
      ]
    },
    {
      "cell_type": "code",
      "metadata": {
        "id": "CplppW23LU_2",
        "colab_type": "code",
        "outputId": "e2d0c7a9-1a9e-4cc1-a0e6-1513d9cee85c",
        "colab": {
          "base_uri": "https://localhost:8080/",
          "height": 497
        }
      },
      "source": [
        "plt.figure(figsize=(8,8))\n",
        "\n",
        "#sns.boxplot(data = dtf_des1.query(\"color == 'Color'\"), x =\"color\", y=\"imdb_score\")\n",
        "sns.boxplot(data = dtf_des1, x =\"color\", y=\"imdb_score\")\n",
        "\n",
        "plt.show()"
      ],
      "execution_count": 40,
      "outputs": [
        {
          "output_type": "display_data",
          "data": {
            "image/png": "[encoded data removed]",
            "text/plain": [
              "<Figure size 576x576 with 1 Axes>"
            ]
          },
          "metadata": {
            "tags": []
          }
        }
      ]
    },
    {
      "cell_type": "code",
      "metadata": {
        "id": "WDkPXpdOP-u2",
        "colab_type": "code",
        "outputId": "20fed0f0-5df2-4e4c-f29b-94d9dcb3129b",
        "colab": {
          "base_uri": "https://localhost:8080/",
          "height": 182
        }
      },
      "source": [
        "dtf_des1[\"imdb_score\"].describe()"
      ],
      "execution_count": 41,
      "outputs": [
        {
          "output_type": "execute_result",
          "data": {
            "text/plain": [
              "count    3759.000000\n",
              "mean        6.369380\n",
              "std         1.121314\n",
              "min         1.600000\n",
              "25%         5.700000\n",
              "50%         6.500000\n",
              "75%         7.100000\n",
              "max         9.300000\n",
              "Name: imdb_score, dtype: float64"
            ]
          },
          "metadata": {
            "tags": []
          },
          "execution_count": 41
        }
      ]
    },
    {
      "cell_type": "markdown",
      "metadata": {
        "id": "K6Ku45b2MzEI",
        "colab_type": "text"
      },
      "source": [
        "No dataset que está sendo estudado existem muito mais dados de filme coloridos do que em preto em branco, logo os filmes em coloridos para este dataset tiveram mais avaliações.\n",
        "\n",
        "Dos filmes em cores, 50% das avaliações, as médias de notas estão entre 5,5 e 7.5 em uma escala 1 até 10 (de acordo com as informações do *describe()* do campo). Sendo que existem muitos *outliers* além do limite inferior, algo pert ode 3,8.\n",
        "\n",
        "Dos filmes em preto e branco, 50% das avaliações estão 6,5 e 8. Não apresenta praticamente *outliers*. \n",
        "\n",
        "Apesar dos filmes em preto e branco apresentarem um valor de nota média mais alto do que os filmes coloridos, deve-se salientar que eles apresentam poucas avaliações em comparação com os filmes em cores. Talvez se ambos os tipos de filmes tivesses um número semelhante de avaliações, a distribuição dos dados fosse diferente.\n"
      ]
    },
    {
      "cell_type": "markdown",
      "metadata": {
        "id": "zHGhBwyVplir",
        "colab_type": "text"
      },
      "source": [
        "##Desafio 2 do [Guilherme Silveira](https://twitter.com/guilhermecaelum)\n",
        "\n",
        "No gráfico de **budget por lucro** temos um ponto com muito custo e prejuizo, descubra com é esse filme (budget próximo de 2.5)."
      ]
    },
    {
      "cell_type": "markdown",
      "metadata": {
        "id": "HogV9k8xIwXa",
        "colab_type": "text"
      },
      "source": [
        "Gráfico citado."
      ]
    },
    {
      "cell_type": "code",
      "metadata": {
        "id": "MV2H1cmpIDcJ",
        "colab_type": "code",
        "outputId": "cb385790-585e-4c1b-f5be-dbe5095a26b9",
        "colab": {
          "base_uri": "https://localhost:8080/",
          "height": 308
        }
      },
      "source": [
        "dtf_des2 = imdb_usa.query(\"budget >0 | gross > 0\")[[\"budget\", \"lucro\", \"movie_title\"]].dropna()\n",
        "\n",
        "sns.scatterplot(x=\"budget\", y=\"lucro\", data = dtf_des2)"
      ],
      "execution_count": 42,
      "outputs": [
        {
          "output_type": "execute_result",
          "data": {
            "text/plain": [
              "<matplotlib.axes._subplots.AxesSubplot at 0x7f8e4ed15438>"
            ]
          },
          "metadata": {
            "tags": []
          },
          "execution_count": 42
        },
        {
          "output_type": "display_data",
          "data": {
            "image/png": "[encoded data removed]",
            "text/plain": [
              "<Figure size 432x288 with 1 Axes>"
            ]
          },
          "metadata": {
            "tags": []
          }
        }
      ]
    },
    {
      "cell_type": "code",
      "metadata": {
        "id": "mpu59ThXID19",
        "colab_type": "code",
        "outputId": "eb4709e5-d45a-46dc-db59-658918a2ac0d",
        "colab": {
          "base_uri": "https://localhost:8080/",
          "height": 424
        }
      },
      "source": [
        "dtf_des2.sort_values(by=[\"lucro\",\"budget\"], ascending=[True, False])"
      ],
      "execution_count": 43,
      "outputs": [
        {
          "output_type": "execute_result",
          "data": {
            "text/html": [
              "<div>\n",
              "<style scoped>\n",
              "    .dataframe tbody tr th:only-of-type {\n",
              "        vertical-align: middle;\n",
              "    }\n",
              "\n",
              "    .dataframe tbody tr th {\n",
              "        vertical-align: top;\n",
              "    }\n",
              "\n",
              "    .dataframe thead th {\n",
              "        text-align: right;\n",
              "    }\n",
              "</style>\n",
              "<table border=\"1\" class=\"dataframe\">\n",
              "  <thead>\n",
              "    <tr style=\"text-align: right;\">\n",
              "      <th></th>\n",
              "      <th>budget</th>\n",
              "      <th>lucro</th>\n",
              "      <th>movie_title</th>\n",
              "    </tr>\n",
              "  </thead>\n",
              "  <tbody>\n",
              "    <tr>\n",
              "      <th>5</th>\n",
              "      <td>263700000.0</td>\n",
              "      <td>-190641321.0</td>\n",
              "      <td>John Carter</td>\n",
              "    </tr>\n",
              "    <tr>\n",
              "      <th>91</th>\n",
              "      <td>165000000.0</td>\n",
              "      <td>-164334574.0</td>\n",
              "      <td>The Polar Express</td>\n",
              "    </tr>\n",
              "    <tr>\n",
              "      <th>28</th>\n",
              "      <td>209000000.0</td>\n",
              "      <td>-143826840.0</td>\n",
              "      <td>Battleship</td>\n",
              "    </tr>\n",
              "    <tr>\n",
              "      <th>85</th>\n",
              "      <td>175000000.0</td>\n",
              "      <td>-136702695.0</td>\n",
              "      <td>47 Ronin</td>\n",
              "    </tr>\n",
              "    <tr>\n",
              "      <th>49</th>\n",
              "      <td>195000000.0</td>\n",
              "      <td>-129828140.0</td>\n",
              "      <td>Jack the Giant Slayer</td>\n",
              "    </tr>\n",
              "    <tr>\n",
              "      <th>...</th>\n",
              "      <td>...</td>\n",
              "      <td>...</td>\n",
              "      <td>...</td>\n",
              "    </tr>\n",
              "    <tr>\n",
              "      <th>3080</th>\n",
              "      <td>10500000.0</td>\n",
              "      <td>424449459.0</td>\n",
              "      <td>E.T. the Extra-Terrestrial</td>\n",
              "    </tr>\n",
              "    <tr>\n",
              "      <th>3024</th>\n",
              "      <td>11000000.0</td>\n",
              "      <td>449935665.0</td>\n",
              "      <td>Star Wars: Episode IV - A New Hope</td>\n",
              "    </tr>\n",
              "    <tr>\n",
              "      <th>26</th>\n",
              "      <td>200000000.0</td>\n",
              "      <td>458672302.0</td>\n",
              "      <td>Titanic</td>\n",
              "    </tr>\n",
              "    <tr>\n",
              "      <th>29</th>\n",
              "      <td>150000000.0</td>\n",
              "      <td>502177271.0</td>\n",
              "      <td>Jurassic World</td>\n",
              "    </tr>\n",
              "    <tr>\n",
              "      <th>0</th>\n",
              "      <td>237000000.0</td>\n",
              "      <td>523505847.0</td>\n",
              "      <td>Avatar</td>\n",
              "    </tr>\n",
              "  </tbody>\n",
              "</table>\n",
              "<p>3047 rows × 3 columns</p>\n",
              "</div>"
            ],
            "text/plain": [
              "           budget        lucro                          movie_title\n",
              "5     263700000.0 -190641321.0                         John Carter \n",
              "91    165000000.0 -164334574.0                   The Polar Express \n",
              "28    209000000.0 -143826840.0                          Battleship \n",
              "85    175000000.0 -136702695.0                            47 Ronin \n",
              "49    195000000.0 -129828140.0               Jack the Giant Slayer \n",
              "...           ...          ...                                  ...\n",
              "3080   10500000.0  424449459.0          E.T. the Extra-Terrestrial \n",
              "3024   11000000.0  449935665.0  Star Wars: Episode IV - A New Hope \n",
              "26    200000000.0  458672302.0                             Titanic \n",
              "29    150000000.0  502177271.0                      Jurassic World \n",
              "0     237000000.0  523505847.0                              Avatar \n",
              "\n",
              "[3047 rows x 3 columns]"
            ]
          },
          "metadata": {
            "tags": []
          },
          "execution_count": 43
        }
      ]
    },
    {
      "cell_type": "markdown",
      "metadata": {
        "id": "HkIHKwA4JV-8",
        "colab_type": "text"
      },
      "source": [
        "O filme é \"John Carter\""
      ]
    },
    {
      "cell_type": "markdown",
      "metadata": {
        "id": "gUgeTCjkrgv4",
        "colab_type": "text"
      },
      "source": [
        "##Desafio 3 do [Guilherme Silveira](https://twitter.com/guilhermecaelum)\n",
        "\n",
        "Em aula falamos que talvez, filmes mais recentes podem ter prejuizo pois ainda não tiveram tempo de recuperar o investimento. Analise essas informações e nos conte quais foram suas conclusões."
      ]
    },
    {
      "cell_type": "markdown",
      "metadata": {
        "id": "CqNm6WE2ugbN",
        "colab_type": "text"
      },
      "source": [
        "**Observações:**\n",
        "\n",
        "1. Não sabe-se se faturamento do filme do dataset é apenas da bilheteria ods cinemas ou também incluem vendas de DVDs, blue-rays, e streaming após exibição nos cinemas dos EUA. Também não sabe-se se os gastos com marketing estão incluídos em \"budget\" no dataset, se não estiverem, o lucro calculado não corresponde ao lucro real.\n",
        "\n",
        "2. Os filmes mais recentes do dataset são do ano de 2016;\n",
        "\n",
        "3. Para as conclusões irá assumir que os faturamento limita-se apenas a exibições no cinema."
      ]
    },
    {
      "cell_type": "code",
      "metadata": {
        "id": "_3FQojkWuMHa",
        "colab_type": "code",
        "outputId": "6968bffd-7de6-4b43-bd4c-4db83f2eaf9b",
        "colab": {
          "base_uri": "https://localhost:8080/",
          "height": 677
        }
      },
      "source": [
        "dtf_des3 = imdb_usa[[\"movie_title\", \"title_year\", \"lucro\", \"budget\", \"gross\", \"director_name\"]]\n",
        "\n",
        "dtf_des3 = dtf_des3.dropna()\n",
        "\n",
        "dtf_des3.sort_values(by=\"title_year\", ascending=False).head(20)"
      ],
      "execution_count": 44,
      "outputs": [
        {
          "output_type": "execute_result",
          "data": {
            "text/html": [
              "<div>\n",
              "<style scoped>\n",
              "    .dataframe tbody tr th:only-of-type {\n",
              "        vertical-align: middle;\n",
              "    }\n",
              "\n",
              "    .dataframe tbody tr th {\n",
              "        vertical-align: top;\n",
              "    }\n",
              "\n",
              "    .dataframe thead th {\n",
              "        text-align: right;\n",
              "    }\n",
              "</style>\n",
              "<table border=\"1\" class=\"dataframe\">\n",
              "  <thead>\n",
              "    <tr style=\"text-align: right;\">\n",
              "      <th></th>\n",
              "      <th>movie_title</th>\n",
              "      <th>title_year</th>\n",
              "      <th>lucro</th>\n",
              "      <th>budget</th>\n",
              "      <th>gross</th>\n",
              "      <th>director_name</th>\n",
              "    </tr>\n",
              "  </thead>\n",
              "  <tbody>\n",
              "    <tr>\n",
              "      <th>163</th>\n",
              "      <td>Gods of Egypt</td>\n",
              "      <td>2016.0</td>\n",
              "      <td>-108858926.0</td>\n",
              "      <td>140000000.0</td>\n",
              "      <td>31141074.0</td>\n",
              "      <td>Alex Proyas</td>\n",
              "    </tr>\n",
              "    <tr>\n",
              "      <th>2549</th>\n",
              "      <td>The Young Messiah</td>\n",
              "      <td>2016.0</td>\n",
              "      <td>-12037424.0</td>\n",
              "      <td>18500000.0</td>\n",
              "      <td>6462576.0</td>\n",
              "      <td>Cyrus Nowrasteh</td>\n",
              "    </tr>\n",
              "    <tr>\n",
              "      <th>2404</th>\n",
              "      <td>My Big Fat Greek Wedding 2</td>\n",
              "      <td>2016.0</td>\n",
              "      <td>41573085.0</td>\n",
              "      <td>18000000.0</td>\n",
              "      <td>59573085.0</td>\n",
              "      <td>Kirk Jones</td>\n",
              "    </tr>\n",
              "    <tr>\n",
              "      <th>244</th>\n",
              "      <td>The Huntsman: Winter's War</td>\n",
              "      <td>2016.0</td>\n",
              "      <td>-67047980.0</td>\n",
              "      <td>115000000.0</td>\n",
              "      <td>47952020.0</td>\n",
              "      <td>Cedric Nicolas-Troyan</td>\n",
              "    </tr>\n",
              "    <tr>\n",
              "      <th>1742</th>\n",
              "      <td>The Boss</td>\n",
              "      <td>2016.0</td>\n",
              "      <td>34034755.0</td>\n",
              "      <td>29000000.0</td>\n",
              "      <td>63034755.0</td>\n",
              "      <td>Ben Falcone</td>\n",
              "    </tr>\n",
              "    <tr>\n",
              "      <th>73</th>\n",
              "      <td>Suicide Squad</td>\n",
              "      <td>2016.0</td>\n",
              "      <td>-13912817.0</td>\n",
              "      <td>175000000.0</td>\n",
              "      <td>161087183.0</td>\n",
              "      <td>David Ayer</td>\n",
              "    </tr>\n",
              "    <tr>\n",
              "      <th>150</th>\n",
              "      <td>Ghostbusters</td>\n",
              "      <td>2016.0</td>\n",
              "      <td>-25900341.0</td>\n",
              "      <td>144000000.0</td>\n",
              "      <td>118099659.0</td>\n",
              "      <td>Paul Feig</td>\n",
              "    </tr>\n",
              "    <tr>\n",
              "      <th>154</th>\n",
              "      <td>Kung Fu Panda 3</td>\n",
              "      <td>2016.0</td>\n",
              "      <td>-1476537.0</td>\n",
              "      <td>145000000.0</td>\n",
              "      <td>143523463.0</td>\n",
              "      <td>Alessandro Carloni</td>\n",
              "    </tr>\n",
              "    <tr>\n",
              "      <th>65</th>\n",
              "      <td>X-Men: Apocalypse</td>\n",
              "      <td>2016.0</td>\n",
              "      <td>-23014913.0</td>\n",
              "      <td>178000000.0</td>\n",
              "      <td>154985087.0</td>\n",
              "      <td>Bryan Singer</td>\n",
              "    </tr>\n",
              "    <tr>\n",
              "      <th>567</th>\n",
              "      <td>The Angry Birds Movie</td>\n",
              "      <td>2016.0</td>\n",
              "      <td>34225164.0</td>\n",
              "      <td>73000000.0</td>\n",
              "      <td>107225164.0</td>\n",
              "      <td>Clay Kaytis</td>\n",
              "    </tr>\n",
              "    <tr>\n",
              "      <th>4540</th>\n",
              "      <td>God's Not Dead 2</td>\n",
              "      <td>2016.0</td>\n",
              "      <td>15773070.0</td>\n",
              "      <td>5000000.0</td>\n",
              "      <td>20773070.0</td>\n",
              "      <td>Harold Cronk</td>\n",
              "    </tr>\n",
              "    <tr>\n",
              "      <th>63</th>\n",
              "      <td>The Legend of Tarzan</td>\n",
              "      <td>2016.0</td>\n",
              "      <td>-55948241.0</td>\n",
              "      <td>180000000.0</td>\n",
              "      <td>124051759.0</td>\n",
              "      <td>David Yates</td>\n",
              "    </tr>\n",
              "    <tr>\n",
              "      <th>942</th>\n",
              "      <td>Central Intelligence</td>\n",
              "      <td>2016.0</td>\n",
              "      <td>76088877.0</td>\n",
              "      <td>50000000.0</td>\n",
              "      <td>126088877.0</td>\n",
              "      <td>Rawson Marshall Thurber</td>\n",
              "    </tr>\n",
              "    <tr>\n",
              "      <th>57</th>\n",
              "      <td>Star Trek Beyond</td>\n",
              "      <td>2016.0</td>\n",
              "      <td>-54531374.0</td>\n",
              "      <td>185000000.0</td>\n",
              "      <td>130468626.0</td>\n",
              "      <td>Justin Lin</td>\n",
              "    </tr>\n",
              "    <tr>\n",
              "      <th>1582</th>\n",
              "      <td>Ghostbusters</td>\n",
              "      <td>2016.0</td>\n",
              "      <td>-25900341.0</td>\n",
              "      <td>144000000.0</td>\n",
              "      <td>118099659.0</td>\n",
              "      <td>Paul Feig</td>\n",
              "    </tr>\n",
              "    <tr>\n",
              "      <th>970</th>\n",
              "      <td>13 Hours</td>\n",
              "      <td>2016.0</td>\n",
              "      <td>2822418.0</td>\n",
              "      <td>50000000.0</td>\n",
              "      <td>52822418.0</td>\n",
              "      <td>Michael Bay</td>\n",
              "    </tr>\n",
              "    <tr>\n",
              "      <th>3756</th>\n",
              "      <td>The Perfect Match</td>\n",
              "      <td>2016.0</td>\n",
              "      <td>4658370.0</td>\n",
              "      <td>5000000.0</td>\n",
              "      <td>9658370.0</td>\n",
              "      <td>Bille Woodruff</td>\n",
              "    </tr>\n",
              "    <tr>\n",
              "      <th>248</th>\n",
              "      <td>Teenage Mutant Ninja Turtles: Out of the Shadows</td>\n",
              "      <td>2016.0</td>\n",
              "      <td>-53361326.0</td>\n",
              "      <td>135000000.0</td>\n",
              "      <td>81638674.0</td>\n",
              "      <td>Dave Green</td>\n",
              "    </tr>\n",
              "    <tr>\n",
              "      <th>1789</th>\n",
              "      <td>Pride and Prejudice and Zombies</td>\n",
              "      <td>2016.0</td>\n",
              "      <td>-17092709.0</td>\n",
              "      <td>28000000.0</td>\n",
              "      <td>10907291.0</td>\n",
              "      <td>Burr Steers</td>\n",
              "    </tr>\n",
              "    <tr>\n",
              "      <th>1825</th>\n",
              "      <td>Money Monster</td>\n",
              "      <td>2016.0</td>\n",
              "      <td>14008532.0</td>\n",
              "      <td>27000000.0</td>\n",
              "      <td>41008532.0</td>\n",
              "      <td>Jodie Foster</td>\n",
              "    </tr>\n",
              "  </tbody>\n",
              "</table>\n",
              "</div>"
            ],
            "text/plain": [
              "                                            movie_title  ...            director_name\n",
              "163                                      Gods of Egypt   ...              Alex Proyas\n",
              "2549                                 The Young Messiah   ...          Cyrus Nowrasteh\n",
              "2404                        My Big Fat Greek Wedding 2   ...               Kirk Jones\n",
              "244                         The Huntsman: Winter's War   ...    Cedric Nicolas-Troyan\n",
              "1742                                          The Boss   ...              Ben Falcone\n",
              "73                                       Suicide Squad   ...               David Ayer\n",
              "150                                       Ghostbusters   ...                Paul Feig\n",
              "154                                    Kung Fu Panda 3   ...       Alessandro Carloni\n",
              "65                                   X-Men: Apocalypse   ...             Bryan Singer\n",
              "567                              The Angry Birds Movie   ...              Clay Kaytis\n",
              "4540                                  God's Not Dead 2   ...             Harold Cronk\n",
              "63                                The Legend of Tarzan   ...              David Yates\n",
              "942                               Central Intelligence   ...  Rawson Marshall Thurber\n",
              "57                                    Star Trek Beyond   ...               Justin Lin\n",
              "1582                                      Ghostbusters   ...                Paul Feig\n",
              "970                                           13 Hours   ...              Michael Bay\n",
              "3756                                 The Perfect Match   ...           Bille Woodruff\n",
              "248   Teenage Mutant Ninja Turtles: Out of the Shadows   ...               Dave Green\n",
              "1789                   Pride and Prejudice and Zombies   ...              Burr Steers\n",
              "1825                                     Money Monster   ...             Jodie Foster\n",
              "\n",
              "[20 rows x 6 columns]"
            ]
          },
          "metadata": {
            "tags": []
          },
          "execution_count": 44
        }
      ]
    },
    {
      "cell_type": "code",
      "metadata": {
        "id": "KMmIu9oLCYE4",
        "colab_type": "code",
        "colab": {}
      },
      "source": [
        "def gera_analise_lucro(str_ano):\n",
        "\n",
        "  str_a = \"title_year == \" + str_ano + \".0\"\n",
        "\n",
        "  #plt.figure(figsize=(8,8))\n",
        "  sns.boxplot(data = dtf_des3.query(str_a), x =\"title_year\", y=\"lucro\")\n",
        "  plt.show()\n",
        "\n",
        "  print(\"\\n\")\n",
        "\n",
        "  #plt.figure(figsize=(8,8))\n",
        "  sns.distplot(dtf_des3.query(str_a)[\"lucro\"], hist=False)\n",
        "  plt.show()\n",
        "\n",
        "  print(\"\\n\")\n",
        "\n",
        "  return dtf_des3.query(str_a)[\"lucro\"].describe()\n",
        "\n",
        "#Fim da função"
      ],
      "execution_count": 0,
      "outputs": []
    },
    {
      "cell_type": "markdown",
      "metadata": {
        "id": "a0Ww0kLDCLLG",
        "colab_type": "text"
      },
      "source": [
        "#### Estudo lucro do ano de 2016"
      ]
    },
    {
      "cell_type": "code",
      "metadata": {
        "id": "WeGm0IXzw7Kj",
        "colab_type": "code",
        "outputId": "02055c3c-483d-4b23-88d7-dc51e1ae3ec3",
        "colab": {
          "base_uri": "https://localhost:8080/",
          "height": 803
        }
      },
      "source": [
        "#dtf_des3.query(\"title_year == 2016.0\")[\"lucro\"].describe()\n",
        "\n",
        "gera_analise_lucro(\"2016\")"
      ],
      "execution_count": 46,
      "outputs": [
        {
          "output_type": "display_data",
          "data": {
            "image/png": "[encoded data removed]",
            "text/plain": [
              "<Figure size 432x288 with 1 Axes>"
            ]
          },
          "metadata": {
            "tags": []
          }
        },
        {
          "output_type": "stream",
          "text": [
            "\n",
            "\n"
          ],
          "name": "stdout"
        },
        {
          "output_type": "display_data",
          "data": {
            "image/png": "[encoded data removed]",
            "text/plain": [
              "<Figure size 432x288 with 1 Axes>"
            ]
          },
          "metadata": {
            "tags": []
          }
        },
        {
          "output_type": "stream",
          "text": [
            "\n",
            "\n"
          ],
          "name": "stdout"
        },
        {
          "output_type": "execute_result",
          "data": {
            "text/plain": [
              "count    4.900000e+01\n",
              "mean     7.352747e+06\n",
              "std      6.604862e+07\n",
              "min     -1.130210e+08\n",
              "25%     -2.531464e+07\n",
              "50%      5.566327e+06\n",
              "75%      3.422516e+07\n",
              "max      3.050243e+08\n",
              "Name: lucro, dtype: float64"
            ]
          },
          "metadata": {
            "tags": []
          },
          "execution_count": 46
        }
      ]
    },
    {
      "cell_type": "markdown",
      "metadata": {
        "id": "MC_SE1G6DyN4",
        "colab_type": "text"
      },
      "source": [
        "#### Estudo lucro ano de 2009"
      ]
    },
    {
      "cell_type": "code",
      "metadata": {
        "id": "m19zL8eqyB9d",
        "colab_type": "code",
        "outputId": "2ecb5b64-e558-456b-dd82-f65a1cad3401",
        "colab": {
          "base_uri": "https://localhost:8080/",
          "height": 803
        }
      },
      "source": [
        "gera_analise_lucro(\"2009\")"
      ],
      "execution_count": 47,
      "outputs": [
        {
          "output_type": "display_data",
          "data": {
            "image/png": "[encoded data removed]",
            "text/plain": [
              "<Figure size 432x288 with 1 Axes>"
            ]
          },
          "metadata": {
            "tags": []
          }
        },
        {
          "output_type": "stream",
          "text": [
            "\n",
            "\n"
          ],
          "name": "stdout"
        },
        {
          "output_type": "display_data",
          "data": {
            "image/png": "[encoded data removed]",
            "text/plain": [
              "<Figure size 432x288 with 1 Axes>"
            ]
          },
          "metadata": {
            "tags": []
          }
        },
        {
          "output_type": "stream",
          "text": [
            "\n",
            "\n"
          ],
          "name": "stdout"
        },
        {
          "output_type": "execute_result",
          "data": {
            "text/plain": [
              "count    1.450000e+02\n",
              "mean     1.632431e+07\n",
              "std      6.537638e+07\n",
              "min     -7.468000e+07\n",
              "25%     -9.767063e+06\n",
              "50%      6.707120e+05\n",
              "75%      2.487028e+07\n",
              "max      5.235058e+08\n",
              "Name: lucro, dtype: float64"
            ]
          },
          "metadata": {
            "tags": []
          },
          "execution_count": 47
        }
      ]
    },
    {
      "cell_type": "markdown",
      "metadata": {
        "id": "ZwJHCabwD_0t",
        "colab_type": "text"
      },
      "source": [
        "#### Estudo lucro ano 2006"
      ]
    },
    {
      "cell_type": "code",
      "metadata": {
        "id": "3_6V0-P78gg9",
        "colab_type": "code",
        "outputId": "6248bf5c-3244-4ac3-8ee5-8b940a62a8cd",
        "colab": {
          "base_uri": "https://localhost:8080/",
          "height": 803
        }
      },
      "source": [
        "gera_analise_lucro(\"2006\")"
      ],
      "execution_count": 48,
      "outputs": [
        {
          "output_type": "display_data",
          "data": {
            "image/png": "[encoded data removed]",
            "text/plain": [
              "<Figure size 432x288 with 1 Axes>"
            ]
          },
          "metadata": {
            "tags": []
          }
        },
        {
          "output_type": "stream",
          "text": [
            "\n",
            "\n"
          ],
          "name": "stdout"
        },
        {
          "output_type": "display_data",
          "data": {
            "image/png": "[encoded data removed]",
            "text/plain": [
              "<Figure size 432x288 with 1 Axes>"
            ]
          },
          "metadata": {
            "tags": []
          }
        },
        {
          "output_type": "stream",
          "text": [
            "\n",
            "\n"
          ],
          "name": "stdout"
        },
        {
          "output_type": "execute_result",
          "data": {
            "text/plain": [
              "count    1.360000e+02\n",
              "mean     1.288594e+07\n",
              "std      4.025065e+07\n",
              "min     -9.934450e+07\n",
              "25%     -6.495688e+06\n",
              "50%      9.839185e+05\n",
              "75%      1.914010e+07\n",
              "max      1.980326e+08\n",
              "Name: lucro, dtype: float64"
            ]
          },
          "metadata": {
            "tags": []
          },
          "execution_count": 48
        }
      ]
    },
    {
      "cell_type": "markdown",
      "metadata": {
        "id": "hZvZ34HyEhLT",
        "colab_type": "text"
      },
      "source": [
        "#### Estudo lucro ano 2009"
      ]
    },
    {
      "cell_type": "code",
      "metadata": {
        "id": "9tDjjRNQCBvt",
        "colab_type": "code",
        "outputId": "81dee0ee-fc6b-49f3-be89-9525501955cf",
        "colab": {
          "base_uri": "https://localhost:8080/",
          "height": 803
        }
      },
      "source": [
        "gera_analise_lucro(\"2009\")"
      ],
      "execution_count": 49,
      "outputs": [
        {
          "output_type": "display_data",
          "data": {
            "image/png": "[encoded data removed]",
            "text/plain": [
              "<Figure size 432x288 with 1 Axes>"
            ]
          },
          "metadata": {
            "tags": []
          }
        },
        {
          "output_type": "stream",
          "text": [
            "\n",
            "\n"
          ],
          "name": "stdout"
        },
        {
          "output_type": "display_data",
          "data": {
            "image/png": "[encoded data removed]",
            "text/plain": [
              "<Figure size 432x288 with 1 Axes>"
            ]
          },
          "metadata": {
            "tags": []
          }
        },
        {
          "output_type": "stream",
          "text": [
            "\n",
            "\n"
          ],
          "name": "stdout"
        },
        {
          "output_type": "execute_result",
          "data": {
            "text/plain": [
              "count    1.450000e+02\n",
              "mean     1.632431e+07\n",
              "std      6.537638e+07\n",
              "min     -7.468000e+07\n",
              "25%     -9.767063e+06\n",
              "50%      6.707120e+05\n",
              "75%      2.487028e+07\n",
              "max      5.235058e+08\n",
              "Name: lucro, dtype: float64"
            ]
          },
          "metadata": {
            "tags": []
          },
          "execution_count": 49
        }
      ]
    },
    {
      "cell_type": "markdown",
      "metadata": {
        "id": "m4RitucrE8Re",
        "colab_type": "text"
      },
      "source": [
        "#### Estudo ano 1999"
      ]
    },
    {
      "cell_type": "code",
      "metadata": {
        "id": "J4DKo6R_CCNb",
        "colab_type": "code",
        "outputId": "0f0c9b61-2c92-4d34-a764-9d4c230dc5a4",
        "colab": {
          "base_uri": "https://localhost:8080/",
          "height": 803
        }
      },
      "source": [
        "gera_analise_lucro(\"1999\")"
      ],
      "execution_count": 50,
      "outputs": [
        {
          "output_type": "display_data",
          "data": {
            "image/png": "[encoded data removed]",
            "text/plain": [
              "<Figure size 432x288 with 1 Axes>"
            ]
          },
          "metadata": {
            "tags": []
          }
        },
        {
          "output_type": "stream",
          "text": [
            "\n",
            "\n"
          ],
          "name": "stdout"
        },
        {
          "output_type": "display_data",
          "data": {
            "image/png": "[encoded data removed]",
            "text/plain": [
              "<Figure size 432x288 with 1 Axes>"
            ]
          },
          "metadata": {
            "tags": []
          }
        },
        {
          "output_type": "stream",
          "text": [
            "\n",
            "\n"
          ],
          "name": "stdout"
        },
        {
          "output_type": "execute_result",
          "data": {
            "text/plain": [
              "count    1.300000e+02\n",
              "mean     1.074496e+07\n",
              "std      5.384807e+07\n",
              "min     -5.625459e+07\n",
              "25%     -1.484075e+07\n",
              "50%     -5.595055e+05\n",
              "75%      1.607705e+07\n",
              "max      3.595447e+08\n",
              "Name: lucro, dtype: float64"
            ]
          },
          "metadata": {
            "tags": []
          },
          "execution_count": 50
        }
      ]
    },
    {
      "cell_type": "markdown",
      "metadata": {
        "id": "LEna8DDr-fVm",
        "colab_type": "text"
      },
      "source": [
        "### Conclusões\n",
        "\n",
        "Considerando que no dataset o ano mais recente é de 2016, acredita-se que já houve empo para recuperar investimento.\n",
        "\n",
        "Outros fatores podem afetar o lucro do filme, como campanhas de marketing, renda da população, filme mal avaliado, ...\n",
        "\n",
        "Pelo estudo variável lucro do ano de 2016, pode-se averiguar que muitos filmes tiveram um pouco de lucro (poucos apresentaram lucro considerável) ou geraram \"baixo\" prejuízo (Considere os milhões investidos para se fazer o filme). A distribuição dessa variável concentra-se perto do zero. Em comparação com outros anos, para este dataset, variável lucro apresenta uma tendência a agurpar-se perto do valor 0.\n",
        "\n",
        "\n"
      ]
    },
    {
      "cell_type": "markdown",
      "metadata": {
        "id": "SDH4vjxZpwrM",
        "colab_type": "text"
      },
      "source": [
        "## Desafio 4 do [Paulo Silveira](https://twitter.com/paulo_caelum)\n",
        "\n",
        "Quais foram os filmes da decada pré 2° guerra que tiveram muito lucro."
      ]
    },
    {
      "cell_type": "code",
      "metadata": {
        "id": "EKXJ-MgifpCT",
        "colab_type": "code",
        "outputId": "4e117786-7684-4ad5-805e-7a920a21aad8",
        "colab": {
          "base_uri": "https://localhost:8080/",
          "height": 520
        }
      },
      "source": [
        "dtf_des4 = imdb_usa[[\"movie_title\", \"title_year\", \"lucro\", \"budget\", \"gross\"]]\n",
        "\n",
        "dtf_des4 = dtf_des4.query(\"title_year > 1929.0 & title_year < 1940.0\")\n",
        "\n",
        "dtf_des4.sort_values(by=\"lucro\", ascending=False)"
      ],
      "execution_count": 51,
      "outputs": [
        {
          "output_type": "execute_result",
          "data": {
            "text/html": [
              "<div>\n",
              "<style scoped>\n",
              "    .dataframe tbody tr th:only-of-type {\n",
              "        vertical-align: middle;\n",
              "    }\n",
              "\n",
              "    .dataframe tbody tr th {\n",
              "        vertical-align: top;\n",
              "    }\n",
              "\n",
              "    .dataframe thead th {\n",
              "        text-align: right;\n",
              "    }\n",
              "</style>\n",
              "<table border=\"1\" class=\"dataframe\">\n",
              "  <thead>\n",
              "    <tr style=\"text-align: right;\">\n",
              "      <th></th>\n",
              "      <th>movie_title</th>\n",
              "      <th>title_year</th>\n",
              "      <th>lucro</th>\n",
              "      <th>budget</th>\n",
              "      <th>gross</th>\n",
              "    </tr>\n",
              "  </thead>\n",
              "  <tbody>\n",
              "    <tr>\n",
              "      <th>3970</th>\n",
              "      <td>Gone with the Wind</td>\n",
              "      <td>1939.0</td>\n",
              "      <td>194678278.0</td>\n",
              "      <td>3977000.0</td>\n",
              "      <td>198655278.0</td>\n",
              "    </tr>\n",
              "    <tr>\n",
              "      <th>4449</th>\n",
              "      <td>Snow White and the Seven Dwarfs</td>\n",
              "      <td>1937.0</td>\n",
              "      <td>182925485.0</td>\n",
              "      <td>2000000.0</td>\n",
              "      <td>184925485.0</td>\n",
              "    </tr>\n",
              "    <tr>\n",
              "      <th>4157</th>\n",
              "      <td>The Wizard of Oz</td>\n",
              "      <td>1939.0</td>\n",
              "      <td>19402612.0</td>\n",
              "      <td>2800000.0</td>\n",
              "      <td>22202612.0</td>\n",
              "    </tr>\n",
              "    <tr>\n",
              "      <th>4706</th>\n",
              "      <td>Top Hat</td>\n",
              "      <td>1935.0</td>\n",
              "      <td>2391000.0</td>\n",
              "      <td>609000.0</td>\n",
              "      <td>3000000.0</td>\n",
              "    </tr>\n",
              "    <tr>\n",
              "      <th>4786</th>\n",
              "      <td>42nd Street</td>\n",
              "      <td>1933.0</td>\n",
              "      <td>1861000.0</td>\n",
              "      <td>439000.0</td>\n",
              "      <td>2300000.0</td>\n",
              "    </tr>\n",
              "    <tr>\n",
              "      <th>4427</th>\n",
              "      <td>Modern Times</td>\n",
              "      <td>1936.0</td>\n",
              "      <td>-1336755.0</td>\n",
              "      <td>1500000.0</td>\n",
              "      <td>163245.0</td>\n",
              "    </tr>\n",
              "    <tr>\n",
              "      <th>2904</th>\n",
              "      <td>The Prisoner of Zenda</td>\n",
              "      <td>1937.0</td>\n",
              "      <td>NaN</td>\n",
              "      <td>NaN</td>\n",
              "      <td>NaN</td>\n",
              "    </tr>\n",
              "    <tr>\n",
              "      <th>3755</th>\n",
              "      <td>A Farewell to Arms</td>\n",
              "      <td>1932.0</td>\n",
              "      <td>NaN</td>\n",
              "      <td>800000.0</td>\n",
              "      <td>NaN</td>\n",
              "    </tr>\n",
              "    <tr>\n",
              "      <th>3960</th>\n",
              "      <td>Hell's Angels</td>\n",
              "      <td>1930.0</td>\n",
              "      <td>NaN</td>\n",
              "      <td>3950000.0</td>\n",
              "      <td>NaN</td>\n",
              "    </tr>\n",
              "    <tr>\n",
              "      <th>4272</th>\n",
              "      <td>Alexander's Ragtime Band</td>\n",
              "      <td>1938.0</td>\n",
              "      <td>NaN</td>\n",
              "      <td>2000000.0</td>\n",
              "      <td>NaN</td>\n",
              "    </tr>\n",
              "    <tr>\n",
              "      <th>4387</th>\n",
              "      <td>You Can't Take It with You</td>\n",
              "      <td>1938.0</td>\n",
              "      <td>NaN</td>\n",
              "      <td>1644736.0</td>\n",
              "      <td>NaN</td>\n",
              "    </tr>\n",
              "    <tr>\n",
              "      <th>4404</th>\n",
              "      <td>Mr. Smith Goes to Washington</td>\n",
              "      <td>1939.0</td>\n",
              "      <td>NaN</td>\n",
              "      <td>1500000.0</td>\n",
              "      <td>NaN</td>\n",
              "    </tr>\n",
              "    <tr>\n",
              "      <th>4508</th>\n",
              "      <td>The Charge of the Light Brigade</td>\n",
              "      <td>1936.0</td>\n",
              "      <td>NaN</td>\n",
              "      <td>1200000.0</td>\n",
              "      <td>NaN</td>\n",
              "    </tr>\n",
              "    <tr>\n",
              "      <th>4824</th>\n",
              "      <td>It Happened One Night</td>\n",
              "      <td>1934.0</td>\n",
              "      <td>NaN</td>\n",
              "      <td>325000.0</td>\n",
              "      <td>NaN</td>\n",
              "    </tr>\n",
              "    <tr>\n",
              "      <th>4898</th>\n",
              "      <td>She Done Him Wrong</td>\n",
              "      <td>1933.0</td>\n",
              "      <td>NaN</td>\n",
              "      <td>200000.0</td>\n",
              "      <td>NaN</td>\n",
              "    </tr>\n",
              "  </tbody>\n",
              "</table>\n",
              "</div>"
            ],
            "text/plain": [
              "                           movie_title  title_year  ...     budget        gross\n",
              "3970               Gone with the Wind       1939.0  ...  3977000.0  198655278.0\n",
              "4449  Snow White and the Seven Dwarfs       1937.0  ...  2000000.0  184925485.0\n",
              "4157                 The Wizard of Oz       1939.0  ...  2800000.0   22202612.0\n",
              "4706                          Top Hat       1935.0  ...   609000.0    3000000.0\n",
              "4786                      42nd Street       1933.0  ...   439000.0    2300000.0\n",
              "4427                     Modern Times       1936.0  ...  1500000.0     163245.0\n",
              "2904            The Prisoner of Zenda       1937.0  ...        NaN          NaN\n",
              "3755               A Farewell to Arms       1932.0  ...   800000.0          NaN\n",
              "3960                    Hell's Angels       1930.0  ...  3950000.0          NaN\n",
              "4272         Alexander's Ragtime Band       1938.0  ...  2000000.0          NaN\n",
              "4387       You Can't Take It with You       1938.0  ...  1644736.0          NaN\n",
              "4404     Mr. Smith Goes to Washington       1939.0  ...  1500000.0          NaN\n",
              "4508  The Charge of the Light Brigade       1936.0  ...  1200000.0          NaN\n",
              "4824            It Happened One Night       1934.0  ...   325000.0          NaN\n",
              "4898               She Done Him Wrong       1933.0  ...   200000.0          NaN\n",
              "\n",
              "[15 rows x 5 columns]"
            ]
          },
          "metadata": {
            "tags": []
          },
          "execution_count": 51
        }
      ]
    },
    {
      "cell_type": "markdown",
      "metadata": {
        "id": "2PcspSJBssTK",
        "colab_type": "text"
      },
      "source": [
        "## Desafio 5 do [Paulo Silveira](https://twitter.com/paulo_caelum)\n",
        "\n",
        "No gráfico de **filmes_irmaos por dindin** temos alguns pontos estranhos entre 15 e 20. Confirme a tese genial do Paulo que o cidadão estranho é o Woody Allen. (Se ele tiver errado pode cornete nas redes sociais kkkkk)"
      ]
    },
    {
      "cell_type": "markdown",
      "metadata": {
        "id": "vNUQmmr6jL5i",
        "colab_type": "text"
      },
      "source": [
        "Gráfico original"
      ]
    },
    {
      "cell_type": "code",
      "metadata": {
        "id": "r1b42XozfKiI",
        "colab_type": "code",
        "colab": {
          "base_uri": "https://localhost:8080/",
          "height": 206
        },
        "outputId": "e45e5a01-9510-4bac-97b8-684bc7269378"
      },
      "source": [
        "filmes_por_diretor = imdb_usa[\"director_name\"].value_counts()\n",
        "gross_director = imdb_usa[[\"director_name\", \"gross\"]].set_index(\"director_name\").join(filmes_por_diretor, on=\"director_name\")\n",
        "gross_director.columns=[\"dindin\", \"filmes_irmaos\"]\n",
        "gross_director = gross_director.reset_index()\n",
        "gross_director.head()"
      ],
      "execution_count": 52,
      "outputs": [
        {
          "output_type": "execute_result",
          "data": {
            "text/html": [
              "<div>\n",
              "<style scoped>\n",
              "    .dataframe tbody tr th:only-of-type {\n",
              "        vertical-align: middle;\n",
              "    }\n",
              "\n",
              "    .dataframe tbody tr th {\n",
              "        vertical-align: top;\n",
              "    }\n",
              "\n",
              "    .dataframe thead th {\n",
              "        text-align: right;\n",
              "    }\n",
              "</style>\n",
              "<table border=\"1\" class=\"dataframe\">\n",
              "  <thead>\n",
              "    <tr style=\"text-align: right;\">\n",
              "      <th></th>\n",
              "      <th>director_name</th>\n",
              "      <th>dindin</th>\n",
              "      <th>filmes_irmaos</th>\n",
              "    </tr>\n",
              "  </thead>\n",
              "  <tbody>\n",
              "    <tr>\n",
              "      <th>0</th>\n",
              "      <td>James Cameron</td>\n",
              "      <td>760505847.0</td>\n",
              "      <td>6.0</td>\n",
              "    </tr>\n",
              "    <tr>\n",
              "      <th>1</th>\n",
              "      <td>Gore Verbinski</td>\n",
              "      <td>309404152.0</td>\n",
              "      <td>7.0</td>\n",
              "    </tr>\n",
              "    <tr>\n",
              "      <th>2</th>\n",
              "      <td>Christopher Nolan</td>\n",
              "      <td>448130642.0</td>\n",
              "      <td>8.0</td>\n",
              "    </tr>\n",
              "    <tr>\n",
              "      <th>3</th>\n",
              "      <td>Andrew Stanton</td>\n",
              "      <td>73058679.0</td>\n",
              "      <td>3.0</td>\n",
              "    </tr>\n",
              "    <tr>\n",
              "      <th>4</th>\n",
              "      <td>Sam Raimi</td>\n",
              "      <td>336530303.0</td>\n",
              "      <td>11.0</td>\n",
              "    </tr>\n",
              "  </tbody>\n",
              "</table>\n",
              "</div>"
            ],
            "text/plain": [
              "       director_name       dindin  filmes_irmaos\n",
              "0      James Cameron  760505847.0            6.0\n",
              "1     Gore Verbinski  309404152.0            7.0\n",
              "2  Christopher Nolan  448130642.0            8.0\n",
              "3     Andrew Stanton   73058679.0            3.0\n",
              "4          Sam Raimi  336530303.0           11.0"
            ]
          },
          "metadata": {
            "tags": []
          },
          "execution_count": 52
        }
      ]
    },
    {
      "cell_type": "code",
      "metadata": {
        "id": "z6nlJc5AjPOs",
        "colab_type": "code",
        "outputId": "47b3cf86-8e9a-4e6e-8f13-dde781216c66",
        "colab": {
          "base_uri": "https://localhost:8080/",
          "height": 309
        }
      },
      "source": [
        "sns.scatterplot(x=\"filmes_irmaos\", y=\"dindin\", data = gross_director)"
      ],
      "execution_count": 53,
      "outputs": [
        {
          "output_type": "execute_result",
          "data": {
            "text/plain": [
              "<matplotlib.axes._subplots.AxesSubplot at 0x7f8e4872ceb8>"
            ]
          },
          "metadata": {
            "tags": []
          },
          "execution_count": 53
        },
        {
          "output_type": "display_data",
          "data": {
            "image/png": "[encoded data removed]",
            "text/plain": [
              "<Figure size 432x288 with 1 Axes>"
            ]
          },
          "metadata": {
            "tags": []
          }
        }
      ]
    },
    {
      "cell_type": "code",
      "metadata": {
        "id": "ThhV7B1yjXCr",
        "colab_type": "code",
        "outputId": "e4407a89-b559-4e20-ae7b-6a41cc8f2e31",
        "colab": {
          "base_uri": "https://localhost:8080/",
          "height": 677
        }
      },
      "source": [
        "dtf_des5 = gross_director.sort_values(by=\"filmes_irmaos\", ascending=False)\n",
        "\n",
        "dtf_des5 = dtf_des5.query(\"filmes_irmaos < 20 & filmes_irmaos > 15\")\n",
        "\n",
        "dtf_des5.sort_values(by=[\"filmes_irmaos\", \"dindin\"], ascending=[False, False]).head(20)"
      ],
      "execution_count": 54,
      "outputs": [
        {
          "output_type": "execute_result",
          "data": {
            "text/html": [
              "<div>\n",
              "<style scoped>\n",
              "    .dataframe tbody tr th:only-of-type {\n",
              "        vertical-align: middle;\n",
              "    }\n",
              "\n",
              "    .dataframe tbody tr th {\n",
              "        vertical-align: top;\n",
              "    }\n",
              "\n",
              "    .dataframe thead th {\n",
              "        text-align: right;\n",
              "    }\n",
              "</style>\n",
              "<table border=\"1\" class=\"dataframe\">\n",
              "  <thead>\n",
              "    <tr style=\"text-align: right;\">\n",
              "      <th></th>\n",
              "      <th>director_name</th>\n",
              "      <th>dindin</th>\n",
              "      <th>filmes_irmaos</th>\n",
              "    </tr>\n",
              "  </thead>\n",
              "  <tbody>\n",
              "    <tr>\n",
              "      <th>2932</th>\n",
              "      <td>Woody Allen</td>\n",
              "      <td>39200000.0</td>\n",
              "      <td>18.0</td>\n",
              "    </tr>\n",
              "    <tr>\n",
              "      <th>1960</th>\n",
              "      <td>Woody Allen</td>\n",
              "      <td>33404871.0</td>\n",
              "      <td>18.0</td>\n",
              "    </tr>\n",
              "    <tr>\n",
              "      <th>1975</th>\n",
              "      <td>Woody Allen</td>\n",
              "      <td>17071230.0</td>\n",
              "      <td>18.0</td>\n",
              "    </tr>\n",
              "    <tr>\n",
              "      <th>1737</th>\n",
              "      <td>Woody Allen</td>\n",
              "      <td>16684352.0</td>\n",
              "      <td>18.0</td>\n",
              "    </tr>\n",
              "    <tr>\n",
              "      <th>2070</th>\n",
              "      <td>Woody Allen</td>\n",
              "      <td>14792779.0</td>\n",
              "      <td>18.0</td>\n",
              "    </tr>\n",
              "    <tr>\n",
              "      <th>1861</th>\n",
              "      <td>Woody Allen</td>\n",
              "      <td>13383737.0</td>\n",
              "      <td>18.0</td>\n",
              "    </tr>\n",
              "    <tr>\n",
              "      <th>2166</th>\n",
              "      <td>Woody Allen</td>\n",
              "      <td>10763469.0</td>\n",
              "      <td>18.0</td>\n",
              "    </tr>\n",
              "    <tr>\n",
              "      <th>1869</th>\n",
              "      <td>Woody Allen</td>\n",
              "      <td>10569071.0</td>\n",
              "      <td>18.0</td>\n",
              "    </tr>\n",
              "    <tr>\n",
              "      <th>1872</th>\n",
              "      <td>Woody Allen</td>\n",
              "      <td>9714482.0</td>\n",
              "      <td>18.0</td>\n",
              "    </tr>\n",
              "    <tr>\n",
              "      <th>1538</th>\n",
              "      <td>Woody Allen</td>\n",
              "      <td>7496522.0</td>\n",
              "      <td>18.0</td>\n",
              "    </tr>\n",
              "    <tr>\n",
              "      <th>2183</th>\n",
              "      <td>Woody Allen</td>\n",
              "      <td>5306447.0</td>\n",
              "      <td>18.0</td>\n",
              "    </tr>\n",
              "    <tr>\n",
              "      <th>2360</th>\n",
              "      <td>Woody Allen</td>\n",
              "      <td>5032496.0</td>\n",
              "      <td>18.0</td>\n",
              "    </tr>\n",
              "    <tr>\n",
              "      <th>2078</th>\n",
              "      <td>Woody Allen</td>\n",
              "      <td>4839383.0</td>\n",
              "      <td>18.0</td>\n",
              "    </tr>\n",
              "    <tr>\n",
              "      <th>2188</th>\n",
              "      <td>Woody Allen</td>\n",
              "      <td>3247816.0</td>\n",
              "      <td>18.0</td>\n",
              "    </tr>\n",
              "    <tr>\n",
              "      <th>1993</th>\n",
              "      <td>Woody Allen</td>\n",
              "      <td>3203044.0</td>\n",
              "      <td>18.0</td>\n",
              "    </tr>\n",
              "    <tr>\n",
              "      <th>3189</th>\n",
              "      <td>Woody Allen</td>\n",
              "      <td>NaN</td>\n",
              "      <td>18.0</td>\n",
              "    </tr>\n",
              "    <tr>\n",
              "      <th>3191</th>\n",
              "      <td>Woody Allen</td>\n",
              "      <td>NaN</td>\n",
              "      <td>18.0</td>\n",
              "    </tr>\n",
              "    <tr>\n",
              "      <th>3232</th>\n",
              "      <td>Woody Allen</td>\n",
              "      <td>NaN</td>\n",
              "      <td>18.0</td>\n",
              "    </tr>\n",
              "    <tr>\n",
              "      <th>3102</th>\n",
              "      <td>Tim Burton</td>\n",
              "      <td>334185206.0</td>\n",
              "      <td>16.0</td>\n",
              "    </tr>\n",
              "    <tr>\n",
              "      <th>26</th>\n",
              "      <td>Tim Burton</td>\n",
              "      <td>334185206.0</td>\n",
              "      <td>16.0</td>\n",
              "    </tr>\n",
              "  </tbody>\n",
              "</table>\n",
              "</div>"
            ],
            "text/plain": [
              "     director_name       dindin  filmes_irmaos\n",
              "2932   Woody Allen   39200000.0           18.0\n",
              "1960   Woody Allen   33404871.0           18.0\n",
              "1975   Woody Allen   17071230.0           18.0\n",
              "1737   Woody Allen   16684352.0           18.0\n",
              "2070   Woody Allen   14792779.0           18.0\n",
              "1861   Woody Allen   13383737.0           18.0\n",
              "2166   Woody Allen   10763469.0           18.0\n",
              "1869   Woody Allen   10569071.0           18.0\n",
              "1872   Woody Allen    9714482.0           18.0\n",
              "1538   Woody Allen    7496522.0           18.0\n",
              "2183   Woody Allen    5306447.0           18.0\n",
              "2360   Woody Allen    5032496.0           18.0\n",
              "2078   Woody Allen    4839383.0           18.0\n",
              "2188   Woody Allen    3247816.0           18.0\n",
              "1993   Woody Allen    3203044.0           18.0\n",
              "3189   Woody Allen          NaN           18.0\n",
              "3191   Woody Allen          NaN           18.0\n",
              "3232   Woody Allen          NaN           18.0\n",
              "3102    Tim Burton  334185206.0           16.0\n",
              "26      Tim Burton  334185206.0           16.0"
            ]
          },
          "metadata": {
            "tags": []
          },
          "execution_count": 54
        }
      ]
    },
    {
      "cell_type": "code",
      "metadata": {
        "id": "vX5Ta426mRuV",
        "colab_type": "code",
        "outputId": "2bf63919-b9a8-4d93-dd93-3b6d1ca03c6c",
        "colab": {
          "base_uri": "https://localhost:8080/",
          "height": 143
        }
      },
      "source": [
        "dtf_des5.query(\"dindin in [39200000.0,334185206.0 ]\")"
      ],
      "execution_count": 55,
      "outputs": [
        {
          "output_type": "execute_result",
          "data": {
            "text/html": [
              "<div>\n",
              "<style scoped>\n",
              "    .dataframe tbody tr th:only-of-type {\n",
              "        vertical-align: middle;\n",
              "    }\n",
              "\n",
              "    .dataframe tbody tr th {\n",
              "        vertical-align: top;\n",
              "    }\n",
              "\n",
              "    .dataframe thead th {\n",
              "        text-align: right;\n",
              "    }\n",
              "</style>\n",
              "<table border=\"1\" class=\"dataframe\">\n",
              "  <thead>\n",
              "    <tr style=\"text-align: right;\">\n",
              "      <th></th>\n",
              "      <th>director_name</th>\n",
              "      <th>dindin</th>\n",
              "      <th>filmes_irmaos</th>\n",
              "    </tr>\n",
              "  </thead>\n",
              "  <tbody>\n",
              "    <tr>\n",
              "      <th>2932</th>\n",
              "      <td>Woody Allen</td>\n",
              "      <td>39200000.0</td>\n",
              "      <td>18.0</td>\n",
              "    </tr>\n",
              "    <tr>\n",
              "      <th>3102</th>\n",
              "      <td>Tim Burton</td>\n",
              "      <td>334185206.0</td>\n",
              "      <td>16.0</td>\n",
              "    </tr>\n",
              "    <tr>\n",
              "      <th>26</th>\n",
              "      <td>Tim Burton</td>\n",
              "      <td>334185206.0</td>\n",
              "      <td>16.0</td>\n",
              "    </tr>\n",
              "  </tbody>\n",
              "</table>\n",
              "</div>"
            ],
            "text/plain": [
              "     director_name       dindin  filmes_irmaos\n",
              "2932   Woody Allen   39200000.0           18.0\n",
              "3102    Tim Burton  334185206.0           16.0\n",
              "26      Tim Burton  334185206.0           16.0"
            ]
          },
          "metadata": {
            "tags": []
          },
          "execution_count": 55
        }
      ]
    },
    {
      "cell_type": "markdown",
      "metadata": {
        "id": "bPcDyS63tgG4",
        "colab_type": "text"
      },
      "source": [
        "## Desafio 6 do [Thiago Gonçalves](https://twitter.com/tgcsantos)\n",
        "\n",
        "Analise mais detalhadamente o gráfico pairplot, gaste um tempo pensando e tentando enteder os gráficos."
      ]
    },
    {
      "cell_type": "code",
      "metadata": {
        "id": "9GWvzMJPjVuW",
        "colab_type": "code",
        "outputId": "7b2595ee-3a42-48f1-cfdf-436e7479223e",
        "colab": {
          "base_uri": "https://localhost:8080/",
          "height": 596
        }
      },
      "source": [
        "sns.pairplot(data = imdb_usa[[\"gross\", \"budget\", \"lucro\"]])"
      ],
      "execution_count": 56,
      "outputs": [
        {
          "output_type": "execute_result",
          "data": {
            "text/plain": [
              "<seaborn.axisgrid.PairGrid at 0x7f8e48634eb8>"
            ]
          },
          "metadata": {
            "tags": []
          },
          "execution_count": 56
        },
        {
          "output_type": "display_data",
          "data": {
            "image/png": "[encoded data removed]",
            "text/plain": [
              "<Figure size 540x540 with 12 Axes>"
            ]
          },
          "metadata": {
            "tags": []
          }
        }
      ]
    },
    {
      "cell_type": "markdown",
      "metadata": {
        "id": "NWPPEMXwGfJ8",
        "colab_type": "text"
      },
      "source": [
        "\n",
        "O gráfico *scatterplot* permite visualizar a distribuição dos dados em relação as duas variáveis, possibilitando uma análise visual de como essas \"variáveis\" se relcionam. O gráfico *pairplot* permite estudar a distribuição de dados entre pares de variáveis para mais de 2 variáveis.\n"
      ]
    },
    {
      "cell_type": "markdown",
      "metadata": {
        "id": "ly1Tn53KtvLy",
        "colab_type": "text"
      },
      "source": [
        "## Desafio 7 do [Thiago Gonçalves](https://twitter.com/tgcsantos)\n",
        "\n",
        "Calcular a correlação apenas dos filmes pós anos 2000 (Jogar fora filmes antes de 2000) e interpretar essa correlação."
      ]
    },
    {
      "cell_type": "code",
      "metadata": {
        "id": "GRiDE36KVHa2",
        "colab_type": "code",
        "colab": {}
      },
      "source": [
        "dtf_des7 = imdb_usa[[\"gross\", \"budget\", \"lucro\", \"title_year\"]].query(\"title_year > 1999\" ).dropna()"
      ],
      "execution_count": 0,
      "outputs": []
    },
    {
      "cell_type": "code",
      "metadata": {
        "id": "dAl59mEaVaBr",
        "colab_type": "code",
        "outputId": "af16d91f-9290-4582-c7ca-025bc0ba5952",
        "colab": {
          "base_uri": "https://localhost:8080/",
          "height": 175
        }
      },
      "source": [
        "dtf_des7.corr()"
      ],
      "execution_count": 58,
      "outputs": [
        {
          "output_type": "execute_result",
          "data": {
            "text/html": [
              "<div>\n",
              "<style scoped>\n",
              "    .dataframe tbody tr th:only-of-type {\n",
              "        vertical-align: middle;\n",
              "    }\n",
              "\n",
              "    .dataframe tbody tr th {\n",
              "        vertical-align: top;\n",
              "    }\n",
              "\n",
              "    .dataframe thead th {\n",
              "        text-align: right;\n",
              "    }\n",
              "</style>\n",
              "<table border=\"1\" class=\"dataframe\">\n",
              "  <thead>\n",
              "    <tr style=\"text-align: right;\">\n",
              "      <th></th>\n",
              "      <th>gross</th>\n",
              "      <th>budget</th>\n",
              "      <th>lucro</th>\n",
              "      <th>title_year</th>\n",
              "    </tr>\n",
              "  </thead>\n",
              "  <tbody>\n",
              "    <tr>\n",
              "      <th>gross</th>\n",
              "      <td>1.000000</td>\n",
              "      <td>0.709233</td>\n",
              "      <td>0.770642</td>\n",
              "      <td>0.110538</td>\n",
              "    </tr>\n",
              "    <tr>\n",
              "      <th>budget</th>\n",
              "      <td>0.709233</td>\n",
              "      <td>1.000000</td>\n",
              "      <td>0.097307</td>\n",
              "      <td>0.133872</td>\n",
              "    </tr>\n",
              "    <tr>\n",
              "      <th>lucro</th>\n",
              "      <td>0.770642</td>\n",
              "      <td>0.097307</td>\n",
              "      <td>1.000000</td>\n",
              "      <td>0.035039</td>\n",
              "    </tr>\n",
              "    <tr>\n",
              "      <th>title_year</th>\n",
              "      <td>0.110538</td>\n",
              "      <td>0.133872</td>\n",
              "      <td>0.035039</td>\n",
              "      <td>1.000000</td>\n",
              "    </tr>\n",
              "  </tbody>\n",
              "</table>\n",
              "</div>"
            ],
            "text/plain": [
              "               gross    budget     lucro  title_year\n",
              "gross       1.000000  0.709233  0.770642    0.110538\n",
              "budget      0.709233  1.000000  0.097307    0.133872\n",
              "lucro       0.770642  0.097307  1.000000    0.035039\n",
              "title_year  0.110538  0.133872  0.035039    1.000000"
            ]
          },
          "metadata": {
            "tags": []
          },
          "execution_count": 58
        }
      ]
    },
    {
      "cell_type": "markdown",
      "metadata": {
        "id": "14QmZ9JPVl6z",
        "colab_type": "text"
      },
      "source": [
        "**gross X budget**\n",
        "\n",
        "Apresentam correlação alta, um pouco longe de ser perfeita. Pode-se afirmar que na maioria dos casos para o conjunto de dados estudado, quando uma variável aumnetar a outra também irá aumentar.\n",
        "\n",
        "**gross X lucro**\n",
        "\n",
        "Apresentam correlação alta, imperfeita.  Pode-se afirmar que na maioria dos casos para o conjunto de dados estudado, quando uma variável aumnetar a outra também irá aumentar. Maior correlação dentre as variáveis analisadas.\n",
        "\n",
        "**gross X title_year**\n",
        "\n",
        "Quase não apresentam correlação, isto é, são quase independentes uma da outra, a varação de uma uma quase não implica em uma variação da outra.\n",
        "\n",
        "**budget x lucro**\n",
        "\n",
        "Quase não apresentam correlação, A variação de uma uma quase não implica em uma variação da outra.\n",
        "\n",
        "**budget x title_year**\n",
        "\n",
        "Quase não apresentam correlação, A variação de uma uma quase não implica em uma variação da outra. Aprersentam maior correlação em comparação com *budget x lucro*\n",
        "\n",
        "**lucro x title_year**\n",
        "\n",
        "Quase não apresentam correlação, A variação de uma uma quase não implica em uma variação da outra. É menor correlação dentre as variáveis analisadas.\n",
        "\n",
        "\n"
      ]
    },
    {
      "cell_type": "markdown",
      "metadata": {
        "id": "4DWyCjXmp0oE",
        "colab_type": "text"
      },
      "source": [
        "## Desafio 8 do [Allan Spadini](https://twitter.com/allanspadini)\n",
        "\n",
        "Tentar encontrar uma reta, pode ser com uma régua no monitor (não faça isso), com o excel/google sheets, com o python, no gráfico que parece se aproximar com uma reta (por exemplo budget/lucro, gross/lucro)"
      ]
    },
    {
      "cell_type": "code",
      "metadata": {
        "id": "jMqVFhWmipQr",
        "colab_type": "code",
        "outputId": "f4658ff5-38bc-4c73-809b-a654d49e8956",
        "colab": {
          "base_uri": "https://localhost:8080/",
          "height": 308
        }
      },
      "source": [
        "dtf_des8 = imdb_usa[[\"movie_title\", \"title_year\", \"lucro\", \"budget\", \"gross\"]]\n",
        "\n",
        "sns.scatterplot(x=\"lucro\", y=\"budget\", data = dtf_des8)"
      ],
      "execution_count": 59,
      "outputs": [
        {
          "output_type": "execute_result",
          "data": {
            "text/plain": [
              "<matplotlib.axes._subplots.AxesSubplot at 0x7f8e482e6898>"
            ]
          },
          "metadata": {
            "tags": []
          },
          "execution_count": 59
        },
        {
          "output_type": "display_data",
          "data": {
            "image/png": "[encoded data removed]",
            "text/plain": [
              "<Figure size 432x288 with 1 Axes>"
            ]
          },
          "metadata": {
            "tags": []
          }
        }
      ]
    },
    {
      "cell_type": "code",
      "metadata": {
        "id": "6IFen1m0nqYn",
        "colab_type": "code",
        "outputId": "c582e40d-6b92-4ef2-f60d-5e598bd4940f",
        "colab": {
          "base_uri": "https://localhost:8080/",
          "height": 308
        }
      },
      "source": [
        "sns.lineplot( x=\"lucro\", y=\"budget\", data = dtf_des8 )"
      ],
      "execution_count": 60,
      "outputs": [
        {
          "output_type": "execute_result",
          "data": {
            "text/plain": [
              "<matplotlib.axes._subplots.AxesSubplot at 0x7f8e4853c080>"
            ]
          },
          "metadata": {
            "tags": []
          },
          "execution_count": 60
        },
        {
          "output_type": "display_data",
          "data": {
            "image/png": "[encoded data removed]",
            "text/plain": [
              "<Figure size 432x288 with 1 Axes>"
            ]
          },
          "metadata": {
            "tags": []
          }
        }
      ]
    },
    {
      "cell_type": "markdown",
      "metadata": {
        "id": "bLrKJJZ8pixB",
        "colab_type": "text"
      },
      "source": [
        "Como \"budget\" e \"lucro\" não são variáveis fortemente correlacionadas, é muito difícil estabelecer uma reta entre essas duas variáveis."
      ]
    },
    {
      "cell_type": "code",
      "metadata": {
        "id": "jziQyhwSp7Jx",
        "colab_type": "code",
        "outputId": "f5fd72f1-ad9e-4a14-ac2c-149dbb43ec5c",
        "colab": {
          "base_uri": "https://localhost:8080/",
          "height": 308
        }
      },
      "source": [
        "sns.scatterplot(x=\"lucro\", y=\"gross\", data = dtf_des8)"
      ],
      "execution_count": 61,
      "outputs": [
        {
          "output_type": "execute_result",
          "data": {
            "text/plain": [
              "<matplotlib.axes._subplots.AxesSubplot at 0x7f8e486bb5c0>"
            ]
          },
          "metadata": {
            "tags": []
          },
          "execution_count": 61
        },
        {
          "output_type": "display_data",
          "data": {
            "image/png": "[encoded data removed]",
            "text/plain": [
              "<Figure size 432x288 with 1 Axes>"
            ]
          },
          "metadata": {
            "tags": []
          }
        }
      ]
    },
    {
      "cell_type": "code",
      "metadata": {
        "id": "jUNuImWjqFMR",
        "colab_type": "code",
        "outputId": "cdb94c9a-4b9d-4a00-c414-9e9f082fc6f7",
        "colab": {
          "base_uri": "https://localhost:8080/",
          "height": 308
        }
      },
      "source": [
        "sns.lineplot( x=\"lucro\", y=\"gross\", data = dtf_des8 )"
      ],
      "execution_count": 62,
      "outputs": [
        {
          "output_type": "execute_result",
          "data": {
            "text/plain": [
              "<matplotlib.axes._subplots.AxesSubplot at 0x7f8e48a8d4a8>"
            ]
          },
          "metadata": {
            "tags": []
          },
          "execution_count": 62
        },
        {
          "output_type": "display_data",
          "data": {
            "image/png": "[encoded data removed]",
            "text/plain": [
              "<Figure size 432x288 with 1 Axes>"
            ]
          },
          "metadata": {
            "tags": []
          }
        }
      ]
    },
    {
      "cell_type": "markdown",
      "metadata": {
        "id": "cjBbnjkKrK7N",
        "colab_type": "text"
      },
      "source": [
        "Como \"gross\" e \"lucro\" são fortemente correlacionadas positivamente, quando gross aumenta provalvelmente o lucro também aumentará. Existem casos que não é verdade a afirmação anterior, pelo gráfico pode-se constatar que existem filmes que deram prejuízo."
      ]
    },
    {
      "cell_type": "markdown",
      "metadata": {
        "id": "DXn8AOtErANb",
        "colab_type": "text"
      },
      "source": [
        "![image.png](data:image/png;base64,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)"
      ]
    },
    {
      "cell_type": "markdown",
      "metadata": {
        "id": "F1vbpLIZp4y5",
        "colab_type": "text"
      },
      "source": [
        "## Desafio 9 da [Thais André](https://twitter.com/thais_tandre)\n",
        "\n",
        "Analisar e interpretar a correlação de outras variáveis além das feitas em sala (notas é uma boa). Número de avaliações por ano pode ser também uma feature.\n"
      ]
    },
    {
      "cell_type": "code",
      "metadata": {
        "id": "ToVOzCiTZG1_",
        "colab_type": "code",
        "outputId": "76400886-04da-4066-f75a-676b7a121820",
        "colab": {
          "base_uri": "https://localhost:8080/",
          "height": 143
        }
      },
      "source": [
        "dtf_des9 = imdb\n",
        "\n",
        "dtf_des9 = dtf_des9[[\"imdb_score\", \"num_voted_users\", \"title_year\"]].dropna()\n",
        "\n",
        "dtf_des9.corr()"
      ],
      "execution_count": 63,
      "outputs": [
        {
          "output_type": "execute_result",
          "data": {
            "text/html": [
              "<div>\n",
              "<style scoped>\n",
              "    .dataframe tbody tr th:only-of-type {\n",
              "        vertical-align: middle;\n",
              "    }\n",
              "\n",
              "    .dataframe tbody tr th {\n",
              "        vertical-align: top;\n",
              "    }\n",
              "\n",
              "    .dataframe thead th {\n",
              "        text-align: right;\n",
              "    }\n",
              "</style>\n",
              "<table border=\"1\" class=\"dataframe\">\n",
              "  <thead>\n",
              "    <tr style=\"text-align: right;\">\n",
              "      <th></th>\n",
              "      <th>imdb_score</th>\n",
              "      <th>num_voted_users</th>\n",
              "      <th>title_year</th>\n",
              "    </tr>\n",
              "  </thead>\n",
              "  <tbody>\n",
              "    <tr>\n",
              "      <th>imdb_score</th>\n",
              "      <td>1.000000</td>\n",
              "      <td>0.427629</td>\n",
              "      <td>-0.207591</td>\n",
              "    </tr>\n",
              "    <tr>\n",
              "      <th>num_voted_users</th>\n",
              "      <td>0.427629</td>\n",
              "      <td>1.000000</td>\n",
              "      <td>0.007232</td>\n",
              "    </tr>\n",
              "    <tr>\n",
              "      <th>title_year</th>\n",
              "      <td>-0.207591</td>\n",
              "      <td>0.007232</td>\n",
              "      <td>1.000000</td>\n",
              "    </tr>\n",
              "  </tbody>\n",
              "</table>\n",
              "</div>"
            ],
            "text/plain": [
              "                 imdb_score  num_voted_users  title_year\n",
              "imdb_score         1.000000         0.427629   -0.207591\n",
              "num_voted_users    0.427629         1.000000    0.007232\n",
              "title_year        -0.207591         0.007232    1.000000"
            ]
          },
          "metadata": {
            "tags": []
          },
          "execution_count": 63
        }
      ]
    },
    {
      "cell_type": "markdown",
      "metadata": {
        "id": "1kxMw9VhatjS",
        "colab_type": "text"
      },
      "source": [
        "**imdb_score x num_vodted_users**\n",
        "\n",
        "Apresenta correlação positiva, mas não se aproxima de uma relação linear bem definida. \n",
        "\n",
        "**imdb_score x title_year**\n",
        "\n",
        "Apresenta correlação negativa, próxima da neutralidade.\n",
        "\n",
        "**title_year x num_vodted_users**\n",
        "\n",
        "Correlação bem próxima do zero, indicando que praticamente são variáveis independentes entre si."
      ]
    },
    {
      "cell_type": "markdown",
      "metadata": {
        "id": "vN423KaBi5iB",
        "colab_type": "text"
      },
      "source": [
        ""
      ]
    }
  ]
}
