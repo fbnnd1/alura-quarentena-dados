{
  "nbformat": 4,
  "nbformat_minor": 0,
  "metadata": {
    "colab": {
      "name": "RespDesafiosAula2.ipynb",
      "provenance": []
    },
    "kernelspec": {
      "name": "python3",
      "display_name": "Python 3"
    }
  },
  "cells": [
    {
      "cell_type": "markdown",
      "metadata": {
        "id": "N5Zx7_e798pv",
        "colab_type": "text"
      },
      "source": [
        "# Respostas Desafios Aula 2\n",
        "\n",
        "Este notebook contém os as resposntas dos desafios da Aula 1 do treinamento da alura. QuarentenaDados"
      ]
    },
    {
      "cell_type": "code",
      "metadata": {
        "id": "qsQbBWDCgwhr",
        "colab_type": "code",
        "colab": {}
      },
      "source": [
        "import pandas as pd\n",
        "import matplotlib.pyplot as plt"
      ],
      "execution_count": 0,
      "outputs": []
    },
    {
      "cell_type": "markdown",
      "metadata": {
        "id": "nq28BzfHhBVa",
        "colab_type": "text"
      },
      "source": [
        "importando filmes"
      ]
    },
    {
      "cell_type": "code",
      "metadata": {
        "id": "O4o2nxDMg6O0",
        "colab_type": "code",
        "outputId": "6ca3a129-9aa8-479d-fa93-9f9cae2e07f8",
        "colab": {
          "base_uri": "https://localhost:8080/",
          "height": 206
        }
      },
      "source": [
        "filmes = pd.read_csv(\"https://raw.githubusercontent.com/alura-cursos/introducao-a-data-science/master/aula0/ml-latest-small/movies.csv\")\n",
        "# filmes é um DataFrame\n",
        "filmes.columns = [\"filmeId\", \"titulo\", \"generos\"]\n",
        "filmes.head()"
      ],
      "execution_count": 2,
      "outputs": [
        {
          "output_type": "execute_result",
          "data": {
            "text/html": [
              "<div>\n",
              "<style scoped>\n",
              "    .dataframe tbody tr th:only-of-type {\n",
              "        vertical-align: middle;\n",
              "    }\n",
              "\n",
              "    .dataframe tbody tr th {\n",
              "        vertical-align: top;\n",
              "    }\n",
              "\n",
              "    .dataframe thead th {\n",
              "        text-align: right;\n",
              "    }\n",
              "</style>\n",
              "<table border=\"1\" class=\"dataframe\">\n",
              "  <thead>\n",
              "    <tr style=\"text-align: right;\">\n",
              "      <th></th>\n",
              "      <th>filmeId</th>\n",
              "      <th>titulo</th>\n",
              "      <th>generos</th>\n",
              "    </tr>\n",
              "  </thead>\n",
              "  <tbody>\n",
              "    <tr>\n",
              "      <th>0</th>\n",
              "      <td>1</td>\n",
              "      <td>Toy Story (1995)</td>\n",
              "      <td>Adventure|Animation|Children|Comedy|Fantasy</td>\n",
              "    </tr>\n",
              "    <tr>\n",
              "      <th>1</th>\n",
              "      <td>2</td>\n",
              "      <td>Jumanji (1995)</td>\n",
              "      <td>Adventure|Children|Fantasy</td>\n",
              "    </tr>\n",
              "    <tr>\n",
              "      <th>2</th>\n",
              "      <td>3</td>\n",
              "      <td>Grumpier Old Men (1995)</td>\n",
              "      <td>Comedy|Romance</td>\n",
              "    </tr>\n",
              "    <tr>\n",
              "      <th>3</th>\n",
              "      <td>4</td>\n",
              "      <td>Waiting to Exhale (1995)</td>\n",
              "      <td>Comedy|Drama|Romance</td>\n",
              "    </tr>\n",
              "    <tr>\n",
              "      <th>4</th>\n",
              "      <td>5</td>\n",
              "      <td>Father of the Bride Part II (1995)</td>\n",
              "      <td>Comedy</td>\n",
              "    </tr>\n",
              "  </tbody>\n",
              "</table>\n",
              "</div>"
            ],
            "text/plain": [
              "   filmeId  ...                                      generos\n",
              "0        1  ...  Adventure|Animation|Children|Comedy|Fantasy\n",
              "1        2  ...                   Adventure|Children|Fantasy\n",
              "2        3  ...                               Comedy|Romance\n",
              "3        4  ...                         Comedy|Drama|Romance\n",
              "4        5  ...                                       Comedy\n",
              "\n",
              "[5 rows x 3 columns]"
            ]
          },
          "metadata": {
            "tags": []
          },
          "execution_count": 2
        }
      ]
    },
    {
      "cell_type": "markdown",
      "metadata": {
        "id": "gOvlYpPYhE7h",
        "colab_type": "text"
      },
      "source": [
        "importando alaliações"
      ]
    },
    {
      "cell_type": "code",
      "metadata": {
        "id": "K3CTiWrOg9Lx",
        "colab_type": "code",
        "outputId": "ff99c35a-4537-4c03-9141-d6eaf61ad215",
        "colab": {
          "base_uri": "https://localhost:8080/",
          "height": 206
        }
      },
      "source": [
        "#avaliacoes é um dataframe\n",
        "avaliacoes = pd.read_csv(\"https://github.com/alura-cursos/introducao-a-data-science/blob/master/aula0/ml-latest-small/ratings.csv?raw=true\")\n",
        "avaliacoes.head()"
      ],
      "execution_count": 3,
      "outputs": [
        {
          "output_type": "execute_result",
          "data": {
            "text/html": [
              "<div>\n",
              "<style scoped>\n",
              "    .dataframe tbody tr th:only-of-type {\n",
              "        vertical-align: middle;\n",
              "    }\n",
              "\n",
              "    .dataframe tbody tr th {\n",
              "        vertical-align: top;\n",
              "    }\n",
              "\n",
              "    .dataframe thead th {\n",
              "        text-align: right;\n",
              "    }\n",
              "</style>\n",
              "<table border=\"1\" class=\"dataframe\">\n",
              "  <thead>\n",
              "    <tr style=\"text-align: right;\">\n",
              "      <th></th>\n",
              "      <th>userId</th>\n",
              "      <th>movieId</th>\n",
              "      <th>rating</th>\n",
              "      <th>timestamp</th>\n",
              "    </tr>\n",
              "  </thead>\n",
              "  <tbody>\n",
              "    <tr>\n",
              "      <th>0</th>\n",
              "      <td>1</td>\n",
              "      <td>1</td>\n",
              "      <td>4.0</td>\n",
              "      <td>964982703</td>\n",
              "    </tr>\n",
              "    <tr>\n",
              "      <th>1</th>\n",
              "      <td>1</td>\n",
              "      <td>3</td>\n",
              "      <td>4.0</td>\n",
              "      <td>964981247</td>\n",
              "    </tr>\n",
              "    <tr>\n",
              "      <th>2</th>\n",
              "      <td>1</td>\n",
              "      <td>6</td>\n",
              "      <td>4.0</td>\n",
              "      <td>964982224</td>\n",
              "    </tr>\n",
              "    <tr>\n",
              "      <th>3</th>\n",
              "      <td>1</td>\n",
              "      <td>47</td>\n",
              "      <td>5.0</td>\n",
              "      <td>964983815</td>\n",
              "    </tr>\n",
              "    <tr>\n",
              "      <th>4</th>\n",
              "      <td>1</td>\n",
              "      <td>50</td>\n",
              "      <td>5.0</td>\n",
              "      <td>964982931</td>\n",
              "    </tr>\n",
              "  </tbody>\n",
              "</table>\n",
              "</div>"
            ],
            "text/plain": [
              "   userId  movieId  rating  timestamp\n",
              "0       1        1     4.0  964982703\n",
              "1       1        3     4.0  964981247\n",
              "2       1        6     4.0  964982224\n",
              "3       1       47     5.0  964983815\n",
              "4       1       50     5.0  964982931"
            ]
          },
          "metadata": {
            "tags": []
          },
          "execution_count": 3
        }
      ]
    },
    {
      "cell_type": "markdown",
      "metadata": {
        "id": "DAc5-7Wqh0aP",
        "colab_type": "text"
      },
      "source": [
        "Renomenado colunas"
      ]
    },
    {
      "cell_type": "code",
      "metadata": {
        "id": "o8LFW_Fch3Vu",
        "colab_type": "code",
        "outputId": "ca2a296a-189d-40e9-83c2-8c452c5f7081",
        "colab": {
          "base_uri": "https://localhost:8080/",
          "height": 206
        }
      },
      "source": [
        "avaliacoes.columns = [\"usuarioId\", \"filmeId\", \"nota\", \"momento\"]\n",
        "avaliacoes.head()"
      ],
      "execution_count": 4,
      "outputs": [
        {
          "output_type": "execute_result",
          "data": {
            "text/html": [
              "<div>\n",
              "<style scoped>\n",
              "    .dataframe tbody tr th:only-of-type {\n",
              "        vertical-align: middle;\n",
              "    }\n",
              "\n",
              "    .dataframe tbody tr th {\n",
              "        vertical-align: top;\n",
              "    }\n",
              "\n",
              "    .dataframe thead th {\n",
              "        text-align: right;\n",
              "    }\n",
              "</style>\n",
              "<table border=\"1\" class=\"dataframe\">\n",
              "  <thead>\n",
              "    <tr style=\"text-align: right;\">\n",
              "      <th></th>\n",
              "      <th>usuarioId</th>\n",
              "      <th>filmeId</th>\n",
              "      <th>nota</th>\n",
              "      <th>momento</th>\n",
              "    </tr>\n",
              "  </thead>\n",
              "  <tbody>\n",
              "    <tr>\n",
              "      <th>0</th>\n",
              "      <td>1</td>\n",
              "      <td>1</td>\n",
              "      <td>4.0</td>\n",
              "      <td>964982703</td>\n",
              "    </tr>\n",
              "    <tr>\n",
              "      <th>1</th>\n",
              "      <td>1</td>\n",
              "      <td>3</td>\n",
              "      <td>4.0</td>\n",
              "      <td>964981247</td>\n",
              "    </tr>\n",
              "    <tr>\n",
              "      <th>2</th>\n",
              "      <td>1</td>\n",
              "      <td>6</td>\n",
              "      <td>4.0</td>\n",
              "      <td>964982224</td>\n",
              "    </tr>\n",
              "    <tr>\n",
              "      <th>3</th>\n",
              "      <td>1</td>\n",
              "      <td>47</td>\n",
              "      <td>5.0</td>\n",
              "      <td>964983815</td>\n",
              "    </tr>\n",
              "    <tr>\n",
              "      <th>4</th>\n",
              "      <td>1</td>\n",
              "      <td>50</td>\n",
              "      <td>5.0</td>\n",
              "      <td>964982931</td>\n",
              "    </tr>\n",
              "  </tbody>\n",
              "</table>\n",
              "</div>"
            ],
            "text/plain": [
              "   usuarioId  filmeId  nota    momento\n",
              "0          1        1   4.0  964982703\n",
              "1          1        3   4.0  964981247\n",
              "2          1        6   4.0  964982224\n",
              "3          1       47   5.0  964983815\n",
              "4          1       50   5.0  964982931"
            ]
          },
          "metadata": {
            "tags": []
          },
          "execution_count": 4
        }
      ]
    },
    {
      "cell_type": "code",
      "metadata": {
        "id": "ta8I0gm3jJMK",
        "colab_type": "code",
        "outputId": "2d0de6b1-a77b-405e-a4e9-c0eb96ef3a81",
        "colab": {
          "base_uri": "https://localhost:8080/",
          "height": 206
        }
      },
      "source": [
        "#Agrupando por filme\n",
        "notas_medias_por_filme = avaliacoes.groupby(\"filmeId\")[\"nota\"].mean()\n",
        "\n",
        "#Realizando join com dataframe 'filmes'\n",
        "filmes_com_media = filmes.join(notas_medias_por_filme, on=\"filmeId\")\n",
        "filmes_com_media.head()\n"
      ],
      "execution_count": 5,
      "outputs": [
        {
          "output_type": "execute_result",
          "data": {
            "text/html": [
              "<div>\n",
              "<style scoped>\n",
              "    .dataframe tbody tr th:only-of-type {\n",
              "        vertical-align: middle;\n",
              "    }\n",
              "\n",
              "    .dataframe tbody tr th {\n",
              "        vertical-align: top;\n",
              "    }\n",
              "\n",
              "    .dataframe thead th {\n",
              "        text-align: right;\n",
              "    }\n",
              "</style>\n",
              "<table border=\"1\" class=\"dataframe\">\n",
              "  <thead>\n",
              "    <tr style=\"text-align: right;\">\n",
              "      <th></th>\n",
              "      <th>filmeId</th>\n",
              "      <th>titulo</th>\n",
              "      <th>generos</th>\n",
              "      <th>nota</th>\n",
              "    </tr>\n",
              "  </thead>\n",
              "  <tbody>\n",
              "    <tr>\n",
              "      <th>0</th>\n",
              "      <td>1</td>\n",
              "      <td>Toy Story (1995)</td>\n",
              "      <td>Adventure|Animation|Children|Comedy|Fantasy</td>\n",
              "      <td>3.920930</td>\n",
              "    </tr>\n",
              "    <tr>\n",
              "      <th>1</th>\n",
              "      <td>2</td>\n",
              "      <td>Jumanji (1995)</td>\n",
              "      <td>Adventure|Children|Fantasy</td>\n",
              "      <td>3.431818</td>\n",
              "    </tr>\n",
              "    <tr>\n",
              "      <th>2</th>\n",
              "      <td>3</td>\n",
              "      <td>Grumpier Old Men (1995)</td>\n",
              "      <td>Comedy|Romance</td>\n",
              "      <td>3.259615</td>\n",
              "    </tr>\n",
              "    <tr>\n",
              "      <th>3</th>\n",
              "      <td>4</td>\n",
              "      <td>Waiting to Exhale (1995)</td>\n",
              "      <td>Comedy|Drama|Romance</td>\n",
              "      <td>2.357143</td>\n",
              "    </tr>\n",
              "    <tr>\n",
              "      <th>4</th>\n",
              "      <td>5</td>\n",
              "      <td>Father of the Bride Part II (1995)</td>\n",
              "      <td>Comedy</td>\n",
              "      <td>3.071429</td>\n",
              "    </tr>\n",
              "  </tbody>\n",
              "</table>\n",
              "</div>"
            ],
            "text/plain": [
              "   filmeId  ...      nota\n",
              "0        1  ...  3.920930\n",
              "1        2  ...  3.431818\n",
              "2        3  ...  3.259615\n",
              "3        4  ...  2.357143\n",
              "4        5  ...  3.071429\n",
              "\n",
              "[5 rows x 4 columns]"
            ]
          },
          "metadata": {
            "tags": []
          },
          "execution_count": 5
        }
      ]
    },
    {
      "cell_type": "markdown",
      "metadata": {
        "id": "6tffVUM2jgv2",
        "colab_type": "text"
      },
      "source": [
        "Renomeando colunas"
      ]
    },
    {
      "cell_type": "code",
      "metadata": {
        "id": "UPzCUOJ7znA3",
        "colab_type": "code",
        "outputId": "31502ecf-1aca-4ea1-ff34-2ba027c5b11f",
        "colab": {
          "base_uri": "https://localhost:8080/",
          "height": 206
        }
      },
      "source": [
        "filmes_com_media.columns =  [\"filmeId\", \"titulo\", \"generos\", \"nota_média\"]\n",
        "\n",
        "filmes_com_media.head(5)"
      ],
      "execution_count": 6,
      "outputs": [
        {
          "output_type": "execute_result",
          "data": {
            "text/html": [
              "<div>\n",
              "<style scoped>\n",
              "    .dataframe tbody tr th:only-of-type {\n",
              "        vertical-align: middle;\n",
              "    }\n",
              "\n",
              "    .dataframe tbody tr th {\n",
              "        vertical-align: top;\n",
              "    }\n",
              "\n",
              "    .dataframe thead th {\n",
              "        text-align: right;\n",
              "    }\n",
              "</style>\n",
              "<table border=\"1\" class=\"dataframe\">\n",
              "  <thead>\n",
              "    <tr style=\"text-align: right;\">\n",
              "      <th></th>\n",
              "      <th>filmeId</th>\n",
              "      <th>titulo</th>\n",
              "      <th>generos</th>\n",
              "      <th>nota_média</th>\n",
              "    </tr>\n",
              "  </thead>\n",
              "  <tbody>\n",
              "    <tr>\n",
              "      <th>0</th>\n",
              "      <td>1</td>\n",
              "      <td>Toy Story (1995)</td>\n",
              "      <td>Adventure|Animation|Children|Comedy|Fantasy</td>\n",
              "      <td>3.920930</td>\n",
              "    </tr>\n",
              "    <tr>\n",
              "      <th>1</th>\n",
              "      <td>2</td>\n",
              "      <td>Jumanji (1995)</td>\n",
              "      <td>Adventure|Children|Fantasy</td>\n",
              "      <td>3.431818</td>\n",
              "    </tr>\n",
              "    <tr>\n",
              "      <th>2</th>\n",
              "      <td>3</td>\n",
              "      <td>Grumpier Old Men (1995)</td>\n",
              "      <td>Comedy|Romance</td>\n",
              "      <td>3.259615</td>\n",
              "    </tr>\n",
              "    <tr>\n",
              "      <th>3</th>\n",
              "      <td>4</td>\n",
              "      <td>Waiting to Exhale (1995)</td>\n",
              "      <td>Comedy|Drama|Romance</td>\n",
              "      <td>2.357143</td>\n",
              "    </tr>\n",
              "    <tr>\n",
              "      <th>4</th>\n",
              "      <td>5</td>\n",
              "      <td>Father of the Bride Part II (1995)</td>\n",
              "      <td>Comedy</td>\n",
              "      <td>3.071429</td>\n",
              "    </tr>\n",
              "  </tbody>\n",
              "</table>\n",
              "</div>"
            ],
            "text/plain": [
              "   filmeId  ... nota_média\n",
              "0        1  ...   3.920930\n",
              "1        2  ...   3.431818\n",
              "2        3  ...   3.259615\n",
              "3        4  ...   2.357143\n",
              "4        5  ...   3.071429\n",
              "\n",
              "[5 rows x 4 columns]"
            ]
          },
          "metadata": {
            "tags": []
          },
          "execution_count": 6
        }
      ]
    },
    {
      "cell_type": "code",
      "metadata": {
        "id": "F_tGjCtK_Q-o",
        "colab_type": "code",
        "colab": {}
      },
      "source": [
        "def plot_filme(n):\n",
        "  notas_do_filme = avaliacoes.query(f\"filmeId=={n}\")[\"nota\"]\n",
        "  notas_do_filme.plot(kind='hist')\n",
        "  plt.show()\n",
        "  print('\\n')\n",
        "  notas_do_filme.plot.box()\n",
        "  plt.show()\n",
        "  return notas_do_filme.describe()"
      ],
      "execution_count": 0,
      "outputs": []
    },
    {
      "cell_type": "markdown",
      "metadata": {
        "id": "97Gxt8RlPFEj",
        "colab_type": "text"
      },
      "source": [
        "##Desafio 1 do [Guilherme Silveira](https://twitter.com/guilhermecaelum)\n",
        "\n",
        "Rotacionar os thicks (os nomes dos generos) do gráfico de barras verdes (o último), de forma a deixar as legendas mais legíveis."
      ]
    },
    {
      "cell_type": "markdown",
      "metadata": {
        "id": "jaobKNjjUMJz",
        "colab_type": "text"
      },
      "source": [
        "Gráfico para alterar"
      ]
    },
    {
      "cell_type": "code",
      "metadata": {
        "id": "g8Qp8xgPUD5o",
        "colab_type": "code",
        "outputId": "de9e1bd1-47ba-4587-91a8-9d5e1d82e6d3",
        "colab": {
          "base_uri": "https://localhost:8080/",
          "height": 540
        }
      },
      "source": [
        "import seaborn as sns\n",
        "sns.set_style(\"whitegrid\")\n",
        "\n",
        "filmes_por_genero = filmes[\"generos\"].str.get_dummies('|').sum().sort_values(ascending=False)\n",
        "plt.figure(figsize=(16,8))\n",
        "sns.barplot(x=filmes_por_genero.index,\n",
        "            y=filmes_por_genero.values,\n",
        "            palette=sns.color_palette(\"BuGn_r\", n_colors=len(filmes_por_genero) + 4))\n",
        "plt.show()"
      ],
      "execution_count": 8,
      "outputs": [
        {
          "output_type": "stream",
          "text": [
            "/usr/local/lib/python3.6/dist-packages/statsmodels/tools/_testing.py:19: FutureWarning: pandas.util.testing is deprecated. Use the functions in the public API at pandas.testing instead.\n",
            "  import pandas.util.testing as tm\n"
          ],
          "name": "stderr"
        },
        {
          "output_type": "display_data",
          "data": {
            "image/png": "[encoded data removed]",
            "text/plain": [
              "<Figure size 1152x576 with 1 Axes>"
            ]
          },
          "metadata": {
            "tags": []
          }
        }
      ]
    },
    {
      "cell_type": "markdown",
      "metadata": {
        "id": "ZaU5uhVgVJfj",
        "colab_type": "text"
      },
      "source": [
        "**Solução**\n",
        "\n",
        "fonte: https://stackoverflow.com/questions/31859285/rotate-tick-labels-for-seaborn-barplot"
      ]
    },
    {
      "cell_type": "code",
      "metadata": {
        "id": "bo8dwvizVHd3",
        "colab_type": "code",
        "outputId": "3e462882-c8d5-44f2-a861-7594e8c6e796",
        "colab": {
          "base_uri": "https://localhost:8080/",
          "height": 542
        }
      },
      "source": [
        "\n",
        "plt.figure(figsize=(16,8))\n",
        "obj_sns_barplot = sns.barplot(x=filmes_por_genero.index,\n",
        "            y=filmes_por_genero.values,\n",
        "            palette=sns.color_palette(\"BuGn_r\", n_colors=len(filmes_por_genero) + 4))\n",
        "\n",
        "#obj_sns_barplot.set_xticklabels(<lista de rótulos>, rotation=<rotação em graus>)\n",
        "obj_sns_barplot.set_xticklabels(filmes_por_genero.index, rotation=45, )\n",
        "\n",
        "plt.show() "
      ],
      "execution_count": 9,
      "outputs": [
        {
          "output_type": "display_data",
          "data": {
            "image/png": "[encoded data removed]",
            "text/plain": [
              "<Figure size 1152x576 with 1 Axes>"
            ]
          },
          "metadata": {
            "tags": []
          }
        }
      ]
    },
    {
      "cell_type": "code",
      "metadata": {
        "id": "LNCsbY6HZXWe",
        "colab_type": "code",
        "outputId": "760bdc92-2ddc-46d4-d0f2-4e757cf0588d",
        "colab": {
          "base_uri": "https://localhost:8080/",
          "height": 542
        }
      },
      "source": [
        "plt.figure(figsize=(16,8))\n",
        "obj_sns_barplot = sns.barplot(x=filmes_por_genero.index,\n",
        "            y=filmes_por_genero.values,\n",
        "            palette=sns.color_palette(\"BuGn_r\", n_colors=len(filmes_por_genero) + 4))\n",
        "\n",
        "#obj_sns_barplot.set_xticklabels(<lista de rótulos>, rotation=<rotação em graus>, horizontalalignment=<referencia do ponto de rotação>)\n",
        "obj_sns_barplot.set_xticklabels(obj_sns_barplot.get_xticklabels(), rotation=45, horizontalalignment='right')\n",
        "\n",
        "\n",
        "plt.show() "
      ],
      "execution_count": 10,
      "outputs": [
        {
          "output_type": "display_data",
          "data": {
            "image/png": "[encoded data removed]",
            "text/plain": [
              "<Figure size 1152x576 with 1 Axes>"
            ]
          },
          "metadata": {
            "tags": []
          }
        }
      ]
    },
    {
      "cell_type": "markdown",
      "metadata": {
        "id": "5uIsDpkAz8oa",
        "colab_type": "text"
      },
      "source": [
        "## Desafio 2 do [Paulo Silveira](https://twitter.com/paulo_caelum)\n",
        "\n",
        "Encontar vários filmes com médias próximas e distribuições diferentes, use a função **plot_filmes(n)** para plotar."
      ]
    },
    {
      "cell_type": "code",
      "metadata": {
        "id": "bb7PEJvbFgU3",
        "colab_type": "code",
        "colab": {
          "base_uri": "https://localhost:8080/",
          "height": 715
        },
        "outputId": "3829f3c2-2ee7-45b0-c8d2-bcfdd951b756"
      },
      "source": [
        "plot_filme(72294)"
      ],
      "execution_count": 11,
      "outputs": [
        {
          "output_type": "display_data",
          "data": {
            "image/png": "[encoded data removed]",
            "text/plain": [
              "<Figure size 432x288 with 1 Axes>"
            ]
          },
          "metadata": {
            "tags": []
          }
        },
        {
          "output_type": "stream",
          "text": [
            "\n",
            "\n"
          ],
          "name": "stdout"
        },
        {
          "output_type": "display_data",
          "data": {
            "image/png": "[encoded data removed]",
            "text/plain": [
              "<Figure size 432x288 with 1 Axes>"
            ]
          },
          "metadata": {
            "tags": []
          }
        },
        {
          "output_type": "execute_result",
          "data": {
            "text/plain": [
              "count    2.000000\n",
              "mean     3.000000\n",
              "std      0.707107\n",
              "min      2.500000\n",
              "25%      2.750000\n",
              "50%      3.000000\n",
              "75%      3.250000\n",
              "max      3.500000\n",
              "Name: nota, dtype: float64"
            ]
          },
          "metadata": {
            "tags": []
          },
          "execution_count": 11
        }
      ]
    },
    {
      "cell_type": "code",
      "metadata": {
        "id": "0MFwH9UqJ8CM",
        "colab_type": "code",
        "colab": {
          "base_uri": "https://localhost:8080/",
          "height": 715
        },
        "outputId": "b8ea9cca-c363-4187-96c7-d08c5f92d084"
      },
      "source": [
        "plot_filme(4927)"
      ],
      "execution_count": 12,
      "outputs": [
        {
          "output_type": "display_data",
          "data": {
            "image/png": "[encoded data removed]",
            "text/plain": [
              "<Figure size 432x288 with 1 Axes>"
            ]
          },
          "metadata": {
            "tags": []
          }
        },
        {
          "output_type": "stream",
          "text": [
            "\n",
            "\n"
          ],
          "name": "stdout"
        },
        {
          "output_type": "display_data",
          "data": {
            "image/png": "[encoded data removed]",
            "text/plain": [
              "<Figure size 432x288 with 1 Axes>"
            ]
          },
          "metadata": {
            "tags": []
          }
        },
        {
          "output_type": "execute_result",
          "data": {
            "text/plain": [
              "count    1.0\n",
              "mean     3.0\n",
              "std      NaN\n",
              "min      3.0\n",
              "25%      3.0\n",
              "50%      3.0\n",
              "75%      3.0\n",
              "max      3.0\n",
              "Name: nota, dtype: float64"
            ]
          },
          "metadata": {
            "tags": []
          },
          "execution_count": 12
        }
      ]
    },
    {
      "cell_type": "code",
      "metadata": {
        "id": "ThB7V5zvLAQ0",
        "colab_type": "code",
        "colab": {
          "base_uri": "https://localhost:8080/",
          "height": 715
        },
        "outputId": "1b5fd5d1-8a31-4124-9f35-6591f7cc5de2"
      },
      "source": [
        "plot_filme(96417)"
      ],
      "execution_count": 13,
      "outputs": [
        {
          "output_type": "display_data",
          "data": {
            "image/png": "[encoded data removed]",
            "text/plain": [
              "<Figure size 432x288 with 1 Axes>"
            ]
          },
          "metadata": {
            "tags": []
          }
        },
        {
          "output_type": "stream",
          "text": [
            "\n",
            "\n"
          ],
          "name": "stdout"
        },
        {
          "output_type": "display_data",
          "data": {
            "image/png": "[encoded data removed]",
            "text/plain": [
              "<Figure size 432x288 with 1 Axes>"
            ]
          },
          "metadata": {
            "tags": []
          }
        },
        {
          "output_type": "execute_result",
          "data": {
            "text/plain": [
              "count    5.00000\n",
              "mean     3.20000\n",
              "std      0.83666\n",
              "min      2.00000\n",
              "25%      3.00000\n",
              "50%      3.00000\n",
              "75%      4.00000\n",
              "max      4.00000\n",
              "Name: nota, dtype: float64"
            ]
          },
          "metadata": {
            "tags": []
          },
          "execution_count": 13
        }
      ]
    },
    {
      "cell_type": "code",
      "metadata": {
        "id": "Tgj2S7P3LArz",
        "colab_type": "code",
        "colab": {
          "base_uri": "https://localhost:8080/",
          "height": 715
        },
        "outputId": "c502cda4-40de-46a8-d40c-92256aa8ded3"
      },
      "source": [
        "plot_filme(165549)"
      ],
      "execution_count": 14,
      "outputs": [
        {
          "output_type": "display_data",
          "data": {
            "image/png": "[encoded data removed]",
            "text/plain": [
              "<Figure size 432x288 with 1 Axes>"
            ]
          },
          "metadata": {
            "tags": []
          }
        },
        {
          "output_type": "stream",
          "text": [
            "\n",
            "\n"
          ],
          "name": "stdout"
        },
        {
          "output_type": "display_data",
          "data": {
            "image/png": "[encoded data removed]",
            "text/plain": [
              "<Figure size 432x288 with 1 Axes>"
            ]
          },
          "metadata": {
            "tags": []
          }
        },
        {
          "output_type": "execute_result",
          "data": {
            "text/plain": [
              "count    5.000000\n",
              "mean     2.900000\n",
              "std      1.557241\n",
              "min      1.000000\n",
              "25%      1.500000\n",
              "50%      3.500000\n",
              "75%      4.000000\n",
              "max      4.500000\n",
              "Name: nota, dtype: float64"
            ]
          },
          "metadata": {
            "tags": []
          },
          "execution_count": 14
        }
      ]
    },
    {
      "cell_type": "markdown",
      "metadata": {
        "id": "NStHNYlcQrhs",
        "colab_type": "text"
      },
      "source": [
        "## Desafio 3 do [Paulo Silveira](https://twitter.com/paulo_caelum)\n",
        "\n",
        " Criar o boxplot dos 10 filmes com mais votos (não é com maior média, é com mais votos!). Não apenas plot mas também analise e tente tirar conclusões."
      ]
    },
    {
      "cell_type": "code",
      "metadata": {
        "id": "tKUH1_epZ-2_",
        "colab_type": "code",
        "colab": {}
      },
      "source": [
        "#Copiando dataset\n",
        "dtf_avaliacoes_copia1 = avaliacoes.copy()\n",
        "\n",
        "#Gerando série com o total de avaliações\n",
        "dtf_avaliacoes_copia1[\"avaliacao\"] = 1\n",
        "\n",
        "serie_avalicaoes_p_filme = dtf_avaliacoes_copia1.groupby(by=\"filmeId\")[\"avaliacao\"].count()\n",
        "\n",
        "#Gerando série dos 10 filmes avaliados\n",
        "serie_avalicaoes_p_filme_10 = serie_avalicaoes_p_filme.sort_values(ascending=False)[0:10]"
      ],
      "execution_count": 0,
      "outputs": []
    },
    {
      "cell_type": "code",
      "metadata": {
        "id": "bFbi3RVYd81l",
        "colab_type": "code",
        "outputId": "f9b23989-a4e4-4a86-aefb-fe86cb829ec5",
        "colab": {
          "base_uri": "https://localhost:8080/",
          "height": 237
        }
      },
      "source": [
        "serie_avalicaoes_p_filme_10 "
      ],
      "execution_count": 16,
      "outputs": [
        {
          "output_type": "execute_result",
          "data": {
            "text/plain": [
              "filmeId\n",
              "356     329\n",
              "318     317\n",
              "296     307\n",
              "593     279\n",
              "2571    278\n",
              "260     251\n",
              "480     238\n",
              "110     237\n",
              "589     224\n",
              "527     220\n",
              "Name: avaliacao, dtype: int64"
            ]
          },
          "metadata": {
            "tags": []
          },
          "execution_count": 16
        }
      ]
    },
    {
      "cell_type": "markdown",
      "metadata": {
        "id": "NZOyCz8K8nmF",
        "colab_type": "text"
      },
      "source": [
        "Considerando o total de avaliações dos 10 mais avaliados, pode - se agrupar os dados em 3 grupos de acordo com a variação do número de avaliações. Diferença entre grupo variando aproximadamente 30 mais ou menos avaliações.\n",
        "\n",
        "*Grupo 1*: Os 3 primeiros filmes.  \n",
        "*Grupo 2*: Os 4º e 5º filme.  \n",
        "*Grupo 3*: Do 6º ao 10º filme.  "
      ]
    },
    {
      "cell_type": "code",
      "metadata": {
        "id": "vafftzVFfLOu",
        "colab_type": "code",
        "outputId": "748b7354-0824-4969-ec74-5f961cb48a55",
        "colab": {
          "base_uri": "https://localhost:8080/",
          "height": 932
        }
      },
      "source": [
        "\n",
        "plt.figure(figsize=(16,16))\n",
        "\n",
        "sns.boxplot(data = avaliacoes.query(\"filmeId in @serie_avalicaoes_p_filme_10.index \"), x =\"filmeId\", y=\"nota\")\n",
        "\n",
        "plt.show()"
      ],
      "execution_count": 17,
      "outputs": [
        {
          "output_type": "display_data",
          "data": {
            "image/png": "[encoded data removed]",
            "text/plain": [
              "<Figure size 1152x1152 with 1 Axes>"
            ]
          },
          "metadata": {
            "tags": []
          }
        }
      ]
    },
    {
      "cell_type": "markdown",
      "metadata": {
        "id": "oocpDQevCbUY",
        "colab_type": "text"
      },
      "source": [
        "Poucas pessoas deram notas abaixo de 2 para os filmes. \n",
        "\n",
        "Os filmes de Id 260, 296, 318, 527  2571, metade de seus respectivos avaliadores os avaliaram com nota acima de 4 (6º, 3º, 2º, 10º, 5º respectivamente.). Nesse grupo, o filme de de Id 318 , segundo filme mais popular desse grupo, 75% das notas foram igual ou acima de 3, paraoutros filmes esse limite é de 2,5 aproximadamente. Todo tem a mediana semelhante a 4,5. \n",
        "\n",
        "O filme de Id 356, mais popular, 50% das notas estão entre 4 e 5, assim como o filme 593, 4º filme mais popular. Ambos possuem 75% das notas acima ou igual a 2,5 aproximadamente e não possuem um agrupamento de dados bem definido perto da mediana. \n",
        "\n",
        "O filme de id 480 (7º filme mais avaliado):\n",
        "50% das notas 3 e 4. Não possui um agrupamento de dados bem definido perto da mediana. Diferente dos demais filmes do gráfico. 50% das avaliaçãoes não estão próximas do limite de 75%.\n",
        "\n",
        "O filme de id 110 (8º filme mais avaliado):\n",
        "50% das notas estão entre 3,5 e 5. A mediana é 4. O primeiro quartil começa em 1,5 aproximadamente, o menor limite entrre todos os filmes.\n",
        "\n",
        "O filme de id 589 (9º filme mais avaliado):\n",
        "Possui a distribuição de dados e mediana semelhante ao filme de id 110 com a diferença que o primeiro quartil começa em 2 aproximadamente.\n"
      ]
    },
    {
      "cell_type": "markdown",
      "metadata": {
        "id": "0ogSopISSYqK",
        "colab_type": "text"
      },
      "source": [
        "## Desafio 4 do [Guilherme Silveira](https://twitter.com/guilhermecaelum)\n",
        "\n",
        "Configurar a visualização do boxplot gerado pelo seaborn (último boxplot plotado na aula). Configurar o tamanho e colocar o nome dos filmes nos thicks."
      ]
    },
    {
      "cell_type": "code",
      "metadata": {
        "id": "-xjvqTFpNfVC",
        "colab_type": "code",
        "outputId": "31862014-7262-4de2-d893-909ad0731731",
        "colab": {
          "base_uri": "https://localhost:8080/",
          "height": 297
        }
      },
      "source": [
        "#Gráfico original\n",
        "\n",
        "sns.boxplot(data = avaliacoes.query(\"filmeId in [1,2,919,46578]\"), x =\"filmeId\", y=\"nota\")"
      ],
      "execution_count": 18,
      "outputs": [
        {
          "output_type": "execute_result",
          "data": {
            "text/plain": [
              "<matplotlib.axes._subplots.AxesSubplot at 0x7fce8bb47978>"
            ]
          },
          "metadata": {
            "tags": []
          },
          "execution_count": 18
        },
        {
          "output_type": "display_data",
          "data": {
            "image/png": "[encoded data removed]",
            "text/plain": [
              "<Figure size 432x288 with 1 Axes>"
            ]
          },
          "metadata": {
            "tags": []
          }
        }
      ]
    },
    {
      "cell_type": "code",
      "metadata": {
        "id": "YlD59eWuOh5Z",
        "colab_type": "code",
        "outputId": "96daf1e8-2f89-4f7a-f26b-6ef8744ee342",
        "colab": {
          "base_uri": "https://localhost:8080/",
          "height": 175
        }
      },
      "source": [
        "#Selecionando avaliações e filmes específicos\n",
        "dtf_avaliacoes_selecao1 = avaliacoes.query(\"filmeId in [1,2,919,46578]\")\n",
        "\n",
        "dtf_filmes_selecao1  = filmes[[\"filmeId\", \"titulo\"]]\n",
        "\n",
        "dtf_filmes_selecao1 = dtf_filmes_selecao1.query(\"filmeId in [1,2,919,46578]\")\n",
        "\n",
        "dtf_filmes_selecao1"
      ],
      "execution_count": 19,
      "outputs": [
        {
          "output_type": "execute_result",
          "data": {
            "text/html": [
              "<div>\n",
              "<style scoped>\n",
              "    .dataframe tbody tr th:only-of-type {\n",
              "        vertical-align: middle;\n",
              "    }\n",
              "\n",
              "    .dataframe tbody tr th {\n",
              "        vertical-align: top;\n",
              "    }\n",
              "\n",
              "    .dataframe thead th {\n",
              "        text-align: right;\n",
              "    }\n",
              "</style>\n",
              "<table border=\"1\" class=\"dataframe\">\n",
              "  <thead>\n",
              "    <tr style=\"text-align: right;\">\n",
              "      <th></th>\n",
              "      <th>filmeId</th>\n",
              "      <th>titulo</th>\n",
              "    </tr>\n",
              "  </thead>\n",
              "  <tbody>\n",
              "    <tr>\n",
              "      <th>0</th>\n",
              "      <td>1</td>\n",
              "      <td>Toy Story (1995)</td>\n",
              "    </tr>\n",
              "    <tr>\n",
              "      <th>1</th>\n",
              "      <td>2</td>\n",
              "      <td>Jumanji (1995)</td>\n",
              "    </tr>\n",
              "    <tr>\n",
              "      <th>701</th>\n",
              "      <td>919</td>\n",
              "      <td>Wizard of Oz, The (1939)</td>\n",
              "    </tr>\n",
              "    <tr>\n",
              "      <th>6242</th>\n",
              "      <td>46578</td>\n",
              "      <td>Little Miss Sunshine (2006)</td>\n",
              "    </tr>\n",
              "  </tbody>\n",
              "</table>\n",
              "</div>"
            ],
            "text/plain": [
              "      filmeId                       titulo\n",
              "0           1             Toy Story (1995)\n",
              "1           2               Jumanji (1995)\n",
              "701       919     Wizard of Oz, The (1939)\n",
              "6242    46578  Little Miss Sunshine (2006)"
            ]
          },
          "metadata": {
            "tags": []
          },
          "execution_count": 19
        }
      ]
    },
    {
      "cell_type": "code",
      "metadata": {
        "id": "u1i1ac6wOiWQ",
        "colab_type": "code",
        "outputId": "0a63cd91-079f-4c7e-b4eb-9b06ebbb390a",
        "colab": {
          "base_uri": "https://localhost:8080/",
          "height": 932
        }
      },
      "source": [
        "#Imprimindo figuras\n",
        "plt.figure(figsize=(16,16))\n",
        "obj_boxplot = sns.boxplot(data = dtf_avaliacoes_selecao1, x =dtf_avaliacoes_selecao1.filmeId , y=\"nota\")\n",
        "\n",
        "obj_boxplot.set_xticklabels(dtf_filmes_selecao1.titulo)\n",
        "obj_boxplot.set( xlabel='Filmes')\n",
        "\n",
        "plt.show()"
      ],
      "execution_count": 20,
      "outputs": [
        {
          "output_type": "display_data",
          "data": {
            "image/png": "[encoded data removed]",
            "text/plain": [
              "<Figure size 1152x1152 with 1 Axes>"
            ]
          },
          "metadata": {
            "tags": []
          }
        }
      ]
    },
    {
      "cell_type": "markdown",
      "metadata": {
        "id": "xpVPzWlhTjiw",
        "colab_type": "text"
      },
      "source": [
        "## Desafio 5 do [Allan Spadini](https://twitter.com/allanspadini)\n",
        "\n",
        "Calcular moda, média e mediana dos filmes. Explore filmes com notas mais próximas de 0.5, 3 e 5."
      ]
    },
    {
      "cell_type": "code",
      "metadata": {
        "id": "mgutOwXCUAwt",
        "colab_type": "code",
        "outputId": "a91ea0e0-62bc-4a1e-d824-2de729515c73",
        "colab": {
          "base_uri": "https://localhost:8080/",
          "height": 206
        }
      },
      "source": [
        "#https://stackoverflow.com/questions/15222754/groupby-pandas-dataframe-and-select-most-common-value\n",
        "\n",
        "dtf_avaliacoes_media_mediana_moda = avaliacoes.copy()\n",
        "\n",
        "serie_avalicaoes_media = dtf_avaliacoes_media_mediana_moda.groupby(by=\"filmeId\")[\"nota\"].mean()\n",
        "serie_avalicaoes_mediana = dtf_avaliacoes_media_mediana_moda.groupby(by=\"filmeId\")[\"nota\"].median()\n",
        "serie_avalicaoes_moda = dtf_avaliacoes_media_mediana_moda.groupby(by=\"filmeId\")[\"nota\"].agg(pd.Series.mode)\n",
        "\n",
        "serie_avalicaoes_media.name = \"media\"\n",
        "serie_avalicaoes_mediana.name = \"mediana\"\n",
        "serie_avalicaoes_moda.name = \"moda\"\n",
        "\n",
        "#Realizando joins necessários com dataframe 'filmes'\n",
        "filmes_com_media_mediana_moda = filmes.join(serie_avalicaoes_media, on=\"filmeId\")\n",
        "filmes_com_media_mediana_moda = filmes_com_media_mediana_moda.join(serie_avalicaoes_mediana, on=\"filmeId\")\n",
        "filmes_com_media_mediana_moda = filmes_com_media_mediana_moda.join(serie_avalicaoes_moda, on=\"filmeId\")\n",
        "\n",
        "filmes_com_media_mediana_moda.head()"
      ],
      "execution_count": 21,
      "outputs": [
        {
          "output_type": "execute_result",
          "data": {
            "text/html": [
              "<div>\n",
              "<style scoped>\n",
              "    .dataframe tbody tr th:only-of-type {\n",
              "        vertical-align: middle;\n",
              "    }\n",
              "\n",
              "    .dataframe tbody tr th {\n",
              "        vertical-align: top;\n",
              "    }\n",
              "\n",
              "    .dataframe thead th {\n",
              "        text-align: right;\n",
              "    }\n",
              "</style>\n",
              "<table border=\"1\" class=\"dataframe\">\n",
              "  <thead>\n",
              "    <tr style=\"text-align: right;\">\n",
              "      <th></th>\n",
              "      <th>filmeId</th>\n",
              "      <th>titulo</th>\n",
              "      <th>generos</th>\n",
              "      <th>media</th>\n",
              "      <th>mediana</th>\n",
              "      <th>moda</th>\n",
              "    </tr>\n",
              "  </thead>\n",
              "  <tbody>\n",
              "    <tr>\n",
              "      <th>0</th>\n",
              "      <td>1</td>\n",
              "      <td>Toy Story (1995)</td>\n",
              "      <td>Adventure|Animation|Children|Comedy|Fantasy</td>\n",
              "      <td>3.920930</td>\n",
              "      <td>4.0</td>\n",
              "      <td>4</td>\n",
              "    </tr>\n",
              "    <tr>\n",
              "      <th>1</th>\n",
              "      <td>2</td>\n",
              "      <td>Jumanji (1995)</td>\n",
              "      <td>Adventure|Children|Fantasy</td>\n",
              "      <td>3.431818</td>\n",
              "      <td>3.5</td>\n",
              "      <td>4</td>\n",
              "    </tr>\n",
              "    <tr>\n",
              "      <th>2</th>\n",
              "      <td>3</td>\n",
              "      <td>Grumpier Old Men (1995)</td>\n",
              "      <td>Comedy|Romance</td>\n",
              "      <td>3.259615</td>\n",
              "      <td>3.0</td>\n",
              "      <td>3</td>\n",
              "    </tr>\n",
              "    <tr>\n",
              "      <th>3</th>\n",
              "      <td>4</td>\n",
              "      <td>Waiting to Exhale (1995)</td>\n",
              "      <td>Comedy|Drama|Romance</td>\n",
              "      <td>2.357143</td>\n",
              "      <td>3.0</td>\n",
              "      <td>3</td>\n",
              "    </tr>\n",
              "    <tr>\n",
              "      <th>4</th>\n",
              "      <td>5</td>\n",
              "      <td>Father of the Bride Part II (1995)</td>\n",
              "      <td>Comedy</td>\n",
              "      <td>3.071429</td>\n",
              "      <td>3.0</td>\n",
              "      <td>3</td>\n",
              "    </tr>\n",
              "  </tbody>\n",
              "</table>\n",
              "</div>"
            ],
            "text/plain": [
              "   filmeId                              titulo  ... mediana  moda\n",
              "0        1                    Toy Story (1995)  ...     4.0     4\n",
              "1        2                      Jumanji (1995)  ...     3.5     4\n",
              "2        3             Grumpier Old Men (1995)  ...     3.0     3\n",
              "3        4            Waiting to Exhale (1995)  ...     3.0     3\n",
              "4        5  Father of the Bride Part II (1995)  ...     3.0     3\n",
              "\n",
              "[5 rows x 6 columns]"
            ]
          },
          "metadata": {
            "tags": []
          },
          "execution_count": 21
        }
      ]
    },
    {
      "cell_type": "code",
      "metadata": {
        "id": "poRppU7QGbA6",
        "colab_type": "code",
        "colab": {}
      },
      "source": [
        "filmes_com_media_mediana_moda = filmes_com_media_mediana_moda.sort_values(by=\"media\", ascending=False)\n",
        "\n",
        "filmes_com_media_mediana_moda5 = filmes_com_media_mediana_moda.query(\"media  == 5.0\")\n",
        "filmes_com_media_mediana_moda3 = filmes_com_media_mediana_moda.query(\"media == 3.0\")\n",
        "filmes_com_media_mediana_moda0_5 = filmes_com_media_mediana_moda.query(\"media == 0.5\")\n"
      ],
      "execution_count": 0,
      "outputs": []
    },
    {
      "cell_type": "code",
      "metadata": {
        "id": "9G1M4MRnGzgK",
        "colab_type": "code",
        "colab": {
          "base_uri": "https://localhost:8080/",
          "height": 424
        },
        "outputId": "316a5f8a-66e8-4f2b-f76d-2306b345710c"
      },
      "source": [
        "filmes_com_media_mediana_moda5"
      ],
      "execution_count": 23,
      "outputs": [
        {
          "output_type": "execute_result",
          "data": {
            "text/html": [
              "<div>\n",
              "<style scoped>\n",
              "    .dataframe tbody tr th:only-of-type {\n",
              "        vertical-align: middle;\n",
              "    }\n",
              "\n",
              "    .dataframe tbody tr th {\n",
              "        vertical-align: top;\n",
              "    }\n",
              "\n",
              "    .dataframe thead th {\n",
              "        text-align: right;\n",
              "    }\n",
              "</style>\n",
              "<table border=\"1\" class=\"dataframe\">\n",
              "  <thead>\n",
              "    <tr style=\"text-align: right;\">\n",
              "      <th></th>\n",
              "      <th>filmeId</th>\n",
              "      <th>titulo</th>\n",
              "      <th>generos</th>\n",
              "      <th>media</th>\n",
              "      <th>mediana</th>\n",
              "      <th>moda</th>\n",
              "    </tr>\n",
              "  </thead>\n",
              "  <tbody>\n",
              "    <tr>\n",
              "      <th>7656</th>\n",
              "      <td>88448</td>\n",
              "      <td>Paper Birds (Pájaros de papel) (2010)</td>\n",
              "      <td>Comedy|Drama</td>\n",
              "      <td>5.0</td>\n",
              "      <td>5.0</td>\n",
              "      <td>5</td>\n",
              "    </tr>\n",
              "    <tr>\n",
              "      <th>8107</th>\n",
              "      <td>100556</td>\n",
              "      <td>Act of Killing, The (2012)</td>\n",
              "      <td>Documentary</td>\n",
              "      <td>5.0</td>\n",
              "      <td>5.0</td>\n",
              "      <td>5</td>\n",
              "    </tr>\n",
              "    <tr>\n",
              "      <th>9083</th>\n",
              "      <td>143031</td>\n",
              "      <td>Jump In! (2007)</td>\n",
              "      <td>Comedy|Drama|Romance</td>\n",
              "      <td>5.0</td>\n",
              "      <td>5.0</td>\n",
              "      <td>5</td>\n",
              "    </tr>\n",
              "    <tr>\n",
              "      <th>9094</th>\n",
              "      <td>143511</td>\n",
              "      <td>Human (2015)</td>\n",
              "      <td>Documentary</td>\n",
              "      <td>5.0</td>\n",
              "      <td>5.0</td>\n",
              "      <td>5</td>\n",
              "    </tr>\n",
              "    <tr>\n",
              "      <th>9096</th>\n",
              "      <td>143559</td>\n",
              "      <td>L.A. Slasher (2015)</td>\n",
              "      <td>Comedy|Crime|Fantasy</td>\n",
              "      <td>5.0</td>\n",
              "      <td>5.0</td>\n",
              "      <td>5</td>\n",
              "    </tr>\n",
              "    <tr>\n",
              "      <th>...</th>\n",
              "      <td>...</td>\n",
              "      <td>...</td>\n",
              "      <td>...</td>\n",
              "      <td>...</td>\n",
              "      <td>...</td>\n",
              "      <td>...</td>\n",
              "    </tr>\n",
              "    <tr>\n",
              "      <th>5493</th>\n",
              "      <td>26350</td>\n",
              "      <td>Passenger, The (Professione: reporter) (1975)</td>\n",
              "      <td>Drama</td>\n",
              "      <td>5.0</td>\n",
              "      <td>5.0</td>\n",
              "      <td>5</td>\n",
              "    </tr>\n",
              "    <tr>\n",
              "      <th>3672</th>\n",
              "      <td>5059</td>\n",
              "      <td>Little Dieter Needs to Fly (1997)</td>\n",
              "      <td>Documentary</td>\n",
              "      <td>5.0</td>\n",
              "      <td>5.0</td>\n",
              "      <td>5</td>\n",
              "    </tr>\n",
              "    <tr>\n",
              "      <th>5345</th>\n",
              "      <td>8911</td>\n",
              "      <td>Raise Your Voice (2004)</td>\n",
              "      <td>Romance</td>\n",
              "      <td>5.0</td>\n",
              "      <td>5.0</td>\n",
              "      <td>5</td>\n",
              "    </tr>\n",
              "    <tr>\n",
              "      <th>4109</th>\n",
              "      <td>5889</td>\n",
              "      <td>Cruel Romance, A (Zhestokij Romans) (1984)</td>\n",
              "      <td>Drama|Romance</td>\n",
              "      <td>5.0</td>\n",
              "      <td>5.0</td>\n",
              "      <td>5</td>\n",
              "    </tr>\n",
              "    <tr>\n",
              "      <th>3807</th>\n",
              "      <td>5328</td>\n",
              "      <td>Rain (2001)</td>\n",
              "      <td>Drama|Romance</td>\n",
              "      <td>5.0</td>\n",
              "      <td>5.0</td>\n",
              "      <td>5</td>\n",
              "    </tr>\n",
              "  </tbody>\n",
              "</table>\n",
              "<p>296 rows × 6 columns</p>\n",
              "</div>"
            ],
            "text/plain": [
              "      filmeId                                         titulo  ... mediana  moda\n",
              "7656    88448          Paper Birds (Pájaros de papel) (2010)  ...     5.0     5\n",
              "8107   100556                     Act of Killing, The (2012)  ...     5.0     5\n",
              "9083   143031                                Jump In! (2007)  ...     5.0     5\n",
              "9094   143511                                   Human (2015)  ...     5.0     5\n",
              "9096   143559                            L.A. Slasher (2015)  ...     5.0     5\n",
              "...       ...                                            ...  ...     ...   ...\n",
              "5493    26350  Passenger, The (Professione: reporter) (1975)  ...     5.0     5\n",
              "3672     5059              Little Dieter Needs to Fly (1997)  ...     5.0     5\n",
              "5345     8911                        Raise Your Voice (2004)  ...     5.0     5\n",
              "4109     5889     Cruel Romance, A (Zhestokij Romans) (1984)  ...     5.0     5\n",
              "3807     5328                                    Rain (2001)  ...     5.0     5\n",
              "\n",
              "[296 rows x 6 columns]"
            ]
          },
          "metadata": {
            "tags": []
          },
          "execution_count": 23
        }
      ]
    },
    {
      "cell_type": "code",
      "metadata": {
        "id": "13v6YCjxMJEi",
        "colab_type": "code",
        "colab": {
          "base_uri": "https://localhost:8080/",
          "height": 715
        },
        "outputId": "f336e543-2a37-4160-f1d4-4592a5ef7468"
      },
      "source": [
        "plot_filme(5059)"
      ],
      "execution_count": 24,
      "outputs": [
        {
          "output_type": "display_data",
          "data": {
            "image/png": "[encoded data removed]",
            "text/plain": [
              "<Figure size 432x288 with 1 Axes>"
            ]
          },
          "metadata": {
            "tags": []
          }
        },
        {
          "output_type": "stream",
          "text": [
            "\n",
            "\n"
          ],
          "name": "stdout"
        },
        {
          "output_type": "display_data",
          "data": {
            "image/png": "[encoded data removed]",
            "text/plain": [
              "<Figure size 432x288 with 1 Axes>"
            ]
          },
          "metadata": {
            "tags": []
          }
        },
        {
          "output_type": "execute_result",
          "data": {
            "text/plain": [
              "count    1.0\n",
              "mean     5.0\n",
              "std      NaN\n",
              "min      5.0\n",
              "25%      5.0\n",
              "50%      5.0\n",
              "75%      5.0\n",
              "max      5.0\n",
              "Name: nota, dtype: float64"
            ]
          },
          "metadata": {
            "tags": []
          },
          "execution_count": 24
        }
      ]
    },
    {
      "cell_type": "code",
      "metadata": {
        "id": "Z6uNyGJ1IeuN",
        "colab_type": "code",
        "colab": {
          "base_uri": "https://localhost:8080/",
          "height": 424
        },
        "outputId": "5ef7f376-1d8e-4869-cae6-56c25d229086"
      },
      "source": [
        "filmes_com_media_mediana_moda3"
      ],
      "execution_count": 25,
      "outputs": [
        {
          "output_type": "execute_result",
          "data": {
            "text/html": [
              "<div>\n",
              "<style scoped>\n",
              "    .dataframe tbody tr th:only-of-type {\n",
              "        vertical-align: middle;\n",
              "    }\n",
              "\n",
              "    .dataframe tbody tr th {\n",
              "        vertical-align: top;\n",
              "    }\n",
              "\n",
              "    .dataframe thead th {\n",
              "        text-align: right;\n",
              "    }\n",
              "</style>\n",
              "<table border=\"1\" class=\"dataframe\">\n",
              "  <thead>\n",
              "    <tr style=\"text-align: right;\">\n",
              "      <th></th>\n",
              "      <th>filmeId</th>\n",
              "      <th>titulo</th>\n",
              "      <th>generos</th>\n",
              "      <th>media</th>\n",
              "      <th>mediana</th>\n",
              "      <th>moda</th>\n",
              "    </tr>\n",
              "  </thead>\n",
              "  <tbody>\n",
              "    <tr>\n",
              "      <th>4048</th>\n",
              "      <td>5752</td>\n",
              "      <td>Gregory's Girl (1981)</td>\n",
              "      <td>Comedy|Romance</td>\n",
              "      <td>3.0</td>\n",
              "      <td>3.0</td>\n",
              "      <td>3</td>\n",
              "    </tr>\n",
              "    <tr>\n",
              "      <th>4047</th>\n",
              "      <td>5749</td>\n",
              "      <td>Ghost Story (1981)</td>\n",
              "      <td>Drama|Horror</td>\n",
              "      <td>3.0</td>\n",
              "      <td>3.0</td>\n",
              "      <td>3</td>\n",
              "    </tr>\n",
              "    <tr>\n",
              "      <th>7606</th>\n",
              "      <td>86835</td>\n",
              "      <td>Priest (2011)</td>\n",
              "      <td>Action|Horror|Sci-Fi|Thriller</td>\n",
              "      <td>3.0</td>\n",
              "      <td>3.0</td>\n",
              "      <td>[2.5, 3.0, 3.5]</td>\n",
              "    </tr>\n",
              "    <tr>\n",
              "      <th>7706</th>\n",
              "      <td>89945</td>\n",
              "      <td>BlinkyTM (2011)</td>\n",
              "      <td>Horror|Sci-Fi</td>\n",
              "      <td>3.0</td>\n",
              "      <td>3.0</td>\n",
              "      <td>3</td>\n",
              "    </tr>\n",
              "    <tr>\n",
              "      <th>1186</th>\n",
              "      <td>1583</td>\n",
              "      <td>Simple Wish, A (1997)</td>\n",
              "      <td>Children|Fantasy</td>\n",
              "      <td>3.0</td>\n",
              "      <td>3.0</td>\n",
              "      <td>3</td>\n",
              "    </tr>\n",
              "    <tr>\n",
              "      <th>...</th>\n",
              "      <td>...</td>\n",
              "      <td>...</td>\n",
              "      <td>...</td>\n",
              "      <td>...</td>\n",
              "      <td>...</td>\n",
              "      <td>...</td>\n",
              "    </tr>\n",
              "    <tr>\n",
              "      <th>423</th>\n",
              "      <td>486</td>\n",
              "      <td>Life with Mikey (1993)</td>\n",
              "      <td>Comedy</td>\n",
              "      <td>3.0</td>\n",
              "      <td>3.0</td>\n",
              "      <td>[2.0, 3.0, 4.0]</td>\n",
              "    </tr>\n",
              "    <tr>\n",
              "      <th>421</th>\n",
              "      <td>484</td>\n",
              "      <td>Lassie (1994)</td>\n",
              "      <td>Adventure|Children</td>\n",
              "      <td>3.0</td>\n",
              "      <td>3.0</td>\n",
              "      <td>[1.0, 5.0]</td>\n",
              "    </tr>\n",
              "    <tr>\n",
              "      <th>6372</th>\n",
              "      <td>49957</td>\n",
              "      <td>History Boys, The (2006)</td>\n",
              "      <td>Comedy|Drama</td>\n",
              "      <td>3.0</td>\n",
              "      <td>3.0</td>\n",
              "      <td>3</td>\n",
              "    </tr>\n",
              "    <tr>\n",
              "      <th>6284</th>\n",
              "      <td>47774</td>\n",
              "      <td>Icicle Thief, The (Ladri di saponette) (1989)</td>\n",
              "      <td>Comedy|Fantasy</td>\n",
              "      <td>3.0</td>\n",
              "      <td>3.0</td>\n",
              "      <td>3</td>\n",
              "    </tr>\n",
              "    <tr>\n",
              "      <th>6288</th>\n",
              "      <td>47937</td>\n",
              "      <td>Severance (2006)</td>\n",
              "      <td>Comedy|Horror|Thriller</td>\n",
              "      <td>3.0</td>\n",
              "      <td>3.0</td>\n",
              "      <td>3</td>\n",
              "    </tr>\n",
              "  </tbody>\n",
              "</table>\n",
              "<p>917 rows × 6 columns</p>\n",
              "</div>"
            ],
            "text/plain": [
              "      filmeId  ...             moda\n",
              "4048     5752  ...                3\n",
              "4047     5749  ...                3\n",
              "7606    86835  ...  [2.5, 3.0, 3.5]\n",
              "7706    89945  ...                3\n",
              "1186     1583  ...                3\n",
              "...       ...  ...              ...\n",
              "423       486  ...  [2.0, 3.0, 4.0]\n",
              "421       484  ...       [1.0, 5.0]\n",
              "6372    49957  ...                3\n",
              "6284    47774  ...                3\n",
              "6288    47937  ...                3\n",
              "\n",
              "[917 rows x 6 columns]"
            ]
          },
          "metadata": {
            "tags": []
          },
          "execution_count": 25
        }
      ]
    },
    {
      "cell_type": "code",
      "metadata": {
        "id": "Mp1DnMi1Gztm",
        "colab_type": "code",
        "colab": {
          "base_uri": "https://localhost:8080/",
          "height": 715
        },
        "outputId": "5d3224af-4da9-4d9c-9c57-5cbac37a1fbe"
      },
      "source": [
        "plot_filme(486)"
      ],
      "execution_count": 37,
      "outputs": [
        {
          "output_type": "display_data",
          "data": {
            "image/png": "[encoded data removed]",
            "text/plain": [
              "<Figure size 432x288 with 1 Axes>"
            ]
          },
          "metadata": {
            "tags": []
          }
        },
        {
          "output_type": "stream",
          "text": [
            "\n",
            "\n"
          ],
          "name": "stdout"
        },
        {
          "output_type": "display_data",
          "data": {
            "image/png": "[encoded data removed]",
            "text/plain": [
              "<Figure size 432x288 with 1 Axes>"
            ]
          },
          "metadata": {
            "tags": []
          }
        },
        {
          "output_type": "execute_result",
          "data": {
            "text/plain": [
              "count    3.0\n",
              "mean     3.0\n",
              "std      1.0\n",
              "min      2.0\n",
              "25%      2.5\n",
              "50%      3.0\n",
              "75%      3.5\n",
              "max      4.0\n",
              "Name: nota, dtype: float64"
            ]
          },
          "metadata": {
            "tags": []
          },
          "execution_count": 37
        }
      ]
    },
    {
      "cell_type": "code",
      "metadata": {
        "id": "h0NCEWW-L-4B",
        "colab_type": "code",
        "colab": {
          "base_uri": "https://localhost:8080/",
          "height": 715
        },
        "outputId": "4ea49440-f6d8-4726-9c02-5df0bd20ef8f"
      },
      "source": [
        "plot_filme(484)"
      ],
      "execution_count": 38,
      "outputs": [
        {
          "output_type": "display_data",
          "data": {
            "image/png": "[encoded data removed]",
            "text/plain": [
              "<Figure size 432x288 with 1 Axes>"
            ]
          },
          "metadata": {
            "tags": []
          }
        },
        {
          "output_type": "stream",
          "text": [
            "\n",
            "\n"
          ],
          "name": "stdout"
        },
        {
          "output_type": "display_data",
          "data": {
            "image/png": "[encoded data removed]",
            "text/plain": [
              "<Figure size 432x288 with 1 Axes>"
            ]
          },
          "metadata": {
            "tags": []
          }
        },
        {
          "output_type": "execute_result",
          "data": {
            "text/plain": [
              "count    2.000000\n",
              "mean     3.000000\n",
              "std      2.828427\n",
              "min      1.000000\n",
              "25%      2.000000\n",
              "50%      3.000000\n",
              "75%      4.000000\n",
              "max      5.000000\n",
              "Name: nota, dtype: float64"
            ]
          },
          "metadata": {
            "tags": []
          },
          "execution_count": 38
        }
      ]
    },
    {
      "cell_type": "code",
      "metadata": {
        "id": "d8yZio3vOvDF",
        "colab_type": "code",
        "colab": {
          "base_uri": "https://localhost:8080/",
          "height": 715
        },
        "outputId": "47f4870f-fe89-4a31-a9f3-324f43d7c7f8"
      },
      "source": [
        "plot_filme(49957)"
      ],
      "execution_count": 39,
      "outputs": [
        {
          "output_type": "display_data",
          "data": {
            "image/png": "[encoded data removed]",
            "text/plain": [
              "<Figure size 432x288 with 1 Axes>"
            ]
          },
          "metadata": {
            "tags": []
          }
        },
        {
          "output_type": "stream",
          "text": [
            "\n",
            "\n"
          ],
          "name": "stdout"
        },
        {
          "output_type": "display_data",
          "data": {
            "image/png": "[encoded data removed]",
            "text/plain": [
              "<Figure size 432x288 with 1 Axes>"
            ]
          },
          "metadata": {
            "tags": []
          }
        },
        {
          "output_type": "execute_result",
          "data": {
            "text/plain": [
              "count    2.0\n",
              "mean     3.0\n",
              "std      0.0\n",
              "min      3.0\n",
              "25%      3.0\n",
              "50%      3.0\n",
              "75%      3.0\n",
              "max      3.0\n",
              "Name: nota, dtype: float64"
            ]
          },
          "metadata": {
            "tags": []
          },
          "execution_count": 39
        }
      ]
    },
    {
      "cell_type": "code",
      "metadata": {
        "id": "t7OzOUiqJF_m",
        "colab_type": "code",
        "colab": {
          "base_uri": "https://localhost:8080/",
          "height": 424
        },
        "outputId": "9eac8654-9f38-4619-e491-b122c48af760"
      },
      "source": [
        "filmes_com_media_mediana_moda0_5"
      ],
      "execution_count": 28,
      "outputs": [
        {
          "output_type": "execute_result",
          "data": {
            "text/html": [
              "<div>\n",
              "<style scoped>\n",
              "    .dataframe tbody tr th:only-of-type {\n",
              "        vertical-align: middle;\n",
              "    }\n",
              "\n",
              "    .dataframe tbody tr th {\n",
              "        vertical-align: top;\n",
              "    }\n",
              "\n",
              "    .dataframe thead th {\n",
              "        text-align: right;\n",
              "    }\n",
              "</style>\n",
              "<table border=\"1\" class=\"dataframe\">\n",
              "  <thead>\n",
              "    <tr style=\"text-align: right;\">\n",
              "      <th></th>\n",
              "      <th>filmeId</th>\n",
              "      <th>titulo</th>\n",
              "      <th>generos</th>\n",
              "      <th>media</th>\n",
              "      <th>mediana</th>\n",
              "      <th>moda</th>\n",
              "    </tr>\n",
              "  </thead>\n",
              "  <tbody>\n",
              "    <tr>\n",
              "      <th>5295</th>\n",
              "      <td>8772</td>\n",
              "      <td>Spy Who Came in from the Cold, The (1965)</td>\n",
              "      <td>Drama|Thriller</td>\n",
              "      <td>0.5</td>\n",
              "      <td>0.5</td>\n",
              "      <td>0.5</td>\n",
              "    </tr>\n",
              "    <tr>\n",
              "      <th>6545</th>\n",
              "      <td>54768</td>\n",
              "      <td>Daddy Day Camp (2007)</td>\n",
              "      <td>Children|Comedy</td>\n",
              "      <td>0.5</td>\n",
              "      <td>0.5</td>\n",
              "      <td>0.5</td>\n",
              "    </tr>\n",
              "    <tr>\n",
              "      <th>5554</th>\n",
              "      <td>26696</td>\n",
              "      <td>Lionheart (1990)</td>\n",
              "      <td>Action</td>\n",
              "      <td>0.5</td>\n",
              "      <td>0.5</td>\n",
              "      <td>0.5</td>\n",
              "    </tr>\n",
              "    <tr>\n",
              "      <th>8168</th>\n",
              "      <td>102735</td>\n",
              "      <td>Captain America (1979)</td>\n",
              "      <td>Action|Drama</td>\n",
              "      <td>0.5</td>\n",
              "      <td>0.5</td>\n",
              "      <td>0.5</td>\n",
              "    </tr>\n",
              "    <tr>\n",
              "      <th>8409</th>\n",
              "      <td>110603</td>\n",
              "      <td>God's Not Dead (2014)</td>\n",
              "      <td>Drama</td>\n",
              "      <td>0.5</td>\n",
              "      <td>0.5</td>\n",
              "      <td>0.5</td>\n",
              "    </tr>\n",
              "    <tr>\n",
              "      <th>...</th>\n",
              "      <td>...</td>\n",
              "      <td>...</td>\n",
              "      <td>...</td>\n",
              "      <td>...</td>\n",
              "      <td>...</td>\n",
              "      <td>...</td>\n",
              "    </tr>\n",
              "    <tr>\n",
              "      <th>9271</th>\n",
              "      <td>157172</td>\n",
              "      <td>Wizards of the Lost Kingdom II (1989)</td>\n",
              "      <td>Action|Fantasy</td>\n",
              "      <td>0.5</td>\n",
              "      <td>0.5</td>\n",
              "      <td>0.5</td>\n",
              "    </tr>\n",
              "    <tr>\n",
              "      <th>7553</th>\n",
              "      <td>85334</td>\n",
              "      <td>Hard Ticket to Hawaii (1987)</td>\n",
              "      <td>Action|Comedy</td>\n",
              "      <td>0.5</td>\n",
              "      <td>0.5</td>\n",
              "      <td>0.5</td>\n",
              "    </tr>\n",
              "    <tr>\n",
              "      <th>6503</th>\n",
              "      <td>53453</td>\n",
              "      <td>Starcrash (a.k.a. Star Crash) (1978)</td>\n",
              "      <td>Action|Adventure|Fantasy|Sci-Fi</td>\n",
              "      <td>0.5</td>\n",
              "      <td>0.5</td>\n",
              "      <td>0.5</td>\n",
              "    </tr>\n",
              "    <tr>\n",
              "      <th>5210</th>\n",
              "      <td>8494</td>\n",
              "      <td>Cincinnati Kid, The (1965)</td>\n",
              "      <td>Drama</td>\n",
              "      <td>0.5</td>\n",
              "      <td>0.5</td>\n",
              "      <td>0.5</td>\n",
              "    </tr>\n",
              "    <tr>\n",
              "      <th>7162</th>\n",
              "      <td>71810</td>\n",
              "      <td>Legionnaire (1998)</td>\n",
              "      <td>Action|Adventure|Drama|War</td>\n",
              "      <td>0.5</td>\n",
              "      <td>0.5</td>\n",
              "      <td>0.5</td>\n",
              "    </tr>\n",
              "  </tbody>\n",
              "</table>\n",
              "<p>96 rows × 6 columns</p>\n",
              "</div>"
            ],
            "text/plain": [
              "      filmeId                                     titulo  ... mediana  moda\n",
              "5295     8772  Spy Who Came in from the Cold, The (1965)  ...     0.5   0.5\n",
              "6545    54768                      Daddy Day Camp (2007)  ...     0.5   0.5\n",
              "5554    26696                           Lionheart (1990)  ...     0.5   0.5\n",
              "8168   102735                     Captain America (1979)  ...     0.5   0.5\n",
              "8409   110603                      God's Not Dead (2014)  ...     0.5   0.5\n",
              "...       ...                                        ...  ...     ...   ...\n",
              "9271   157172      Wizards of the Lost Kingdom II (1989)  ...     0.5   0.5\n",
              "7553    85334               Hard Ticket to Hawaii (1987)  ...     0.5   0.5\n",
              "6503    53453       Starcrash (a.k.a. Star Crash) (1978)  ...     0.5   0.5\n",
              "5210     8494                 Cincinnati Kid, The (1965)  ...     0.5   0.5\n",
              "7162    71810                         Legionnaire (1998)  ...     0.5   0.5\n",
              "\n",
              "[96 rows x 6 columns]"
            ]
          },
          "metadata": {
            "tags": []
          },
          "execution_count": 28
        }
      ]
    },
    {
      "cell_type": "code",
      "metadata": {
        "id": "vKFdEF9fMOdS",
        "colab_type": "code",
        "colab": {
          "base_uri": "https://localhost:8080/",
          "height": 715
        },
        "outputId": "c9ae328a-8f8f-40dc-ae14-7e6e82ddb66b"
      },
      "source": [
        "plot_filme(71810)"
      ],
      "execution_count": 29,
      "outputs": [
        {
          "output_type": "display_data",
          "data": {
            "image/png": "[encoded data removed]",
            "text/plain": [
              "<Figure size 432x288 with 1 Axes>"
            ]
          },
          "metadata": {
            "tags": []
          }
        },
        {
          "output_type": "stream",
          "text": [
            "\n",
            "\n"
          ],
          "name": "stdout"
        },
        {
          "output_type": "display_data",
          "data": {
            "image/png": "[encoded data removed]",
            "text/plain": [
              "<Figure size 432x288 with 1 Axes>"
            ]
          },
          "metadata": {
            "tags": []
          }
        },
        {
          "output_type": "execute_result",
          "data": {
            "text/plain": [
              "count    1.0\n",
              "mean     0.5\n",
              "std      NaN\n",
              "min      0.5\n",
              "25%      0.5\n",
              "50%      0.5\n",
              "75%      0.5\n",
              "max      0.5\n",
              "Name: nota, dtype: float64"
            ]
          },
          "metadata": {
            "tags": []
          },
          "execution_count": 29
        }
      ]
    },
    {
      "cell_type": "markdown",
      "metadata": {
        "id": "E1X5ReBxUNZq",
        "colab_type": "text"
      },
      "source": [
        "## Desafio 6 da [Thais André](https://twitter.com/thais_tandre)\n",
        "\n",
        "Plotar o boxplot e o histograma um do lado do outro (na mesma figura ou em figuras distintas, mas um do lado do outro).\n"
      ]
    },
    {
      "cell_type": "code",
      "metadata": {
        "id": "jw23qWmpaQRD",
        "colab_type": "code",
        "outputId": "606829eb-ee43-4cf4-dd85-2399f6ad3f52",
        "colab": {
          "base_uri": "https://localhost:8080/",
          "height": 265
        }
      },
      "source": [
        "#fonte: https://stackoverflow.com/questions/44049132/python-pandas-plotting-two-barh-side-by-side\n",
        "\n",
        "def plot_filme_v2(n):\n",
        "  \n",
        "  notas_do_filme = avaliacoes.query(f\"filmeId=={n}\")[\"nota\"]\n",
        "\n",
        "  fig, (ax, ax2) = plt.subplots(ncols=2, sharey=True)\n",
        "\n",
        "  ax.invert_xaxis()\n",
        "  ax.yaxis.tick_right()\n",
        "\n",
        "  notas_do_filme.plot(kind='hist', ax=ax)\n",
        "  notas_do_filme.plot.box(ax=ax2)\n",
        "\n",
        "  plt.show()\n",
        "\n",
        "\n",
        "plot_filme_v2(919)"
      ],
      "execution_count": 30,
      "outputs": [
        {
          "output_type": "display_data",
          "data": {
            "image/png": "[encoded data removed]",
            "text/plain": [
              "<Figure size 432x288 with 2 Axes>"
            ]
          },
          "metadata": {
            "tags": []
          }
        }
      ]
    },
    {
      "cell_type": "markdown",
      "metadata": {
        "id": "9sm-sJIPUfte",
        "colab_type": "text"
      },
      "source": [
        "## Desafio 7 do [Thiago Gonçalves](https://twitter.com/tgcsantos)\n",
        "\n",
        "Criar um gráfico de notas médias por ano (média geral considerando todos os filmes lançados naquele ano)."
      ]
    },
    {
      "cell_type": "code",
      "metadata": {
        "id": "kraam_vdgIxD",
        "colab_type": "code",
        "colab": {}
      },
      "source": [
        "#Função que obtém ano a partir do timestamp\n",
        "def obtem_ano(int_timestamp):\n",
        "\n",
        "  from datetime import datetime\n",
        "\n",
        "  obj_data = datetime.fromtimestamp(int_timestamp)\n",
        "\n",
        "  str_r = obj_data.strftime(\"%Y\")\n",
        "\n",
        "  return str_r\n",
        "#Fim da função\n"
      ],
      "execution_count": 0,
      "outputs": []
    },
    {
      "cell_type": "code",
      "metadata": {
        "id": "grenSCCQio0z",
        "colab_type": "code",
        "outputId": "b5a68860-2fea-4bc6-bc0d-8d63d8192b3b",
        "colab": {
          "base_uri": "https://localhost:8080/",
          "height": 424
        }
      },
      "source": [
        "#Cópia do dataframe de avaliações\n",
        "dtf_avaliacoes_ano = avaliacoes.copy()\n",
        "\n",
        "#Obtendo ano da avaliação\n",
        "dtf_avaliacoes_ano[\"ano\"] = dtf_avaliacoes_ano[\"momento\"] \n",
        "\n",
        "dtf_avaliacoes_ano1 = dtf_avaliacoes_ano[[\"ano\"]]\n",
        "\n",
        "dtf_avaliacoes_ano1 = dtf_avaliacoes_ano1.applymap(obtem_ano)\n",
        " \n",
        "dtf_avaliacoes_ano = dtf_avaliacoes_ano.join(dtf_avaliacoes_ano1, lsuffix=\"_esq\")\n",
        "\n",
        "dtf_avaliacoes_ano = dtf_avaliacoes_ano.drop(columns=['ano_esq'])\n",
        "\n",
        "dtf_avaliacoes_ano"
      ],
      "execution_count": 32,
      "outputs": [
        {
          "output_type": "execute_result",
          "data": {
            "text/html": [
              "<div>\n",
              "<style scoped>\n",
              "    .dataframe tbody tr th:only-of-type {\n",
              "        vertical-align: middle;\n",
              "    }\n",
              "\n",
              "    .dataframe tbody tr th {\n",
              "        vertical-align: top;\n",
              "    }\n",
              "\n",
              "    .dataframe thead th {\n",
              "        text-align: right;\n",
              "    }\n",
              "</style>\n",
              "<table border=\"1\" class=\"dataframe\">\n",
              "  <thead>\n",
              "    <tr style=\"text-align: right;\">\n",
              "      <th></th>\n",
              "      <th>usuarioId</th>\n",
              "      <th>filmeId</th>\n",
              "      <th>nota</th>\n",
              "      <th>momento</th>\n",
              "      <th>ano</th>\n",
              "    </tr>\n",
              "  </thead>\n",
              "  <tbody>\n",
              "    <tr>\n",
              "      <th>0</th>\n",
              "      <td>1</td>\n",
              "      <td>1</td>\n",
              "      <td>4.0</td>\n",
              "      <td>964982703</td>\n",
              "      <td>2000</td>\n",
              "    </tr>\n",
              "    <tr>\n",
              "      <th>1</th>\n",
              "      <td>1</td>\n",
              "      <td>3</td>\n",
              "      <td>4.0</td>\n",
              "      <td>964981247</td>\n",
              "      <td>2000</td>\n",
              "    </tr>\n",
              "    <tr>\n",
              "      <th>2</th>\n",
              "      <td>1</td>\n",
              "      <td>6</td>\n",
              "      <td>4.0</td>\n",
              "      <td>964982224</td>\n",
              "      <td>2000</td>\n",
              "    </tr>\n",
              "    <tr>\n",
              "      <th>3</th>\n",
              "      <td>1</td>\n",
              "      <td>47</td>\n",
              "      <td>5.0</td>\n",
              "      <td>964983815</td>\n",
              "      <td>2000</td>\n",
              "    </tr>\n",
              "    <tr>\n",
              "      <th>4</th>\n",
              "      <td>1</td>\n",
              "      <td>50</td>\n",
              "      <td>5.0</td>\n",
              "      <td>964982931</td>\n",
              "      <td>2000</td>\n",
              "    </tr>\n",
              "    <tr>\n",
              "      <th>...</th>\n",
              "      <td>...</td>\n",
              "      <td>...</td>\n",
              "      <td>...</td>\n",
              "      <td>...</td>\n",
              "      <td>...</td>\n",
              "    </tr>\n",
              "    <tr>\n",
              "      <th>100831</th>\n",
              "      <td>610</td>\n",
              "      <td>166534</td>\n",
              "      <td>4.0</td>\n",
              "      <td>1493848402</td>\n",
              "      <td>2017</td>\n",
              "    </tr>\n",
              "    <tr>\n",
              "      <th>100832</th>\n",
              "      <td>610</td>\n",
              "      <td>168248</td>\n",
              "      <td>5.0</td>\n",
              "      <td>1493850091</td>\n",
              "      <td>2017</td>\n",
              "    </tr>\n",
              "    <tr>\n",
              "      <th>100833</th>\n",
              "      <td>610</td>\n",
              "      <td>168250</td>\n",
              "      <td>5.0</td>\n",
              "      <td>1494273047</td>\n",
              "      <td>2017</td>\n",
              "    </tr>\n",
              "    <tr>\n",
              "      <th>100834</th>\n",
              "      <td>610</td>\n",
              "      <td>168252</td>\n",
              "      <td>5.0</td>\n",
              "      <td>1493846352</td>\n",
              "      <td>2017</td>\n",
              "    </tr>\n",
              "    <tr>\n",
              "      <th>100835</th>\n",
              "      <td>610</td>\n",
              "      <td>170875</td>\n",
              "      <td>3.0</td>\n",
              "      <td>1493846415</td>\n",
              "      <td>2017</td>\n",
              "    </tr>\n",
              "  </tbody>\n",
              "</table>\n",
              "<p>100836 rows × 5 columns</p>\n",
              "</div>"
            ],
            "text/plain": [
              "        usuarioId  filmeId  nota     momento   ano\n",
              "0               1        1   4.0   964982703  2000\n",
              "1               1        3   4.0   964981247  2000\n",
              "2               1        6   4.0   964982224  2000\n",
              "3               1       47   5.0   964983815  2000\n",
              "4               1       50   5.0   964982931  2000\n",
              "...           ...      ...   ...         ...   ...\n",
              "100831        610   166534   4.0  1493848402  2017\n",
              "100832        610   168248   5.0  1493850091  2017\n",
              "100833        610   168250   5.0  1494273047  2017\n",
              "100834        610   168252   5.0  1493846352  2017\n",
              "100835        610   170875   3.0  1493846415  2017\n",
              "\n",
              "[100836 rows x 5 columns]"
            ]
          },
          "metadata": {
            "tags": []
          },
          "execution_count": 32
        }
      ]
    },
    {
      "cell_type": "code",
      "metadata": {
        "id": "XZM-OXTp8oRg",
        "colab_type": "code",
        "outputId": "d28b36d0-92a0-41d8-ad99-2c8aeb1f181c",
        "colab": {
          "base_uri": "https://localhost:8080/",
          "height": 476
        }
      },
      "source": [
        "#Série com médias de notas por ano\n",
        "serie_avaliacoes_media_p_ano = dtf_avaliacoes_ano.groupby(by=\"ano\")[\"nota\"].mean()\n",
        "\n",
        "serie_avaliacoes_media_p_ano"
      ],
      "execution_count": 33,
      "outputs": [
        {
          "output_type": "execute_result",
          "data": {
            "text/plain": [
              "ano\n",
              "1996    3.535927\n",
              "1997    3.727557\n",
              "1998    3.435897\n",
              "1999    3.772448\n",
              "2000    3.392506\n",
              "2001    3.512239\n",
              "2002    3.606958\n",
              "2003    3.499377\n",
              "2004    3.506099\n",
              "2005    3.431533\n",
              "2006    3.487928\n",
              "2007    3.309039\n",
              "2008    3.656746\n",
              "2009    3.392496\n",
              "2010    3.463494\n",
              "2011    3.784024\n",
              "2012    3.641323\n",
              "2013    3.877404\n",
              "2014    3.510771\n",
              "2015    3.513830\n",
              "2016    3.686334\n",
              "2017    3.348805\n",
              "2018    3.389062\n",
              "Name: nota, dtype: float64"
            ]
          },
          "metadata": {
            "tags": []
          },
          "execution_count": 33
        }
      ]
    },
    {
      "cell_type": "code",
      "metadata": {
        "id": "3NZkXH33GzTJ",
        "colab_type": "code",
        "outputId": "15e5fa01-e0cc-46b8-eb84-275bd60031ec",
        "colab": {
          "base_uri": "https://localhost:8080/",
          "height": 530
        }
      },
      "source": [
        "plt.figure(figsize=(16,8))\n",
        "serie_avaliacoes_media_p_ano.plot(kind='bar', x=serie_avaliacoes_media_p_ano.index, y=serie_avaliacoes_media_p_ano.values)"
      ],
      "execution_count": 34,
      "outputs": [
        {
          "output_type": "execute_result",
          "data": {
            "text/plain": [
              "<matplotlib.axes._subplots.AxesSubplot at 0x7fce8c2a64a8>"
            ]
          },
          "metadata": {
            "tags": []
          },
          "execution_count": 34
        },
        {
          "output_type": "display_data",
          "data": {
            "image/png": "[encoded data removed]",
            "text/plain": [
              "<Figure size 1152x576 with 1 Axes>"
            ]
          },
          "metadata": {
            "tags": []
          }
        }
      ]
    },
    {
      "cell_type": "code",
      "metadata": {
        "id": "xDF3bBqi9ITI",
        "colab_type": "code",
        "colab": {}
      },
      "source": [
        "#Cópia do dataset de filmes\n",
        "dtf_filme  = filmes.copy()\n",
        "\n",
        "#Obtendo ano de lançamento dos filmes\n",
        "dtf_filme = dtf_filme[[\"titulo\"]]\n",
        "\n",
        "dtf_filme[\"ano_lanc\"] =  dtf_filme[\"titulo\"].str.extract('(\\([0-9]{2,4}\\)$)')\n",
        "\n",
        "dtf_filme[\"ano_lanc\"] = dtf_filme[\"ano_lanc\"].str.extract('([0-9]{2,4})')\n",
        "\n",
        "# Retirar anos nulos\n",
        "dtf_filme = dtf_filme.dropna()\n",
        "\n",
        "serie_ano_lanc_filmes  = dtf_filme[\"ano_lanc\"]\n",
        "\n",
        "arr_anos_lanc = serie_ano_lanc_filmes.unique()"
      ],
      "execution_count": 0,
      "outputs": []
    },
    {
      "cell_type": "code",
      "metadata": {
        "id": "JG3zDEQGCY9z",
        "colab_type": "code",
        "colab": {
          "base_uri": "https://localhost:8080/",
          "height": 932
        },
        "outputId": "864ef6fe-1d3e-4502-875b-d36ddc64a2c0"
      },
      "source": [
        "dtf_media_nota_avs = serie_avaliacoes_media_p_ano.to_frame()\n",
        "\n",
        "dtf_media_nota_avs.reset_index(inplace=True)\n",
        "\n",
        "dtf_media_nota_avs = dtf_media_nota_avs.query(\"ano in @arr_anos_lanc\")\n",
        "\n",
        "#serie_avaliacoes_media_p_ano\n",
        "\n",
        "plt.figure(figsize=(16,16))\n",
        "\n",
        "obj_boxplot = sns.barplot(x =\"ano\"  , y=\"nota\", color=\"b\",  data=dtf_media_nota_avs)\n",
        "\n",
        "plt.show()"
      ],
      "execution_count": 43,
      "outputs": [
        {
          "output_type": "display_data",
          "data": {
            "image/png": "[encoded data removed]",
            "text/plain": [
              "<Figure size 1152x1152 with 1 Axes>"
            ]
          },
          "metadata": {
            "tags": []
          }
        }
      ]
    },
    {
      "cell_type": "code",
      "metadata": {
        "id": "mRjuXcP-UM_Z",
        "colab_type": "code",
        "colab": {
          "base_uri": "https://localhost:8080/",
          "height": 621
        },
        "outputId": "b4f3af49-9011-4cb7-ae6f-73f7af1db6db"
      },
      "source": [
        "plt.figure(figsize=(16,10))\n",
        "plt.title(\"Média de notas por ano de lançamento\")\n",
        "plt.xlabel(\"Anos lançamentos\")\n",
        "plt.ylabel(\"Médias das Notas\")\n",
        "\n",
        "plt.scatter(dtf_media_nota_avs.ano, dtf_media_nota_avs.nota,  color=\"r\")\n",
        "plt.plot(dtf_media_nota_avs.ano, dtf_media_nota_avs.nota, color=\"k\")\n",
        "\n",
        "plt.show()"
      ],
      "execution_count": 47,
      "outputs": [
        {
          "output_type": "display_data",
          "data": {
            "image/png": "[encoded data removed]",
            "text/plain": [
              "<Figure size 1152x720 with 1 Axes>"
            ]
          },
          "metadata": {
            "tags": []
          }
        }
      ]
    },
    {
      "cell_type": "code",
      "metadata": {
        "id": "VJhlSuLFUjPd",
        "colab_type": "code",
        "colab": {}
      },
      "source": [
        ""
      ],
      "execution_count": 0,
      "outputs": []
    }
  ]
}