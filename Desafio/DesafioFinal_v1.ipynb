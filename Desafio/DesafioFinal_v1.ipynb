{
  "nbformat": 4,
  "nbformat_minor": 0,
  "metadata": {
    "colab": {
      "name": "DesafioFinal_v1.ipynb",
      "provenance": [],
      "collapsed_sections": [],
      "machine_shape": "hm"
    },
    "kernelspec": {
      "name": "python3",
      "display_name": "Python 3"
    }
  },
  "cells": [
    {
      "cell_type": "markdown",
      "metadata": {
        "id": "yKPwAb_7p_lK",
        "colab_type": "text"
      },
      "source": [
        "# Desafio #QuarentenaDados\n",
        "\n",
        "Bem-vinda e bem-vindo ao desafio #QuarentenaDados valendo um **Nintendo Switch**!\n",
        "\n",
        "Esse notebook traz informações dos dados e como você deve configurar seu arquivo final para submissão.\n",
        "\n",
        "**Caso queira usar esse notebook como exemplo para desenvolver seu projeto, clique em file e escolha a opção Save a copy in Drive**\n"
      ]
    },
    {
      "cell_type": "markdown",
      "metadata": {
        "id": "o0faxOX8rZfp",
        "colab_type": "text"
      },
      "source": [
        "Vamos trabalhar com uma amostra aleatória da base de dados MICRODADOS ENEM 2018, essa amostra é **diferente da apresentada em aula**. Junto com a divulgação do resultado final estaremos disponibilizando o código que gerou os dados para que você possa analisar e reproduzir os datasets. \n",
        "\n",
        "Seu objetivo é prever da melhor forma possível a nota das provas de **linguagens e códigos** (NU_NOTA_LC), dado todas as outras notas. O modelo que tiver o menor **erro quadrático médio (MSE)** vence o desafio.\n",
        "\n",
        "Para o desafio você tem três bases à disposição, duas para desenvolver seu modelo e uma para submissão da predição. As bases são as seguintes:\n",
        "\n",
        "- **dados_treino**: São 1500000 linhas contendo a nota das 4 provas + nota de redação.\n",
        "\n",
        "- **dados_teste**: São 20000 linhas contendo com notas das 4 provas + nota de redação.\n",
        "\n",
        "- **dados_desafioqt**: São 10000 linhas com nota de 3 provas + nota de redação. A nota da prova de **Linguagem e Codigos** (NU_NOTA_LC) não está disponível nessa base.\n",
        "\n",
        "\n",
        "As base **dados_treino e dados_teste**, contém as seguintes colunas; **NU_NOTA_CN, NU_NOTA_CH, NU_NOTA_MT, NU_NOTA_REDACAO, NU_NOTA_LC** (Você pode consultar a aula 5, onde o Guilherme explica o significado das siglas). A coluna que você deve realizar a **previsão** é **NU_NOTA_LC**. Você pode manipular os dados da forma que quiser, o importante é que no final submeta o arquivo com as informações corretas (detalhes da submissão serão discutidos no final deste notebook).\n",
        "\n",
        "A base **dados_desafioqt**, contém as seguintes colunas; **ID, NU_NOTA_CN, NU_NOTA_CH, NU_NOTA_MT, NU_NOTA_REDACAO**. Repare que os dados **NU_NOTA_LC** não estão presentes, essa é justamente a informação que você precisa prever. Nós temos os valores reais das notas, no final do prazo de submissão um script irá avaliar sua previsão e dará uma nota para o seu modelo. Nessa base também temos o **ID**, essa informação é importante para o envio da sua previsão, garanta que a nota prevista corresponda ao respectivo **ID**.\n",
        "\n",
        "Se você está habituado com o desenvolvimento de modelos de ML, repare que essa divisão de dados é exatamente a mesma que Treino, Teste e Validação. \n",
        "\n",
        "Abaixo preparamos um código exemplo para você seguir, sinta-se à vontade para experimentar diversos outros métodos, mas **GARANTA QUE O ARQUIVO DE SUBMISSÃO ESTEJA CONFIGURADO CORRETAMENTE**.\n",
        "\n",
        "Na primeira parte, estamos lendo a base de dados direto de arquivos no github.\n",
        "\n",
        "\n",
        "\n",
        "\n"
      ]
    },
    {
      "cell_type": "code",
      "metadata": {
        "id": "c6cK3pPodiB1",
        "colab_type": "code",
        "colab": {}
      },
      "source": [
        "import pandas as pd\n",
        "\n",
        "URI_TREINO = \"https://github.com/tgcsantos/quaretenadados/blob/master/DADOS_TREINO.csv?raw=true\"\n",
        "URI_TESTE = \"https://github.com/tgcsantos/quaretenadados/raw/master/DADOS_TESTE.csv\"\n",
        "URI_DESAFIOQT = \"https://github.com/tgcsantos/quaretenadados/raw/master/DESAFIOQT.csv\"\n",
        "\n",
        "dados_treino = pd.read_csv(URI_TREINO)\n",
        "dados_teste = pd.read_csv(URI_TESTE)\n",
        "dados_desafioqt = pd.read_csv(URI_DESAFIOQT)\n",
        "\n",
        "erro_treino = \"Erro ao carregar dados de treino\"\n",
        "erro_teste = \"Erro ao carregar dados de teste\"\n",
        "erro_desafioqt = \"Erro ao carregar dados de submissão\"\n",
        "\n",
        "assert dados_treino.shape == (150000, 5), erro_treino\n",
        "assert dados_teste.shape == (20000, 5), erro_teste\n",
        "assert dados_desafioqt.shape == (10000, 5), erro_desafioqt"
      ],
      "execution_count": 0,
      "outputs": []
    },
    {
      "cell_type": "markdown",
      "metadata": {
        "id": "__4ltGhs54mv",
        "colab_type": "text"
      },
      "source": [
        "Agora com as bases de dados lidas, vamos separar as informações de cada dataset. X_treino e Y_treino são as **features**, X_teste e Y_teste são as **labels** a serem previstas.\n",
        "\n",
        "Duas observações nesta parte:\n",
        "\n",
        "- 1° Como já disponibilizamos os dados de treino e teste separados, você não precisa fazer *train_test_split* feito em aula (porém fique à vontade para trabalhar da forma que achar melhor).\n",
        "\n",
        "- 2° Transformamos X_treino, Y_treino, X_teste, Y_teste em arrays numpy. Se você quiser usar uma biblioteca que não aceite dataframe como entrada de dados, já deixamos pronto para você."
      ]
    },
    {
      "cell_type": "code",
      "metadata": {
        "id": "9wbWpqZgjLx4",
        "colab_type": "code",
        "colab": {}
      },
      "source": [
        "coluna_label = 'NU_NOTA_LC'\n",
        "coluna_features = ['NU_NOTA_CN', 'NU_NOTA_CH', 'NU_NOTA_MT', 'NU_NOTA_REDACAO']\n",
        "\n",
        "X_treino = dados_treino[coluna_features].to_numpy()\n",
        "Y_treino = dados_treino[coluna_label].to_numpy()\n",
        "X_teste = dados_teste[coluna_features].to_numpy()\n",
        "Y_teste = dados_teste[coluna_label].to_numpy()\n"
      ],
      "execution_count": 0,
      "outputs": []
    },
    {
      "cell_type": "markdown",
      "metadata": {
        "id": "_ewf2Px98qBH",
        "colab_type": "text"
      },
      "source": [
        "A seguir criamos um modelo **Dummy** como exemplo e realizamos a avaliação do modelo com o **mean_squared_error**. \n",
        "\n",
        "Você pode usar qualquer algoritmo ou biblioteca para criar seus modelos, mas garanta que fará a avaliação com o mean_squared_error, pois usaremos essa métrica para avaliar sua predição final."
      ]
    },
    {
      "cell_type": "code",
      "metadata": {
        "id": "n0Vz5ZeEli8m",
        "colab_type": "code",
        "outputId": "68d2de21-60f1-429d-b666-5feba4a4d7e2",
        "colab": {
          "base_uri": "https://localhost:8080/",
          "height": 35
        }
      },
      "source": [
        "#Exemplo de classificação com Dummy\n",
        "from sklearn.dummy import DummyRegressor\n",
        "from sklearn.metrics import mean_squared_error\n",
        "\n",
        "modelo_dummy = DummyRegressor()\n",
        "modelo_dummy.fit(X_treino, Y_treino)\n",
        "dummy_predicoes = modelo_dummy.predict(X_teste)\n",
        "\n",
        "avaliacao_dummy = mean_squared_error(Y_teste, dummy_predicoes)\n",
        "\n",
        "print(f\"Minha avaliação nos dados de teste foi de {avaliacao_dummy}\")"
      ],
      "execution_count": 0,
      "outputs": [
        {
          "output_type": "stream",
          "text": [
            "Minha avaliação nos dados de teste foi de 5219.286870186777\n"
          ],
          "name": "stdout"
        }
      ]
    },
    {
      "cell_type": "markdown",
      "metadata": {
        "id": "7KTYF7ntCbWQ",
        "colab_type": "text"
      },
      "source": [
        "Depois que você criou testou e validou seu modelo, chegou a hora de preparar seu arquivo para a submissão do resultado.\n",
        "\n",
        "No código abaixo, estamos realizando a predição das notas de **linguagem e códigos** do dataset **dados_desafioqt**. Feita a previsão, criamos um dataframe novo para a submissão, primeiro crimos a coluna **ID** e adicionamos a coluna **NU_NOTA_LC** com suas respectivas previsões (repare que nosso modelo não alterou as ordens dos ID's, mas se você utilizar algum modelo que embaralhe essa ordem certifique de colocar a previsão correta para o ID correto).\n",
        "\n",
        "Após isso, salvamos o dataframe com ´.to_csv()´ (**importante, passe o parâmetro index=False para `.to_csv()`, caso contrário nosso script não computará sua nota**) no arquivo **PREDICAO_DESAFIOQT.csv (você precisa submeter o arquivo com esse nome, caso contrário nosso script de avaliação não computará sua nota**)  e utilizamos o `files.download` para baixar o arquivo em sua máquina local.\n",
        "\n",
        "Feito tudo isso você está quase pronto para finalizar e submeter seu resultado. Você já baixou os dados, treinou e validou seu modelo, salvou sua previsão **no padrão ideal para submissão** e já está com o modelo baixado em sua máquina. Entretanto, ainda falta um detalhe: no momento de preencher o **forms** você precisa enviar seu código. Caso esteja usando os notebooks do colab siga as seguintes instruções para o download:\n",
        "\n",
        "- Clique em **File** na parte superior esquerda.\n",
        "- Depois selecione a opção **Download .ipynb** (também aceitaremos o .py caso você prefira desenvolver seu projeto em um arquivo python).\n",
        "\n",
        "\n",
        "Pronto agora é só submeter seu resultado e torcer para levar um **Nintendo Switch** para casa.\n",
        "\n",
        "Boa sorte!"
      ]
    },
    {
      "cell_type": "markdown",
      "metadata": {
        "id": "wPd6-BEeqrW7",
        "colab_type": "text"
      },
      "source": [
        "## Testes de modelos"
      ]
    },
    {
      "cell_type": "markdown",
      "metadata": {
        "id": "paKmaLqeY6CS",
        "colab_type": "text"
      },
      "source": [
        "Implementando técnicas já estudadas ( regressão linear e árvore de decisão )"
      ]
    },
    {
      "cell_type": "code",
      "metadata": {
        "id": "xzrW31t8ZLxw",
        "colab_type": "code",
        "colab": {}
      },
      "source": [
        "from sklearn.tree import DecisionTreeRegressor\n",
        "from sklearn.svm import LinearSVR"
      ],
      "execution_count": 0,
      "outputs": []
    },
    {
      "cell_type": "markdown",
      "metadata": {
        "id": "9Fk4P6JhYIO8",
        "colab_type": "text"
      },
      "source": [
        "### LinearSVR()"
      ]
    },
    {
      "cell_type": "code",
      "metadata": {
        "id": "bxM2f9J9SLdy",
        "colab_type": "code",
        "outputId": "5fda6be0-dfb8-4853-8cb4-d8801a4c237f",
        "colab": {
          "base_uri": "https://localhost:8080/",
          "height": 109
        }
      },
      "source": [
        "modelo1 = LinearSVR()\n",
        "modelo1.fit(X_treino, Y_treino)"
      ],
      "execution_count": 0,
      "outputs": [
        {
          "output_type": "stream",
          "text": [
            "/usr/local/lib/python3.6/dist-packages/sklearn/svm/_base.py:947: ConvergenceWarning: Liblinear failed to converge, increase the number of iterations.\n",
            "  \"the number of iterations.\", ConvergenceWarning)\n"
          ],
          "name": "stderr"
        },
        {
          "output_type": "execute_result",
          "data": {
            "text/plain": [
              "LinearSVR(C=1.0, dual=True, epsilon=0.0, fit_intercept=True,\n",
              "          intercept_scaling=1.0, loss='epsilon_insensitive', max_iter=1000,\n",
              "          random_state=None, tol=0.0001, verbose=0)"
            ]
          },
          "metadata": {
            "tags": []
          },
          "execution_count": 27
        }
      ]
    },
    {
      "cell_type": "code",
      "metadata": {
        "id": "xBK1EmxZSJoU",
        "colab_type": "code",
        "outputId": "c4ac92d6-afd8-4f34-b3c4-f77a87dda49f",
        "colab": {
          "base_uri": "https://localhost:8080/",
          "height": 35
        }
      },
      "source": [
        "predicoes = modelo1.predict(X_teste)\n",
        "\n",
        "avaliacao1 = mean_squared_error(Y_teste, predicoes)\n",
        "\n",
        "print(f\"Minha avaliação nos dados de teste foi de {avaliacao1}\")"
      ],
      "execution_count": 0,
      "outputs": [
        {
          "output_type": "stream",
          "text": [
            "Minha avaliação nos dados de teste foi de 3411.7896247883664\n"
          ],
          "name": "stdout"
        }
      ]
    },
    {
      "cell_type": "markdown",
      "metadata": {
        "id": "n3SIAVHSYqHt",
        "colab_type": "text"
      },
      "source": [
        "### Árvore de decisão"
      ]
    },
    {
      "cell_type": "code",
      "metadata": {
        "colab_type": "code",
        "outputId": "daf71d3e-2c98-4ce1-ef54-c836ef075316",
        "id": "cT7H0FnBZquq",
        "colab": {
          "base_uri": "https://localhost:8080/",
          "height": 127
        }
      },
      "source": [
        "modelo2 = DecisionTreeRegressor()\n",
        "modelo2.fit(X_treino, Y_treino)"
      ],
      "execution_count": 0,
      "outputs": [
        {
          "output_type": "execute_result",
          "data": {
            "text/plain": [
              "DecisionTreeRegressor(ccp_alpha=0.0, criterion='mse', max_depth=None,\n",
              "                      max_features=None, max_leaf_nodes=None,\n",
              "                      min_impurity_decrease=0.0, min_impurity_split=None,\n",
              "                      min_samples_leaf=1, min_samples_split=2,\n",
              "                      min_weight_fraction_leaf=0.0, presort='deprecated',\n",
              "                      random_state=None, splitter='best')"
            ]
          },
          "metadata": {
            "tags": []
          },
          "execution_count": 29
        }
      ]
    },
    {
      "cell_type": "code",
      "metadata": {
        "colab_type": "code",
        "outputId": "0c416e5d-6edf-4422-a2ff-1de2279c0cb4",
        "id": "CM78dHM4Zqw9",
        "colab": {
          "base_uri": "https://localhost:8080/",
          "height": 35
        }
      },
      "source": [
        "predicoes = modelo2.predict(X_teste)\n",
        "\n",
        "avaliacao2 = mean_squared_error(Y_teste, predicoes)\n",
        "\n",
        "print(f\"Minha avaliação nos dados de teste foi de {avaliacao2}\")"
      ],
      "execution_count": 0,
      "outputs": [
        {
          "output_type": "stream",
          "text": [
            "Minha avaliação nos dados de teste foi de 4243.585582\n"
          ],
          "name": "stdout"
        }
      ]
    },
    {
      "cell_type": "markdown",
      "metadata": {
        "id": "Vz5ippT1buUS",
        "colab_type": "text"
      },
      "source": [
        "### Regressão linear"
      ]
    },
    {
      "cell_type": "markdown",
      "metadata": {
        "id": "Dv2dyiXBi_fl",
        "colab_type": "text"
      },
      "source": [
        "Baseado em \"https://scikit-learn.org/stable/modules/generated/sklearn.linear_model.LinearRegression.html\""
      ]
    },
    {
      "cell_type": "code",
      "metadata": {
        "id": "IZmhk1UTaSmN",
        "colab_type": "code",
        "colab": {}
      },
      "source": [
        "from sklearn.linear_model import LinearRegression "
      ],
      "execution_count": 0,
      "outputs": []
    },
    {
      "cell_type": "code",
      "metadata": {
        "id": "czHv-HlibZro",
        "colab_type": "code",
        "outputId": "6d55cbc6-41a5-4511-ddea-b31facd4064a",
        "colab": {
          "base_uri": "https://localhost:8080/",
          "height": 35
        }
      },
      "source": [
        "modelo3 = LinearRegression()\n",
        "modelo3.fit(X_treino, Y_treino)"
      ],
      "execution_count": 0,
      "outputs": [
        {
          "output_type": "execute_result",
          "data": {
            "text/plain": [
              "LinearRegression(copy_X=True, fit_intercept=True, n_jobs=None, normalize=False)"
            ]
          },
          "metadata": {
            "tags": []
          },
          "execution_count": 32
        }
      ]
    },
    {
      "cell_type": "code",
      "metadata": {
        "id": "8dYayIJfba4Q",
        "colab_type": "code",
        "outputId": "60a46712-527d-41f0-b0ad-f40e6169213e",
        "colab": {
          "base_uri": "https://localhost:8080/",
          "height": 35
        }
      },
      "source": [
        "predicoes = modelo3.predict(X_teste)\n",
        "\n",
        "avaliacao3 = mean_squared_error(Y_teste, predicoes)\n",
        "\n",
        "print(f\"Minha avaliação nos dados de teste foi de {avaliacao3}\")"
      ],
      "execution_count": 0,
      "outputs": [
        {
          "output_type": "stream",
          "text": [
            "Minha avaliação nos dados de teste foi de 2177.3839304103562\n"
          ],
          "name": "stdout"
        }
      ]
    },
    {
      "cell_type": "markdown",
      "metadata": {
        "id": "lqf2Y8Sdcq2l",
        "colab_type": "text"
      },
      "source": [
        "### Regressão linear com normalização"
      ]
    },
    {
      "cell_type": "code",
      "metadata": {
        "id": "DH_MosL7bayg",
        "colab_type": "code",
        "outputId": "6ee53bd5-b7a5-4097-acc2-0b6a58e5536f",
        "colab": {
          "base_uri": "https://localhost:8080/",
          "height": 35
        }
      },
      "source": [
        "modelo4 = LinearRegression( normalize=True)\n",
        "modelo4.fit(X_treino, Y_treino)"
      ],
      "execution_count": 0,
      "outputs": [
        {
          "output_type": "execute_result",
          "data": {
            "text/plain": [
              "LinearRegression(copy_X=True, fit_intercept=True, n_jobs=None, normalize=True)"
            ]
          },
          "metadata": {
            "tags": []
          },
          "execution_count": 34
        }
      ]
    },
    {
      "cell_type": "code",
      "metadata": {
        "id": "spCtH1rUbalX",
        "colab_type": "code",
        "outputId": "b2a6bbf1-c75c-49d7-ec95-f5282638db14",
        "colab": {
          "base_uri": "https://localhost:8080/",
          "height": 35
        }
      },
      "source": [
        "predicoes = modelo4.predict(X_teste)\n",
        "\n",
        "avaliacao4 = mean_squared_error(Y_teste, predicoes)\n",
        "\n",
        "print(f\"Minha avaliação nos dados de teste foi de {avaliacao4}\")"
      ],
      "execution_count": 0,
      "outputs": [
        {
          "output_type": "stream",
          "text": [
            "Minha avaliação nos dados de teste foi de 2177.3839304103562\n"
          ],
          "name": "stdout"
        }
      ]
    },
    {
      "cell_type": "markdown",
      "metadata": {
        "id": "Gg_aCwuphEoz",
        "colab_type": "text"
      },
      "source": [
        "### Floresta aleatória de regressão"
      ]
    },
    {
      "cell_type": "code",
      "metadata": {
        "id": "dFXBgi30baaO",
        "colab_type": "code",
        "colab": {}
      },
      "source": [
        "from sklearn.ensemble import RandomForestRegressor"
      ],
      "execution_count": 0,
      "outputs": []
    },
    {
      "cell_type": "code",
      "metadata": {
        "id": "gZWdgD4dd_uA",
        "colab_type": "code",
        "outputId": "fdeb963d-1bfc-44ae-9c35-93375d3ea999",
        "colab": {
          "base_uri": "https://localhost:8080/",
          "height": 146
        }
      },
      "source": [
        "modelo5 = RandomForestRegressor()\n",
        "modelo5.fit(X_treino, Y_treino)"
      ],
      "execution_count": 0,
      "outputs": [
        {
          "output_type": "execute_result",
          "data": {
            "text/plain": [
              "RandomForestRegressor(bootstrap=True, ccp_alpha=0.0, criterion='mse',\n",
              "                      max_depth=None, max_features='auto', max_leaf_nodes=None,\n",
              "                      max_samples=None, min_impurity_decrease=0.0,\n",
              "                      min_impurity_split=None, min_samples_leaf=1,\n",
              "                      min_samples_split=2, min_weight_fraction_leaf=0.0,\n",
              "                      n_estimators=100, n_jobs=None, oob_score=False,\n",
              "                      random_state=None, verbose=0, warm_start=False)"
            ]
          },
          "metadata": {
            "tags": []
          },
          "execution_count": 9
        }
      ]
    },
    {
      "cell_type": "code",
      "metadata": {
        "id": "Yr5sSrZNeAMt",
        "colab_type": "code",
        "outputId": "30536c7f-2f19-4750-f207-c02a5e368df1",
        "colab": {
          "base_uri": "https://localhost:8080/",
          "height": 35
        }
      },
      "source": [
        "predicoes = modelo5.predict(X_teste)\n",
        "\n",
        "avaliacao5 = mean_squared_error(Y_teste, predicoes)\n",
        "\n",
        "print(f\"Minha avaliação nos dados de teste foi de {avaliacao5}\")"
      ],
      "execution_count": 0,
      "outputs": [
        {
          "output_type": "stream",
          "text": [
            "Minha avaliação nos dados de teste foi de 2211.3640697620494\n"
          ],
          "name": "stdout"
        }
      ]
    },
    {
      "cell_type": "markdown",
      "metadata": {
        "id": "wP9r_PnXjOHd",
        "colab_type": "text"
      },
      "source": [
        "### Floresta aleatória de regressão com 1000 n_estimators"
      ]
    },
    {
      "cell_type": "code",
      "metadata": {
        "id": "JpRnlRQGeACN",
        "colab_type": "code",
        "outputId": "8d876de7-9f83-4c71-b2b0-a18307b826d1",
        "colab": {
          "base_uri": "https://localhost:8080/",
          "height": 146
        }
      },
      "source": [
        "modelo6 = RandomForestRegressor(n_estimators = 1000)\n",
        "modelo6.fit(X_treino, Y_treino)"
      ],
      "execution_count": 0,
      "outputs": [
        {
          "output_type": "execute_result",
          "data": {
            "text/plain": [
              "RandomForestRegressor(bootstrap=True, ccp_alpha=0.0, criterion='mse',\n",
              "                      max_depth=None, max_features='auto', max_leaf_nodes=None,\n",
              "                      max_samples=None, min_impurity_decrease=0.0,\n",
              "                      min_impurity_split=None, min_samples_leaf=1,\n",
              "                      min_samples_split=2, min_weight_fraction_leaf=0.0,\n",
              "                      n_estimators=1000, n_jobs=None, oob_score=False,\n",
              "                      random_state=None, verbose=0, warm_start=False)"
            ]
          },
          "metadata": {
            "tags": []
          },
          "execution_count": 5
        }
      ]
    },
    {
      "cell_type": "code",
      "metadata": {
        "id": "LR4PI0PJbaJu",
        "colab_type": "code",
        "outputId": "c7677fe3-c4ae-4bce-8a31-04a8f77e107e",
        "colab": {
          "base_uri": "https://localhost:8080/",
          "height": 35
        }
      },
      "source": [
        "predicoes = modelo6.predict(X_teste)\n",
        "\n",
        "avaliacao6 = mean_squared_error(Y_teste, predicoes)\n",
        "\n",
        "print(f\"Minha avaliação nos dados de teste foi de {avaliacao6}\")"
      ],
      "execution_count": 0,
      "outputs": [
        {
          "output_type": "stream",
          "text": [
            "Minha avaliação nos dados de teste foi de 2189.6502591040453\n"
          ],
          "name": "stdout"
        }
      ]
    },
    {
      "cell_type": "markdown",
      "metadata": {
        "id": "vEOgiDTH6a-b",
        "colab_type": "text"
      },
      "source": [
        "### Floresta aleatória de regressão com 300 n_estimators"
      ]
    },
    {
      "cell_type": "code",
      "metadata": {
        "id": "lMeXUv6C6bnw",
        "colab_type": "code",
        "outputId": "1d0f1b4d-7635-4b1b-93e2-3c18032c8e4b",
        "colab": {
          "base_uri": "https://localhost:8080/",
          "height": 146
        }
      },
      "source": [
        "modelo6a = RandomForestRegressor(n_estimators = 300)\n",
        "modelo6a.fit(X_treino, Y_treino)"
      ],
      "execution_count": 0,
      "outputs": [
        {
          "output_type": "execute_result",
          "data": {
            "text/plain": [
              "RandomForestRegressor(bootstrap=True, ccp_alpha=0.0, criterion='mse',\n",
              "                      max_depth=None, max_features='auto', max_leaf_nodes=None,\n",
              "                      max_samples=None, min_impurity_decrease=0.0,\n",
              "                      min_impurity_split=None, min_samples_leaf=1,\n",
              "                      min_samples_split=2, min_weight_fraction_leaf=0.0,\n",
              "                      n_estimators=300, n_jobs=None, oob_score=False,\n",
              "                      random_state=None, verbose=0, warm_start=False)"
            ]
          },
          "metadata": {
            "tags": []
          },
          "execution_count": 7
        }
      ]
    },
    {
      "cell_type": "code",
      "metadata": {
        "id": "ONqnYrft6cFu",
        "colab_type": "code",
        "outputId": "f1bf0dda-feec-4104-c1d2-785d0bcf7cb2",
        "colab": {
          "base_uri": "https://localhost:8080/",
          "height": 35
        }
      },
      "source": [
        "predicoes = modelo6a.predict(X_teste)\n",
        "\n",
        "avaliacao6a = mean_squared_error(Y_teste, predicoes)\n",
        "\n",
        "print(f\"Minha avaliação nos dados de teste foi de {avaliacao6a}\")"
      ],
      "execution_count": 0,
      "outputs": [
        {
          "output_type": "stream",
          "text": [
            "Minha avaliação nos dados de teste foi de 2195.3279158471614\n"
          ],
          "name": "stdout"
        }
      ]
    },
    {
      "cell_type": "markdown",
      "metadata": {
        "id": "YKskC1gzkKCP",
        "colab_type": "text"
      },
      "source": [
        "### Support Vector Machine  Regression"
      ]
    },
    {
      "cell_type": "code",
      "metadata": {
        "id": "SZ8RuVEimPbd",
        "colab_type": "code",
        "colab": {}
      },
      "source": [
        "from sklearn.svm import SVR"
      ],
      "execution_count": 0,
      "outputs": []
    },
    {
      "cell_type": "code",
      "metadata": {
        "id": "Sy0PhTCqrM-K",
        "colab_type": "code",
        "colab": {}
      },
      "source": [
        "modelo7 = SVR()\n",
        "modelo7.fit(X_treino, Y_treino)"
      ],
      "execution_count": 0,
      "outputs": []
    },
    {
      "cell_type": "code",
      "metadata": {
        "id": "Q6bi4n6yitlU",
        "colab_type": "code",
        "outputId": "69d30119-15e8-4453-b1f2-85be896a6e18",
        "colab": {
          "base_uri": "https://localhost:8080/",
          "height": 35
        }
      },
      "source": [
        "predicoes = modelo7.predict(X_teste)\n",
        "\n",
        "avaliacao7 = mean_squared_error(Y_teste, predicoes)\n",
        "\n",
        "print(f\"Minha avaliação nos dados de teste foi de {avaliacao7}\")"
      ],
      "execution_count": 0,
      "outputs": [
        {
          "output_type": "stream",
          "text": [
            "Minha avaliação nos dados de teste foi de 2110.1659855384887\n"
          ],
          "name": "stdout"
        }
      ]
    },
    {
      "cell_type": "markdown",
      "metadata": {
        "id": "ChCyHjoWru3o",
        "colab_type": "text"
      },
      "source": [
        "### K-Nearest Neighbors"
      ]
    },
    {
      "cell_type": "code",
      "metadata": {
        "id": "dHieiHjditfU",
        "colab_type": "code",
        "colab": {}
      },
      "source": [
        "from sklearn.neighbors import KNeighborsRegressor"
      ],
      "execution_count": 0,
      "outputs": []
    },
    {
      "cell_type": "code",
      "metadata": {
        "id": "bbBxCRw3itYy",
        "colab_type": "code",
        "outputId": "1d05bbbd-3613-47b8-9ab0-5cf9e4f21339",
        "colab": {
          "base_uri": "https://localhost:8080/",
          "height": 72
        }
      },
      "source": [
        "modelo8 = KNeighborsRegressor()\n",
        "modelo8.fit(X_treino, Y_treino)"
      ],
      "execution_count": 0,
      "outputs": [
        {
          "output_type": "execute_result",
          "data": {
            "text/plain": [
              "KNeighborsRegressor(algorithm='auto', leaf_size=30, metric='minkowski',\n",
              "                    metric_params=None, n_jobs=None, n_neighbors=5, p=2,\n",
              "                    weights='uniform')"
            ]
          },
          "metadata": {
            "tags": []
          },
          "execution_count": 12
        }
      ]
    },
    {
      "cell_type": "code",
      "metadata": {
        "id": "Jk_ajNOwitOX",
        "colab_type": "code",
        "outputId": "a7d45950-af4e-48a4-c7b0-4dfc0c1bb040",
        "colab": {
          "base_uri": "https://localhost:8080/",
          "height": 35
        }
      },
      "source": [
        "predicoes = modelo8.predict(X_teste)\n",
        "\n",
        "avaliacao8 = mean_squared_error(Y_teste, predicoes)\n",
        "\n",
        "print(f\"Minha avaliação nos dados de teste foi de {avaliacao8}\")"
      ],
      "execution_count": 0,
      "outputs": [
        {
          "output_type": "stream",
          "text": [
            "Minha avaliação nos dados de teste foi de 2455.08526474\n"
          ],
          "name": "stdout"
        }
      ]
    },
    {
      "cell_type": "markdown",
      "metadata": {
        "id": "giFooBq2WHfv",
        "colab_type": "text"
      },
      "source": [
        "### SGDRegressor"
      ]
    },
    {
      "cell_type": "code",
      "metadata": {
        "id": "aQOfQYt6WShN",
        "colab_type": "code",
        "colab": {}
      },
      "source": [
        "from sklearn.linear_model import SGDRegressor"
      ],
      "execution_count": 0,
      "outputs": []
    },
    {
      "cell_type": "code",
      "metadata": {
        "id": "I8mWSdBHWTNU",
        "colab_type": "code",
        "outputId": "ae586530-2614-48cf-af0c-946e4f363196",
        "colab": {
          "base_uri": "https://localhost:8080/",
          "height": 184
        }
      },
      "source": [
        "modelo9 = SGDRegressor(max_iter=100)\n",
        "modelo9.fit(X_treino, Y_treino)"
      ],
      "execution_count": 0,
      "outputs": [
        {
          "output_type": "stream",
          "text": [
            "/usr/local/lib/python3.6/dist-packages/sklearn/linear_model/_stochastic_gradient.py:1187: ConvergenceWarning: Maximum number of iteration reached before convergence. Consider increasing max_iter to improve the fit.\n",
            "  ConvergenceWarning)\n"
          ],
          "name": "stderr"
        },
        {
          "output_type": "execute_result",
          "data": {
            "text/plain": [
              "SGDRegressor(alpha=0.0001, average=False, early_stopping=False, epsilon=0.1,\n",
              "             eta0=0.01, fit_intercept=True, l1_ratio=0.15,\n",
              "             learning_rate='invscaling', loss='squared_loss', max_iter=100,\n",
              "             n_iter_no_change=5, penalty='l2', power_t=0.25, random_state=None,\n",
              "             shuffle=True, tol=0.001, validation_fraction=0.1, verbose=0,\n",
              "             warm_start=False)"
            ]
          },
          "metadata": {
            "tags": []
          },
          "execution_count": 15
        }
      ]
    },
    {
      "cell_type": "code",
      "metadata": {
        "id": "9-arxwUSWW6r",
        "colab_type": "code",
        "outputId": "f88e59d0-6947-49d8-eab0-6edb60abaca2",
        "colab": {
          "base_uri": "https://localhost:8080/",
          "height": 35
        }
      },
      "source": [
        "predicoes = modelo9.predict(X_teste)\n",
        "\n",
        "avaliacao9 = mean_squared_error(Y_teste, predicoes)\n",
        "\n",
        "print(f\"Minha avaliação nos dados de teste foi de {avaliacao9}\")"
      ],
      "execution_count": 0,
      "outputs": [
        {
          "output_type": "stream",
          "text": [
            "Minha avaliação nos dados de teste foi de 4.499924936624421e+27\n"
          ],
          "name": "stdout"
        }
      ]
    },
    {
      "cell_type": "markdown",
      "metadata": {
        "id": "eYAIq5hxsSzV",
        "colab_type": "text"
      },
      "source": [
        "### K-Nearest Neighbors com distance"
      ]
    },
    {
      "cell_type": "code",
      "metadata": {
        "id": "6R_oywbpsLoG",
        "colab_type": "code",
        "outputId": "e7738a2c-59cf-4427-e535-cdb7093dc210",
        "colab": {
          "base_uri": "https://localhost:8080/",
          "height": 72
        }
      },
      "source": [
        "modelo10 = KNeighborsRegressor(weights='distance')\n",
        "modelo10.fit(X_treino, Y_treino)"
      ],
      "execution_count": 0,
      "outputs": [
        {
          "output_type": "execute_result",
          "data": {
            "text/plain": [
              "KNeighborsRegressor(algorithm='auto', leaf_size=30, metric='minkowski',\n",
              "                    metric_params=None, n_jobs=None, n_neighbors=5, p=2,\n",
              "                    weights='distance')"
            ]
          },
          "metadata": {
            "tags": []
          },
          "execution_count": 17
        }
      ]
    },
    {
      "cell_type": "code",
      "metadata": {
        "id": "gFGshBLDsL74",
        "colab_type": "code",
        "outputId": "aa5300d5-c8fa-4c26-d55e-5053936df515",
        "colab": {
          "base_uri": "https://localhost:8080/",
          "height": 35
        }
      },
      "source": [
        "predicoes = modelo10.predict(X_teste)\n",
        "\n",
        "avaliacao10 = mean_squared_error(Y_teste, predicoes)\n",
        "\n",
        "print(f\"Minha avaliação nos dados de teste foi de {avaliacao10}\")"
      ],
      "execution_count": 0,
      "outputs": [
        {
          "output_type": "stream",
          "text": [
            "Minha avaliação nos dados de teste foi de 2500.4742204537565\n"
          ],
          "name": "stdout"
        }
      ]
    },
    {
      "cell_type": "markdown",
      "metadata": {
        "id": "_h-X5PXtsyFG",
        "colab_type": "text"
      },
      "source": [
        "### XGBOOST"
      ]
    },
    {
      "cell_type": "code",
      "metadata": {
        "id": "pT_4k_YysMWt",
        "colab_type": "code",
        "colab": {}
      },
      "source": [
        "import xgboost as xgb"
      ],
      "execution_count": 0,
      "outputs": []
    },
    {
      "cell_type": "code",
      "metadata": {
        "id": "aqU5FAM_sM16",
        "colab_type": "code",
        "outputId": "98258e14-b745-4758-ff9c-ea900c9d9e3b",
        "colab": {
          "base_uri": "https://localhost:8080/",
          "height": 164
        }
      },
      "source": [
        "modelo11 = xgb.XGBRegressor()\n",
        "modelo11.fit(X_treino, Y_treino)"
      ],
      "execution_count": 0,
      "outputs": [
        {
          "output_type": "stream",
          "text": [
            "[01:16:52] WARNING: /workspace/src/objective/regression_obj.cu:152: reg:linear is now deprecated in favor of reg:squarederror.\n"
          ],
          "name": "stdout"
        },
        {
          "output_type": "execute_result",
          "data": {
            "text/plain": [
              "XGBRegressor(base_score=0.5, booster='gbtree', colsample_bylevel=1,\n",
              "             colsample_bynode=1, colsample_bytree=1, gamma=0,\n",
              "             importance_type='gain', learning_rate=0.1, max_delta_step=0,\n",
              "             max_depth=3, min_child_weight=1, missing=None, n_estimators=100,\n",
              "             n_jobs=1, nthread=None, objective='reg:linear', random_state=0,\n",
              "             reg_alpha=0, reg_lambda=1, scale_pos_weight=1, seed=None,\n",
              "             silent=None, subsample=1, verbosity=1)"
            ]
          },
          "metadata": {
            "tags": []
          },
          "execution_count": 20
        }
      ]
    },
    {
      "cell_type": "code",
      "metadata": {
        "id": "-lxZNuOYsMv6",
        "colab_type": "code",
        "outputId": "e7ede90c-0502-45f8-a43a-1170b48d9aaf",
        "colab": {
          "base_uri": "https://localhost:8080/",
          "height": 35
        }
      },
      "source": [
        "predicoes = modelo11.predict(X_teste)\n",
        "\n",
        "avaliacao11 = mean_squared_error(Y_teste, predicoes)\n",
        "\n",
        "print(f\"Minha avaliação nos dados de teste foi de {avaliacao11}\")"
      ],
      "execution_count": 0,
      "outputs": [
        {
          "output_type": "stream",
          "text": [
            "Minha avaliação nos dados de teste foi de 2046.9509425824888\n"
          ],
          "name": "stdout"
        }
      ]
    },
    {
      "cell_type": "markdown",
      "metadata": {
        "id": "cnmZav1IH0kC",
        "colab_type": "text"
      },
      "source": [
        "### Floresta aleatória de regressão com 500 n_estimators"
      ]
    },
    {
      "cell_type": "code",
      "metadata": {
        "id": "fSuOTcslsMpl",
        "colab_type": "code",
        "outputId": "dfeb256f-e440-44a4-eaf0-1b692823df05",
        "colab": {
          "base_uri": "https://localhost:8080/",
          "height": 146
        }
      },
      "source": [
        "modelo12 = RandomForestRegressor(n_estimators = 500)\n",
        "modelo12.fit(X_treino, Y_treino)"
      ],
      "execution_count": 0,
      "outputs": [
        {
          "output_type": "execute_result",
          "data": {
            "text/plain": [
              "RandomForestRegressor(bootstrap=True, ccp_alpha=0.0, criterion='mse',\n",
              "                      max_depth=None, max_features='auto', max_leaf_nodes=None,\n",
              "                      max_samples=None, min_impurity_decrease=0.0,\n",
              "                      min_impurity_split=None, min_samples_leaf=1,\n",
              "                      min_samples_split=2, min_weight_fraction_leaf=0.0,\n",
              "                      n_estimators=500, n_jobs=None, oob_score=False,\n",
              "                      random_state=None, verbose=0, warm_start=False)"
            ]
          },
          "metadata": {
            "tags": []
          },
          "execution_count": 24
        }
      ]
    },
    {
      "cell_type": "code",
      "metadata": {
        "id": "pOS1R35rsMMR",
        "colab_type": "code",
        "outputId": "19868aec-2205-4f06-fb73-bdc0790e3e9a",
        "colab": {
          "base_uri": "https://localhost:8080/",
          "height": 35
        }
      },
      "source": [
        "predicoes = modelo12.predict(X_teste)\n",
        "\n",
        "avaliacao12 = mean_squared_error(Y_teste, predicoes)\n",
        "\n",
        "print(f\"Minha avaliação nos dados de teste foi de {avaliacao12}\")"
      ],
      "execution_count": 0,
      "outputs": [
        {
          "output_type": "stream",
          "text": [
            "Minha avaliação nos dados de teste foi de 2192.1748362008016\n"
          ],
          "name": "stdout"
        }
      ]
    },
    {
      "cell_type": "markdown",
      "metadata": {
        "id": "3893gEc7appe",
        "colab_type": "text"
      },
      "source": [
        "### XGBRegressor com n_estimators = 300"
      ]
    },
    {
      "cell_type": "code",
      "metadata": {
        "id": "NqCeki2DZRq9",
        "colab_type": "code",
        "outputId": "0fd7cb7b-f9ca-4356-e1f9-f6d93099bdcd",
        "colab": {
          "base_uri": "https://localhost:8080/",
          "height": 164
        }
      },
      "source": [
        "modelo13 = xgb.XGBRegressor(base_score=0.5, n_estimators=300)\n",
        "modelo13.fit(X_treino, Y_treino)"
      ],
      "execution_count": 0,
      "outputs": [
        {
          "output_type": "stream",
          "text": [
            "[01:17:35] WARNING: /workspace/src/objective/regression_obj.cu:152: reg:linear is now deprecated in favor of reg:squarederror.\n"
          ],
          "name": "stdout"
        },
        {
          "output_type": "execute_result",
          "data": {
            "text/plain": [
              "XGBRegressor(base_score=0.5, booster='gbtree', colsample_bylevel=1,\n",
              "             colsample_bynode=1, colsample_bytree=1, gamma=0,\n",
              "             importance_type='gain', learning_rate=0.1, max_delta_step=0,\n",
              "             max_depth=3, min_child_weight=1, missing=None, n_estimators=300,\n",
              "             n_jobs=1, nthread=None, objective='reg:linear', random_state=0,\n",
              "             reg_alpha=0, reg_lambda=1, scale_pos_weight=1, seed=None,\n",
              "             silent=None, subsample=1, verbosity=1)"
            ]
          },
          "metadata": {
            "tags": []
          },
          "execution_count": 22
        }
      ]
    },
    {
      "cell_type": "code",
      "metadata": {
        "id": "C39SOEjMZSGx",
        "colab_type": "code",
        "outputId": "183623bf-53c5-48ab-d4fa-2140698c4374",
        "colab": {
          "base_uri": "https://localhost:8080/",
          "height": 35
        }
      },
      "source": [
        "predicoes = modelo13.predict(X_teste)\n",
        "\n",
        "avaliacao13 = mean_squared_error(Y_teste, predicoes)\n",
        "\n",
        "print(f\"Minha avaliação nos dados de teste foi de {avaliacao13}\")"
      ],
      "execution_count": 0,
      "outputs": [
        {
          "output_type": "stream",
          "text": [
            "Minha avaliação nos dados de teste foi de 2050.8502572781376\n"
          ],
          "name": "stdout"
        }
      ]
    },
    {
      "cell_type": "markdown",
      "metadata": {
        "id": "lZY2S5pRcusT",
        "colab_type": "text"
      },
      "source": [
        "### Regressão com redes neurais"
      ]
    },
    {
      "cell_type": "code",
      "metadata": {
        "id": "ez2TAH2Bcy8X",
        "colab_type": "code",
        "outputId": "e7d57620-dde1-4ab7-87c1-0f69360380d8",
        "colab": {
          "base_uri": "https://localhost:8080/",
          "height": 164
        }
      },
      "source": [
        "from sklearn.neural_network import MLPRegressor\n",
        "\n",
        "modelo14 = MLPRegressor()\n",
        "modelo14.fit(X_treino, Y_treino)"
      ],
      "execution_count": 0,
      "outputs": [
        {
          "output_type": "execute_result",
          "data": {
            "text/plain": [
              "MLPRegressor(activation='relu', alpha=0.0001, batch_size='auto', beta_1=0.9,\n",
              "             beta_2=0.999, early_stopping=False, epsilon=1e-08,\n",
              "             hidden_layer_sizes=(100,), learning_rate='constant',\n",
              "             learning_rate_init=0.001, max_fun=15000, max_iter=200,\n",
              "             momentum=0.9, n_iter_no_change=10, nesterovs_momentum=True,\n",
              "             power_t=0.5, random_state=None, shuffle=True, solver='adam',\n",
              "             tol=0.0001, validation_fraction=0.1, verbose=False,\n",
              "             warm_start=False)"
            ]
          },
          "metadata": {
            "tags": []
          },
          "execution_count": 36
        }
      ]
    },
    {
      "cell_type": "code",
      "metadata": {
        "id": "Kf1hV729czb0",
        "colab_type": "code",
        "outputId": "58e0d357-e500-4225-88ea-147fdec8c83b",
        "colab": {
          "base_uri": "https://localhost:8080/",
          "height": 35
        }
      },
      "source": [
        "predicoes = modelo14.predict(X_teste)\n",
        "\n",
        "avaliacao14 = mean_squared_error(Y_teste, predicoes)\n",
        "\n",
        "print(f\"Minha avaliação nos dados de teste foi de {avaliacao14}\")"
      ],
      "execution_count": 0,
      "outputs": [
        {
          "output_type": "stream",
          "text": [
            "Minha avaliação nos dados de teste foi de 2169.0016730795314\n"
          ],
          "name": "stdout"
        }
      ]
    },
    {
      "cell_type": "markdown",
      "metadata": {
        "id": "Rkb5X4UTkBD1",
        "colab_type": "text"
      },
      "source": [
        "Comparando os modelos utilizados vendo qual deles apresentou o menor erro quadrático médio (MSE) através da função *min()*."
      ]
    },
    {
      "cell_type": "code",
      "metadata": {
        "id": "jW8B0nkgXqQ6",
        "colab_type": "code",
        "outputId": "39d0ee82-32c3-4c73-ab06-0012301687f2",
        "colab": {
          "base_uri": "https://localhost:8080/",
          "height": 35
        }
      },
      "source": [
        "min(avaliacao1, avaliacao2, avaliacao3, avaliacao4, avaliacao5, avaliacao6, avaliacao7, avaliacao8, avaliacao9, avaliacao10, avaliacao11, avaliacao12, avaliacao13, avaliacao14)"
      ],
      "execution_count": 0,
      "outputs": [
        {
          "output_type": "execute_result",
          "data": {
            "text/plain": [
              "2046.9509425824888"
            ]
          },
          "metadata": {
            "tags": []
          },
          "execution_count": 99
        }
      ]
    },
    {
      "cell_type": "markdown",
      "metadata": {
        "id": "LvElo1iwjVSp",
        "colab_type": "text"
      },
      "source": [
        "Conforme resultado da linha acima, o melhor modelo foi XGBOOST."
      ]
    },
    {
      "cell_type": "markdown",
      "metadata": {
        "id": "BeVvCsY9bW7W",
        "colab_type": "text"
      },
      "source": [
        "## Gerando arquivo CSV do modelo com melhor desempenho"
      ]
    },
    {
      "cell_type": "code",
      "metadata": {
        "id": "F5_zbGU1EQm4",
        "colab_type": "code",
        "colab": {}
      },
      "source": [
        "#atribuir ao MODELO o nome do seu melhor modelo\n",
        "from google.colab import files\n",
        "\n",
        "MODELO = modelo11 #modelo_dummy\n",
        "X_desafioqt = dados_desafioqt[coluna_features].to_numpy()\n",
        "predicao_desafioqt = MODELO.predict(X_desafioqt)\n",
        "\n",
        "\n",
        "desafio_df = pd.DataFrame(dados_desafioqt.ID)\n",
        "desafio_df[coluna_label] = predicao_desafioqt\n",
        "\n",
        "#NÃO TROCAR O NOME DO ARQUIVO DE SAÍDA (PREDICAO_DESAFIO)\n",
        "desafio_df.to_csv('PREDICAO_DESAFIOQT.csv', index=False) \n",
        "files.download('PREDICAO_DESAFIOQT.csv')\n",
        "\n"
      ],
      "execution_count": 0,
      "outputs": []
    },
    {
      "cell_type": "code",
      "metadata": {
        "id": "CfesTzVOi4Vf",
        "colab_type": "code",
        "colab": {}
      },
      "source": [
        ""
      ],
      "execution_count": 0,
      "outputs": []
    }
  ]
}